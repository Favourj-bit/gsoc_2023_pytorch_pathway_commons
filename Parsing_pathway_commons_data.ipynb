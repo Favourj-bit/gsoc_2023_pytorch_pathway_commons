{
  "nbformat": 4,
  "nbformat_minor": 0,
  "metadata": {
    "colab": {
      "provenance": [],
      "authorship_tag": "ABX9TyPAVmi5GCP2IMoQlpaxl+LP",
      "include_colab_link": true
    },
    "kernelspec": {
      "name": "python3",
      "display_name": "Python 3"
    },
    "language_info": {
      "name": "python"
    }
  },
  "cells": [
    {
      "cell_type": "markdown",
      "metadata": {
        "id": "view-in-github",
        "colab_type": "text"
      },
      "source": [
        "<a href=\"https://colab.research.google.com/github/Favourj-bit/gsoc_2023_pytorch_pathway_commons/blob/main/Parsing_pathway_commons_data.ipynb\" target=\"_parent\"><img src=\"https://colab.research.google.com/assets/colab-badge.svg\" alt=\"Open In Colab\"/></a>"
      ]
    },
    {
      "cell_type": "code",
      "execution_count": 1,
      "metadata": {
        "id": "qU2QnyrjtNXd"
      },
      "outputs": [],
      "source": [
        "import numpy as np \n",
        "import pandas as pd"
      ]
    },
    {
      "cell_type": "code",
      "source": [
        "path = \"/content/PathwayCommons12.reactome.hgnc.sif.gz\"\n",
        "df = pd.read_csv(path, sep=\"\\t\", compression=\"gzip\", usecols=[0, 1, 2], names=[\"Source\", \"InteractionType\", \"Target\"])\n"
      ],
      "metadata": {
        "id": "yO-DeowgtSws"
      },
      "execution_count": 5,
      "outputs": []
    },
    {
      "cell_type": "code",
      "source": [
        "df.sample(10)"
      ],
      "metadata": {
        "colab": {
          "base_uri": "https://localhost:8080/",
          "height": 363
        },
        "id": "9LQ5iZ-vtuj1",
        "outputId": "caf4442f-aa85-46b5-d229-85dbb5706ab5"
      },
      "execution_count": 9,
      "outputs": [
        {
          "output_type": "execute_result",
          "data": {
            "text/plain": [
              "             Source            InteractionType    Target\n",
              "349802        UNC80         catalysis-precedes   SLC38A5\n",
              "37627        CACNG2         catalysis-precedes     VDAC3\n",
              "240146       NDUFA1            in-complex-with    NDUFB2\n",
              "43833          CBX8            in-complex-with  HIST1H4L\n",
              "139840         GAB1            in-complex-with      GRB2\n",
              "41222         CAPZB            in-complex-with    GALNT1\n",
              "276405        PSMA3   controls-state-change-of    CD40LG\n",
              "292547         RHOG   controls-state-change-of     GRAP2\n",
              "78289   CHEBI:62927  consumption-controlled-by     NUDT4\n",
              "253458       PAPOLA            in-complex-with    SRSF11"
            ],
            "text/html": [
              "\n",
              "  <div id=\"df-42deed9e-de30-4410-891a-98bad3d92063\">\n",
              "    <div class=\"colab-df-container\">\n",
              "      <div>\n",
              "<style scoped>\n",
              "    .dataframe tbody tr th:only-of-type {\n",
              "        vertical-align: middle;\n",
              "    }\n",
              "\n",
              "    .dataframe tbody tr th {\n",
              "        vertical-align: top;\n",
              "    }\n",
              "\n",
              "    .dataframe thead th {\n",
              "        text-align: right;\n",
              "    }\n",
              "</style>\n",
              "<table border=\"1\" class=\"dataframe\">\n",
              "  <thead>\n",
              "    <tr style=\"text-align: right;\">\n",
              "      <th></th>\n",
              "      <th>Source</th>\n",
              "      <th>InteractionType</th>\n",
              "      <th>Target</th>\n",
              "    </tr>\n",
              "  </thead>\n",
              "  <tbody>\n",
              "    <tr>\n",
              "      <th>349802</th>\n",
              "      <td>UNC80</td>\n",
              "      <td>catalysis-precedes</td>\n",
              "      <td>SLC38A5</td>\n",
              "    </tr>\n",
              "    <tr>\n",
              "      <th>37627</th>\n",
              "      <td>CACNG2</td>\n",
              "      <td>catalysis-precedes</td>\n",
              "      <td>VDAC3</td>\n",
              "    </tr>\n",
              "    <tr>\n",
              "      <th>240146</th>\n",
              "      <td>NDUFA1</td>\n",
              "      <td>in-complex-with</td>\n",
              "      <td>NDUFB2</td>\n",
              "    </tr>\n",
              "    <tr>\n",
              "      <th>43833</th>\n",
              "      <td>CBX8</td>\n",
              "      <td>in-complex-with</td>\n",
              "      <td>HIST1H4L</td>\n",
              "    </tr>\n",
              "    <tr>\n",
              "      <th>139840</th>\n",
              "      <td>GAB1</td>\n",
              "      <td>in-complex-with</td>\n",
              "      <td>GRB2</td>\n",
              "    </tr>\n",
              "    <tr>\n",
              "      <th>41222</th>\n",
              "      <td>CAPZB</td>\n",
              "      <td>in-complex-with</td>\n",
              "      <td>GALNT1</td>\n",
              "    </tr>\n",
              "    <tr>\n",
              "      <th>276405</th>\n",
              "      <td>PSMA3</td>\n",
              "      <td>controls-state-change-of</td>\n",
              "      <td>CD40LG</td>\n",
              "    </tr>\n",
              "    <tr>\n",
              "      <th>292547</th>\n",
              "      <td>RHOG</td>\n",
              "      <td>controls-state-change-of</td>\n",
              "      <td>GRAP2</td>\n",
              "    </tr>\n",
              "    <tr>\n",
              "      <th>78289</th>\n",
              "      <td>CHEBI:62927</td>\n",
              "      <td>consumption-controlled-by</td>\n",
              "      <td>NUDT4</td>\n",
              "    </tr>\n",
              "    <tr>\n",
              "      <th>253458</th>\n",
              "      <td>PAPOLA</td>\n",
              "      <td>in-complex-with</td>\n",
              "      <td>SRSF11</td>\n",
              "    </tr>\n",
              "  </tbody>\n",
              "</table>\n",
              "</div>\n",
              "      <button class=\"colab-df-convert\" onclick=\"convertToInteractive('df-42deed9e-de30-4410-891a-98bad3d92063')\"\n",
              "              title=\"Convert this dataframe to an interactive table.\"\n",
              "              style=\"display:none;\">\n",
              "        \n",
              "  <svg xmlns=\"http://www.w3.org/2000/svg\" height=\"24px\"viewBox=\"0 0 24 24\"\n",
              "       width=\"24px\">\n",
              "    <path d=\"M0 0h24v24H0V0z\" fill=\"none\"/>\n",
              "    <path d=\"M18.56 5.44l.94 2.06.94-2.06 2.06-.94-2.06-.94-.94-2.06-.94 2.06-2.06.94zm-11 1L8.5 8.5l.94-2.06 2.06-.94-2.06-.94L8.5 2.5l-.94 2.06-2.06.94zm10 10l.94 2.06.94-2.06 2.06-.94-2.06-.94-.94-2.06-.94 2.06-2.06.94z\"/><path d=\"M17.41 7.96l-1.37-1.37c-.4-.4-.92-.59-1.43-.59-.52 0-1.04.2-1.43.59L10.3 9.45l-7.72 7.72c-.78.78-.78 2.05 0 2.83L4 21.41c.39.39.9.59 1.41.59.51 0 1.02-.2 1.41-.59l7.78-7.78 2.81-2.81c.8-.78.8-2.07 0-2.86zM5.41 20L4 18.59l7.72-7.72 1.47 1.35L5.41 20z\"/>\n",
              "  </svg>\n",
              "      </button>\n",
              "      \n",
              "  <style>\n",
              "    .colab-df-container {\n",
              "      display:flex;\n",
              "      flex-wrap:wrap;\n",
              "      gap: 12px;\n",
              "    }\n",
              "\n",
              "    .colab-df-convert {\n",
              "      background-color: #E8F0FE;\n",
              "      border: none;\n",
              "      border-radius: 50%;\n",
              "      cursor: pointer;\n",
              "      display: none;\n",
              "      fill: #1967D2;\n",
              "      height: 32px;\n",
              "      padding: 0 0 0 0;\n",
              "      width: 32px;\n",
              "    }\n",
              "\n",
              "    .colab-df-convert:hover {\n",
              "      background-color: #E2EBFA;\n",
              "      box-shadow: 0px 1px 2px rgba(60, 64, 67, 0.3), 0px 1px 3px 1px rgba(60, 64, 67, 0.15);\n",
              "      fill: #174EA6;\n",
              "    }\n",
              "\n",
              "    [theme=dark] .colab-df-convert {\n",
              "      background-color: #3B4455;\n",
              "      fill: #D2E3FC;\n",
              "    }\n",
              "\n",
              "    [theme=dark] .colab-df-convert:hover {\n",
              "      background-color: #434B5C;\n",
              "      box-shadow: 0px 1px 3px 1px rgba(0, 0, 0, 0.15);\n",
              "      filter: drop-shadow(0px 1px 2px rgba(0, 0, 0, 0.3));\n",
              "      fill: #FFFFFF;\n",
              "    }\n",
              "  </style>\n",
              "\n",
              "      <script>\n",
              "        const buttonEl =\n",
              "          document.querySelector('#df-42deed9e-de30-4410-891a-98bad3d92063 button.colab-df-convert');\n",
              "        buttonEl.style.display =\n",
              "          google.colab.kernel.accessAllowed ? 'block' : 'none';\n",
              "\n",
              "        async function convertToInteractive(key) {\n",
              "          const element = document.querySelector('#df-42deed9e-de30-4410-891a-98bad3d92063');\n",
              "          const dataTable =\n",
              "            await google.colab.kernel.invokeFunction('convertToInteractive',\n",
              "                                                     [key], {});\n",
              "          if (!dataTable) return;\n",
              "\n",
              "          const docLinkHtml = 'Like what you see? Visit the ' +\n",
              "            '<a target=\"_blank\" href=https://colab.research.google.com/notebooks/data_table.ipynb>data table notebook</a>'\n",
              "            + ' to learn more about interactive tables.';\n",
              "          element.innerHTML = '';\n",
              "          dataTable['output_type'] = 'display_data';\n",
              "          await google.colab.output.renderOutput(dataTable, element);\n",
              "          const docLink = document.createElement('div');\n",
              "          docLink.innerHTML = docLinkHtml;\n",
              "          element.appendChild(docLink);\n",
              "        }\n",
              "      </script>\n",
              "    </div>\n",
              "  </div>\n",
              "  "
            ]
          },
          "metadata": {},
          "execution_count": 9
        }
      ]
    },
    {
      "cell_type": "code",
      "source": [
        "df.shape"
      ],
      "metadata": {
        "colab": {
          "base_uri": "https://localhost:8080/"
        },
        "id": "AqH3MzJzt_n_",
        "outputId": "d037c05f-ecdb-4718-9ec3-c1d5284ddc99"
      },
      "execution_count": 7,
      "outputs": [
        {
          "output_type": "execute_result",
          "data": {
            "text/plain": [
              "(353636, 3)"
            ]
          },
          "metadata": {},
          "execution_count": 7
        }
      ]
    },
    {
      "cell_type": "code",
      "source": [],
      "metadata": {
        "id": "fEPtiMPJuB4F"
      },
      "execution_count": 4,
      "outputs": []
    }
  ]
}