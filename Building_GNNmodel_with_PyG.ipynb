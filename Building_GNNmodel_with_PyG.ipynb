{
  "nbformat": 4,
  "nbformat_minor": 0,
  "metadata": {
    "colab": {
      "provenance": [],
      "gpuType": "T4",
      "include_colab_link": true
    },
    "kernelspec": {
      "name": "python3",
      "display_name": "Python 3"
    },
    "language_info": {
      "name": "python"
    },
    "accelerator": "GPU"
  },
  "cells": [
    {
      "cell_type": "markdown",
      "metadata": {
        "id": "view-in-github",
        "colab_type": "text"
      },
      "source": [
        "<a href=\"https://colab.research.google.com/github/cannin/gsoc_2023_pytorch_pathway_commons/blob/main/Building_GNNmodel_with_PyG.ipynb\" target=\"_parent\"><img src=\"https://colab.research.google.com/assets/colab-badge.svg\" alt=\"Open In Colab\"/></a>"
      ]
    },
    {
      "cell_type": "code",
      "source": [
        "#!pip install torch-geometric"
      ],
      "metadata": {
        "id": "OE2xc7If0ZCT"
      },
      "execution_count": 10,
      "outputs": []
    },
    {
      "cell_type": "markdown",
      "source": [
        "# Importing Data and Libraries"
      ],
      "metadata": {
        "id": "6T-0DTo_3DLk"
      }
    },
    {
      "cell_type": "code",
      "execution_count": 11,
      "metadata": {
        "id": "Wy1Dc5Z9vGE8"
      },
      "outputs": [],
      "source": [
        "import pandas as pd\n",
        "import numpy as np\n",
        "import torch\n",
        "from torch_geometric.data import Data\n",
        "from sklearn.model_selection import train_test_split"
      ]
    },
    {
      "cell_type": "code",
      "source": [
        "from google.colab import drive\n",
        "drive.mount('/content/drive')"
      ],
      "metadata": {
        "colab": {
          "base_uri": "https://localhost:8080/"
        },
        "id": "XqS-T3j6eTXs",
        "outputId": "70c54b2c-9b2a-4e20-fbb9-9aedda77ee71"
      },
      "execution_count": 12,
      "outputs": [
        {
          "output_type": "stream",
          "name": "stdout",
          "text": [
            "Drive already mounted at /content/drive; to attempt to forcibly remount, call drive.mount(\"/content/drive\", force_remount=True).\n"
          ]
        }
      ]
    },
    {
      "cell_type": "code",
      "source": [
        "cBio = pd.read_csv('/content/drive/MyDrive/gsoc data/cBio.csv')"
      ],
      "metadata": {
        "id": "QQOFmd9l0XZg"
      },
      "execution_count": 13,
      "outputs": []
    },
    {
      "cell_type": "code",
      "source": [
        "cBio = cBio.set_index('Sample Identifier')\n",
        "cBio.index.name = None\n",
        "cBio.head(2)"
      ],
      "metadata": {
        "colab": {
          "base_uri": "https://localhost:8080/",
          "height": 344
        },
        "id": "_eqxj5HV6b2F",
        "outputId": "d8340825-5b0d-42c2-c3fd-8d227de11cba"
      },
      "execution_count": 14,
      "outputs": [
        {
          "output_type": "execute_result",
          "data": {
            "text/plain": [
              "                 Overall Survival (Months)    NUDT18     SHC3  NCRNA00112  \\\n",
              "TCGA-OR-A5J1-01                  44.547457   85.0144  97.5024         0.0   \n",
              "TCGA-OR-A5J2-01                  55.133642  165.8840  92.6050         0.0   \n",
              "\n",
              "                  FAM49B  FMO6P   BAT2L2    SIRT1  MSLNL    ATG4A  ...  \\\n",
              "TCGA-OR-A5J1-01  671.950    0.0  2428.43  462.056    0.0  385.687  ...   \n",
              "TCGA-OR-A5J2-01  812.911    0.0  5097.30  669.977    0.0  547.980  ...   \n",
              "\n",
              "                 SCARNA6  SNORD77    TLR10  GKN2   PCDHGB4    ZMAT5    AXIN2  \\\n",
              "TCGA-OR-A5J1-01   0.0000      0.0  12.0077   0.0   17.2911  913.535   547.55   \n",
              "TCGA-OR-A5J2-01   0.4026      0.0   0.8053   0.0  268.9890  303.978  1793.32   \n",
              "\n",
              "                  LONRF1  KLHL10  C12orf36  \n",
              "TCGA-OR-A5J1-01  363.112  1.9212       0.0  \n",
              "TCGA-OR-A5J2-01  592.672  0.0000       0.0  \n",
              "\n",
              "[2 rows x 20512 columns]"
            ],
            "text/html": [
              "\n",
              "  <div id=\"df-c043d790-f53f-4f56-ac95-96d44df35c64\">\n",
              "    <div class=\"colab-df-container\">\n",
              "      <div>\n",
              "<style scoped>\n",
              "    .dataframe tbody tr th:only-of-type {\n",
              "        vertical-align: middle;\n",
              "    }\n",
              "\n",
              "    .dataframe tbody tr th {\n",
              "        vertical-align: top;\n",
              "    }\n",
              "\n",
              "    .dataframe thead th {\n",
              "        text-align: right;\n",
              "    }\n",
              "</style>\n",
              "<table border=\"1\" class=\"dataframe\">\n",
              "  <thead>\n",
              "    <tr style=\"text-align: right;\">\n",
              "      <th></th>\n",
              "      <th>Overall Survival (Months)</th>\n",
              "      <th>NUDT18</th>\n",
              "      <th>SHC3</th>\n",
              "      <th>NCRNA00112</th>\n",
              "      <th>FAM49B</th>\n",
              "      <th>FMO6P</th>\n",
              "      <th>BAT2L2</th>\n",
              "      <th>SIRT1</th>\n",
              "      <th>MSLNL</th>\n",
              "      <th>ATG4A</th>\n",
              "      <th>...</th>\n",
              "      <th>SCARNA6</th>\n",
              "      <th>SNORD77</th>\n",
              "      <th>TLR10</th>\n",
              "      <th>GKN2</th>\n",
              "      <th>PCDHGB4</th>\n",
              "      <th>ZMAT5</th>\n",
              "      <th>AXIN2</th>\n",
              "      <th>LONRF1</th>\n",
              "      <th>KLHL10</th>\n",
              "      <th>C12orf36</th>\n",
              "    </tr>\n",
              "  </thead>\n",
              "  <tbody>\n",
              "    <tr>\n",
              "      <th>TCGA-OR-A5J1-01</th>\n",
              "      <td>44.547457</td>\n",
              "      <td>85.0144</td>\n",
              "      <td>97.5024</td>\n",
              "      <td>0.0</td>\n",
              "      <td>671.950</td>\n",
              "      <td>0.0</td>\n",
              "      <td>2428.43</td>\n",
              "      <td>462.056</td>\n",
              "      <td>0.0</td>\n",
              "      <td>385.687</td>\n",
              "      <td>...</td>\n",
              "      <td>0.0000</td>\n",
              "      <td>0.0</td>\n",
              "      <td>12.0077</td>\n",
              "      <td>0.0</td>\n",
              "      <td>17.2911</td>\n",
              "      <td>913.535</td>\n",
              "      <td>547.55</td>\n",
              "      <td>363.112</td>\n",
              "      <td>1.9212</td>\n",
              "      <td>0.0</td>\n",
              "    </tr>\n",
              "    <tr>\n",
              "      <th>TCGA-OR-A5J2-01</th>\n",
              "      <td>55.133642</td>\n",
              "      <td>165.8840</td>\n",
              "      <td>92.6050</td>\n",
              "      <td>0.0</td>\n",
              "      <td>812.911</td>\n",
              "      <td>0.0</td>\n",
              "      <td>5097.30</td>\n",
              "      <td>669.977</td>\n",
              "      <td>0.0</td>\n",
              "      <td>547.980</td>\n",
              "      <td>...</td>\n",
              "      <td>0.4026</td>\n",
              "      <td>0.0</td>\n",
              "      <td>0.8053</td>\n",
              "      <td>0.0</td>\n",
              "      <td>268.9890</td>\n",
              "      <td>303.978</td>\n",
              "      <td>1793.32</td>\n",
              "      <td>592.672</td>\n",
              "      <td>0.0000</td>\n",
              "      <td>0.0</td>\n",
              "    </tr>\n",
              "  </tbody>\n",
              "</table>\n",
              "<p>2 rows × 20512 columns</p>\n",
              "</div>\n",
              "      <button class=\"colab-df-convert\" onclick=\"convertToInteractive('df-c043d790-f53f-4f56-ac95-96d44df35c64')\"\n",
              "              title=\"Convert this dataframe to an interactive table.\"\n",
              "              style=\"display:none;\">\n",
              "        \n",
              "  <svg xmlns=\"http://www.w3.org/2000/svg\" height=\"24px\"viewBox=\"0 0 24 24\"\n",
              "       width=\"24px\">\n",
              "    <path d=\"M0 0h24v24H0V0z\" fill=\"none\"/>\n",
              "    <path d=\"M18.56 5.44l.94 2.06.94-2.06 2.06-.94-2.06-.94-.94-2.06-.94 2.06-2.06.94zm-11 1L8.5 8.5l.94-2.06 2.06-.94-2.06-.94L8.5 2.5l-.94 2.06-2.06.94zm10 10l.94 2.06.94-2.06 2.06-.94-2.06-.94-.94-2.06-.94 2.06-2.06.94z\"/><path d=\"M17.41 7.96l-1.37-1.37c-.4-.4-.92-.59-1.43-.59-.52 0-1.04.2-1.43.59L10.3 9.45l-7.72 7.72c-.78.78-.78 2.05 0 2.83L4 21.41c.39.39.9.59 1.41.59.51 0 1.02-.2 1.41-.59l7.78-7.78 2.81-2.81c.8-.78.8-2.07 0-2.86zM5.41 20L4 18.59l7.72-7.72 1.47 1.35L5.41 20z\"/>\n",
              "  </svg>\n",
              "      </button>\n",
              "      \n",
              "  <style>\n",
              "    .colab-df-container {\n",
              "      display:flex;\n",
              "      flex-wrap:wrap;\n",
              "      gap: 12px;\n",
              "    }\n",
              "\n",
              "    .colab-df-convert {\n",
              "      background-color: #E8F0FE;\n",
              "      border: none;\n",
              "      border-radius: 50%;\n",
              "      cursor: pointer;\n",
              "      display: none;\n",
              "      fill: #1967D2;\n",
              "      height: 32px;\n",
              "      padding: 0 0 0 0;\n",
              "      width: 32px;\n",
              "    }\n",
              "\n",
              "    .colab-df-convert:hover {\n",
              "      background-color: #E2EBFA;\n",
              "      box-shadow: 0px 1px 2px rgba(60, 64, 67, 0.3), 0px 1px 3px 1px rgba(60, 64, 67, 0.15);\n",
              "      fill: #174EA6;\n",
              "    }\n",
              "\n",
              "    [theme=dark] .colab-df-convert {\n",
              "      background-color: #3B4455;\n",
              "      fill: #D2E3FC;\n",
              "    }\n",
              "\n",
              "    [theme=dark] .colab-df-convert:hover {\n",
              "      background-color: #434B5C;\n",
              "      box-shadow: 0px 1px 3px 1px rgba(0, 0, 0, 0.15);\n",
              "      filter: drop-shadow(0px 1px 2px rgba(0, 0, 0, 0.3));\n",
              "      fill: #FFFFFF;\n",
              "    }\n",
              "  </style>\n",
              "\n",
              "      <script>\n",
              "        const buttonEl =\n",
              "          document.querySelector('#df-c043d790-f53f-4f56-ac95-96d44df35c64 button.colab-df-convert');\n",
              "        buttonEl.style.display =\n",
              "          google.colab.kernel.accessAllowed ? 'block' : 'none';\n",
              "\n",
              "        async function convertToInteractive(key) {\n",
              "          const element = document.querySelector('#df-c043d790-f53f-4f56-ac95-96d44df35c64');\n",
              "          const dataTable =\n",
              "            await google.colab.kernel.invokeFunction('convertToInteractive',\n",
              "                                                     [key], {});\n",
              "          if (!dataTable) return;\n",
              "\n",
              "          const docLinkHtml = 'Like what you see? Visit the ' +\n",
              "            '<a target=\"_blank\" href=https://colab.research.google.com/notebooks/data_table.ipynb>data table notebook</a>'\n",
              "            + ' to learn more about interactive tables.';\n",
              "          element.innerHTML = '';\n",
              "          dataTable['output_type'] = 'display_data';\n",
              "          await google.colab.output.renderOutput(dataTable, element);\n",
              "          const docLink = document.createElement('div');\n",
              "          docLink.innerHTML = docLinkHtml;\n",
              "          element.appendChild(docLink);\n",
              "        }\n",
              "      </script>\n",
              "    </div>\n",
              "  </div>\n",
              "  "
            ]
          },
          "metadata": {},
          "execution_count": 14
        }
      ]
    },
    {
      "cell_type": "code",
      "source": [
        "y = np.array(cBio['Overall Survival (Months)'], dtype=float)\n",
        "X = cBio.drop('Overall Survival (Months)', axis=1)"
      ],
      "metadata": {
        "id": "qqVJxhDoe0SW"
      },
      "execution_count": 15,
      "outputs": []
    },
    {
      "cell_type": "code",
      "source": [
        "path = \"/content/drive/MyDrive/gsoc data/PathwayCommons12.reactome.hgnc.sif.gz\"  \n",
        "\n",
        "\n",
        "#specify compression type because the file is compressed\n",
        "df = pd.read_csv(path, sep=\"\\t\", compression=\"gzip\", header=None, names=[\"Source\", \"InteractionType\", \"Target\"])"
      ],
      "metadata": {
        "id": "h2FVAe724Jd2"
      },
      "execution_count": 16,
      "outputs": []
    },
    {
      "cell_type": "code",
      "source": [
        "df = df.drop(columns='InteractionType')"
      ],
      "metadata": {
        "id": "-AGfsNU452Zm"
      },
      "execution_count": 17,
      "outputs": []
    },
    {
      "cell_type": "code",
      "source": [
        "df.head()"
      ],
      "metadata": {
        "colab": {
          "base_uri": "https://localhost:8080/",
          "height": 206
        },
        "id": "MR-hGnfotMG8",
        "outputId": "f6419cf6-e0f0-4a4c-bf85-0d400152c913"
      },
      "execution_count": 18,
      "outputs": [
        {
          "output_type": "execute_result",
          "data": {
            "text/plain": [
              "  Source    Target\n",
              "0   A1CF   APOBEC1\n",
              "1   A1CF   APOBEC2\n",
              "2   A1CF  APOBEC3A\n",
              "3   A1CF  APOBEC3B\n",
              "4   A1CF  APOBEC3C"
            ],
            "text/html": [
              "\n",
              "  <div id=\"df-fd38a438-241b-454c-9004-cb515952c239\">\n",
              "    <div class=\"colab-df-container\">\n",
              "      <div>\n",
              "<style scoped>\n",
              "    .dataframe tbody tr th:only-of-type {\n",
              "        vertical-align: middle;\n",
              "    }\n",
              "\n",
              "    .dataframe tbody tr th {\n",
              "        vertical-align: top;\n",
              "    }\n",
              "\n",
              "    .dataframe thead th {\n",
              "        text-align: right;\n",
              "    }\n",
              "</style>\n",
              "<table border=\"1\" class=\"dataframe\">\n",
              "  <thead>\n",
              "    <tr style=\"text-align: right;\">\n",
              "      <th></th>\n",
              "      <th>Source</th>\n",
              "      <th>Target</th>\n",
              "    </tr>\n",
              "  </thead>\n",
              "  <tbody>\n",
              "    <tr>\n",
              "      <th>0</th>\n",
              "      <td>A1CF</td>\n",
              "      <td>APOBEC1</td>\n",
              "    </tr>\n",
              "    <tr>\n",
              "      <th>1</th>\n",
              "      <td>A1CF</td>\n",
              "      <td>APOBEC2</td>\n",
              "    </tr>\n",
              "    <tr>\n",
              "      <th>2</th>\n",
              "      <td>A1CF</td>\n",
              "      <td>APOBEC3A</td>\n",
              "    </tr>\n",
              "    <tr>\n",
              "      <th>3</th>\n",
              "      <td>A1CF</td>\n",
              "      <td>APOBEC3B</td>\n",
              "    </tr>\n",
              "    <tr>\n",
              "      <th>4</th>\n",
              "      <td>A1CF</td>\n",
              "      <td>APOBEC3C</td>\n",
              "    </tr>\n",
              "  </tbody>\n",
              "</table>\n",
              "</div>\n",
              "      <button class=\"colab-df-convert\" onclick=\"convertToInteractive('df-fd38a438-241b-454c-9004-cb515952c239')\"\n",
              "              title=\"Convert this dataframe to an interactive table.\"\n",
              "              style=\"display:none;\">\n",
              "        \n",
              "  <svg xmlns=\"http://www.w3.org/2000/svg\" height=\"24px\"viewBox=\"0 0 24 24\"\n",
              "       width=\"24px\">\n",
              "    <path d=\"M0 0h24v24H0V0z\" fill=\"none\"/>\n",
              "    <path d=\"M18.56 5.44l.94 2.06.94-2.06 2.06-.94-2.06-.94-.94-2.06-.94 2.06-2.06.94zm-11 1L8.5 8.5l.94-2.06 2.06-.94-2.06-.94L8.5 2.5l-.94 2.06-2.06.94zm10 10l.94 2.06.94-2.06 2.06-.94-2.06-.94-.94-2.06-.94 2.06-2.06.94z\"/><path d=\"M17.41 7.96l-1.37-1.37c-.4-.4-.92-.59-1.43-.59-.52 0-1.04.2-1.43.59L10.3 9.45l-7.72 7.72c-.78.78-.78 2.05 0 2.83L4 21.41c.39.39.9.59 1.41.59.51 0 1.02-.2 1.41-.59l7.78-7.78 2.81-2.81c.8-.78.8-2.07 0-2.86zM5.41 20L4 18.59l7.72-7.72 1.47 1.35L5.41 20z\"/>\n",
              "  </svg>\n",
              "      </button>\n",
              "      \n",
              "  <style>\n",
              "    .colab-df-container {\n",
              "      display:flex;\n",
              "      flex-wrap:wrap;\n",
              "      gap: 12px;\n",
              "    }\n",
              "\n",
              "    .colab-df-convert {\n",
              "      background-color: #E8F0FE;\n",
              "      border: none;\n",
              "      border-radius: 50%;\n",
              "      cursor: pointer;\n",
              "      display: none;\n",
              "      fill: #1967D2;\n",
              "      height: 32px;\n",
              "      padding: 0 0 0 0;\n",
              "      width: 32px;\n",
              "    }\n",
              "\n",
              "    .colab-df-convert:hover {\n",
              "      background-color: #E2EBFA;\n",
              "      box-shadow: 0px 1px 2px rgba(60, 64, 67, 0.3), 0px 1px 3px 1px rgba(60, 64, 67, 0.15);\n",
              "      fill: #174EA6;\n",
              "    }\n",
              "\n",
              "    [theme=dark] .colab-df-convert {\n",
              "      background-color: #3B4455;\n",
              "      fill: #D2E3FC;\n",
              "    }\n",
              "\n",
              "    [theme=dark] .colab-df-convert:hover {\n",
              "      background-color: #434B5C;\n",
              "      box-shadow: 0px 1px 3px 1px rgba(0, 0, 0, 0.15);\n",
              "      filter: drop-shadow(0px 1px 2px rgba(0, 0, 0, 0.3));\n",
              "      fill: #FFFFFF;\n",
              "    }\n",
              "  </style>\n",
              "\n",
              "      <script>\n",
              "        const buttonEl =\n",
              "          document.querySelector('#df-fd38a438-241b-454c-9004-cb515952c239 button.colab-df-convert');\n",
              "        buttonEl.style.display =\n",
              "          google.colab.kernel.accessAllowed ? 'block' : 'none';\n",
              "\n",
              "        async function convertToInteractive(key) {\n",
              "          const element = document.querySelector('#df-fd38a438-241b-454c-9004-cb515952c239');\n",
              "          const dataTable =\n",
              "            await google.colab.kernel.invokeFunction('convertToInteractive',\n",
              "                                                     [key], {});\n",
              "          if (!dataTable) return;\n",
              "\n",
              "          const docLinkHtml = 'Like what you see? Visit the ' +\n",
              "            '<a target=\"_blank\" href=https://colab.research.google.com/notebooks/data_table.ipynb>data table notebook</a>'\n",
              "            + ' to learn more about interactive tables.';\n",
              "          element.innerHTML = '';\n",
              "          dataTable['output_type'] = 'display_data';\n",
              "          await google.colab.output.renderOutput(dataTable, element);\n",
              "          const docLink = document.createElement('div');\n",
              "          docLink.innerHTML = docLinkHtml;\n",
              "          element.appendChild(docLink);\n",
              "        }\n",
              "      </script>\n",
              "    </div>\n",
              "  </div>\n",
              "  "
            ]
          },
          "metadata": {},
          "execution_count": 18
        }
      ]
    },
    {
      "cell_type": "markdown",
      "source": [],
      "metadata": {
        "id": "fpy8kHb03M9y"
      }
    },
    {
      "cell_type": "code",
      "source": [
        "all_nodes = sorted(list(set(df['Source']) | set(df['Target'])))\n",
        "len(all_nodes)"
      ],
      "metadata": {
        "colab": {
          "base_uri": "https://localhost:8080/"
        },
        "id": "enN3qxwRfIV1",
        "outputId": "d2b0b548-bc3b-432c-e3a8-dac43b67abc8"
      },
      "execution_count": 19,
      "outputs": [
        {
          "output_type": "execute_result",
          "data": {
            "text/plain": [
              "12324"
            ]
          },
          "metadata": {},
          "execution_count": 19
        }
      ]
    },
    {
      "cell_type": "code",
      "source": [
        "len(set(all_nodes) & set(X.columns))"
      ],
      "metadata": {
        "colab": {
          "base_uri": "https://localhost:8080/"
        },
        "id": "qf-NNwBneVfU",
        "outputId": "dc770272-8ef0-4577-81d4-375ec6286dcd"
      },
      "execution_count": 20,
      "outputs": [
        {
          "output_type": "execute_result",
          "data": {
            "text/plain": [
              "9614"
            ]
          },
          "metadata": {},
          "execution_count": 20
        }
      ]
    },
    {
      "cell_type": "code",
      "source": [
        "used_nodes = sorted(list(set(X.columns) & set(all_nodes)))\n",
        "len(used_nodes)"
      ],
      "metadata": {
        "colab": {
          "base_uri": "https://localhost:8080/"
        },
        "id": "r9LD0UajfXLg",
        "outputId": "5c80cd19-794b-47a3-8e13-f17a5d89aea4"
      },
      "execution_count": 21,
      "outputs": [
        {
          "output_type": "execute_result",
          "data": {
            "text/plain": [
              "9614"
            ]
          },
          "metadata": {},
          "execution_count": 21
        }
      ]
    },
    {
      "cell_type": "code",
      "source": [
        "X = X.loc[:, used_nodes]\n",
        "X.head(2)"
      ],
      "metadata": {
        "colab": {
          "base_uri": "https://localhost:8080/",
          "height": 310
        },
        "id": "cDnGvGnXfMl2",
        "outputId": "03d693a0-f26d-40db-cd65-d511abeb96b7"
      },
      "execution_count": 22,
      "outputs": [
        {
          "output_type": "execute_result",
          "data": {
            "text/plain": [
              "                 A1CF       A2M  A4GNT     AAAS      AACS   AADAC     AADAT  \\\n",
              "TCGA-OR-A5J1-01   0.0  10373.70    0.0  2225.26  1266.090  0.0000  121.0370   \n",
              "TCGA-OR-A5J2-01   0.0   9844.91    0.0  1509.46   981.613  1.2079   31.0025   \n",
              "\n",
              "                     AAK1   AANAT     AARS  ...  ZP2       ZP3  ZP4   ZRANB1  \\\n",
              "TCGA-OR-A5J1-01   868.876  1.4409  3520.65  ...  0.0  306.9160  0.0  2180.12   \n",
              "TCGA-OR-A5J2-01  1627.030  0.0000  5470.94  ...  0.0   99.4255  0.0  2553.48   \n",
              "\n",
              "                   ZRSR2  ZSCAN10     ZW10   ZWILCH    ZWINT     ZZZ3  \n",
              "TCGA-OR-A5J1-01  256.004   0.0000  253.602  183.958  146.974  596.062  \n",
              "TCGA-OR-A5J2-01  104.684   0.4026  270.165  264.125  438.464  801.637  \n",
              "\n",
              "[2 rows x 9614 columns]"
            ],
            "text/html": [
              "\n",
              "  <div id=\"df-2521acfc-ebf2-4cd9-9943-e4ab5a78460b\">\n",
              "    <div class=\"colab-df-container\">\n",
              "      <div>\n",
              "<style scoped>\n",
              "    .dataframe tbody tr th:only-of-type {\n",
              "        vertical-align: middle;\n",
              "    }\n",
              "\n",
              "    .dataframe tbody tr th {\n",
              "        vertical-align: top;\n",
              "    }\n",
              "\n",
              "    .dataframe thead th {\n",
              "        text-align: right;\n",
              "    }\n",
              "</style>\n",
              "<table border=\"1\" class=\"dataframe\">\n",
              "  <thead>\n",
              "    <tr style=\"text-align: right;\">\n",
              "      <th></th>\n",
              "      <th>A1CF</th>\n",
              "      <th>A2M</th>\n",
              "      <th>A4GNT</th>\n",
              "      <th>AAAS</th>\n",
              "      <th>AACS</th>\n",
              "      <th>AADAC</th>\n",
              "      <th>AADAT</th>\n",
              "      <th>AAK1</th>\n",
              "      <th>AANAT</th>\n",
              "      <th>AARS</th>\n",
              "      <th>...</th>\n",
              "      <th>ZP2</th>\n",
              "      <th>ZP3</th>\n",
              "      <th>ZP4</th>\n",
              "      <th>ZRANB1</th>\n",
              "      <th>ZRSR2</th>\n",
              "      <th>ZSCAN10</th>\n",
              "      <th>ZW10</th>\n",
              "      <th>ZWILCH</th>\n",
              "      <th>ZWINT</th>\n",
              "      <th>ZZZ3</th>\n",
              "    </tr>\n",
              "  </thead>\n",
              "  <tbody>\n",
              "    <tr>\n",
              "      <th>TCGA-OR-A5J1-01</th>\n",
              "      <td>0.0</td>\n",
              "      <td>10373.70</td>\n",
              "      <td>0.0</td>\n",
              "      <td>2225.26</td>\n",
              "      <td>1266.090</td>\n",
              "      <td>0.0000</td>\n",
              "      <td>121.0370</td>\n",
              "      <td>868.876</td>\n",
              "      <td>1.4409</td>\n",
              "      <td>3520.65</td>\n",
              "      <td>...</td>\n",
              "      <td>0.0</td>\n",
              "      <td>306.9160</td>\n",
              "      <td>0.0</td>\n",
              "      <td>2180.12</td>\n",
              "      <td>256.004</td>\n",
              "      <td>0.0000</td>\n",
              "      <td>253.602</td>\n",
              "      <td>183.958</td>\n",
              "      <td>146.974</td>\n",
              "      <td>596.062</td>\n",
              "    </tr>\n",
              "    <tr>\n",
              "      <th>TCGA-OR-A5J2-01</th>\n",
              "      <td>0.0</td>\n",
              "      <td>9844.91</td>\n",
              "      <td>0.0</td>\n",
              "      <td>1509.46</td>\n",
              "      <td>981.613</td>\n",
              "      <td>1.2079</td>\n",
              "      <td>31.0025</td>\n",
              "      <td>1627.030</td>\n",
              "      <td>0.0000</td>\n",
              "      <td>5470.94</td>\n",
              "      <td>...</td>\n",
              "      <td>0.0</td>\n",
              "      <td>99.4255</td>\n",
              "      <td>0.0</td>\n",
              "      <td>2553.48</td>\n",
              "      <td>104.684</td>\n",
              "      <td>0.4026</td>\n",
              "      <td>270.165</td>\n",
              "      <td>264.125</td>\n",
              "      <td>438.464</td>\n",
              "      <td>801.637</td>\n",
              "    </tr>\n",
              "  </tbody>\n",
              "</table>\n",
              "<p>2 rows × 9614 columns</p>\n",
              "</div>\n",
              "      <button class=\"colab-df-convert\" onclick=\"convertToInteractive('df-2521acfc-ebf2-4cd9-9943-e4ab5a78460b')\"\n",
              "              title=\"Convert this dataframe to an interactive table.\"\n",
              "              style=\"display:none;\">\n",
              "        \n",
              "  <svg xmlns=\"http://www.w3.org/2000/svg\" height=\"24px\"viewBox=\"0 0 24 24\"\n",
              "       width=\"24px\">\n",
              "    <path d=\"M0 0h24v24H0V0z\" fill=\"none\"/>\n",
              "    <path d=\"M18.56 5.44l.94 2.06.94-2.06 2.06-.94-2.06-.94-.94-2.06-.94 2.06-2.06.94zm-11 1L8.5 8.5l.94-2.06 2.06-.94-2.06-.94L8.5 2.5l-.94 2.06-2.06.94zm10 10l.94 2.06.94-2.06 2.06-.94-2.06-.94-.94-2.06-.94 2.06-2.06.94z\"/><path d=\"M17.41 7.96l-1.37-1.37c-.4-.4-.92-.59-1.43-.59-.52 0-1.04.2-1.43.59L10.3 9.45l-7.72 7.72c-.78.78-.78 2.05 0 2.83L4 21.41c.39.39.9.59 1.41.59.51 0 1.02-.2 1.41-.59l7.78-7.78 2.81-2.81c.8-.78.8-2.07 0-2.86zM5.41 20L4 18.59l7.72-7.72 1.47 1.35L5.41 20z\"/>\n",
              "  </svg>\n",
              "      </button>\n",
              "      \n",
              "  <style>\n",
              "    .colab-df-container {\n",
              "      display:flex;\n",
              "      flex-wrap:wrap;\n",
              "      gap: 12px;\n",
              "    }\n",
              "\n",
              "    .colab-df-convert {\n",
              "      background-color: #E8F0FE;\n",
              "      border: none;\n",
              "      border-radius: 50%;\n",
              "      cursor: pointer;\n",
              "      display: none;\n",
              "      fill: #1967D2;\n",
              "      height: 32px;\n",
              "      padding: 0 0 0 0;\n",
              "      width: 32px;\n",
              "    }\n",
              "\n",
              "    .colab-df-convert:hover {\n",
              "      background-color: #E2EBFA;\n",
              "      box-shadow: 0px 1px 2px rgba(60, 64, 67, 0.3), 0px 1px 3px 1px rgba(60, 64, 67, 0.15);\n",
              "      fill: #174EA6;\n",
              "    }\n",
              "\n",
              "    [theme=dark] .colab-df-convert {\n",
              "      background-color: #3B4455;\n",
              "      fill: #D2E3FC;\n",
              "    }\n",
              "\n",
              "    [theme=dark] .colab-df-convert:hover {\n",
              "      background-color: #434B5C;\n",
              "      box-shadow: 0px 1px 3px 1px rgba(0, 0, 0, 0.15);\n",
              "      filter: drop-shadow(0px 1px 2px rgba(0, 0, 0, 0.3));\n",
              "      fill: #FFFFFF;\n",
              "    }\n",
              "  </style>\n",
              "\n",
              "      <script>\n",
              "        const buttonEl =\n",
              "          document.querySelector('#df-2521acfc-ebf2-4cd9-9943-e4ab5a78460b button.colab-df-convert');\n",
              "        buttonEl.style.display =\n",
              "          google.colab.kernel.accessAllowed ? 'block' : 'none';\n",
              "\n",
              "        async function convertToInteractive(key) {\n",
              "          const element = document.querySelector('#df-2521acfc-ebf2-4cd9-9943-e4ab5a78460b');\n",
              "          const dataTable =\n",
              "            await google.colab.kernel.invokeFunction('convertToInteractive',\n",
              "                                                     [key], {});\n",
              "          if (!dataTable) return;\n",
              "\n",
              "          const docLinkHtml = 'Like what you see? Visit the ' +\n",
              "            '<a target=\"_blank\" href=https://colab.research.google.com/notebooks/data_table.ipynb>data table notebook</a>'\n",
              "            + ' to learn more about interactive tables.';\n",
              "          element.innerHTML = '';\n",
              "          dataTable['output_type'] = 'display_data';\n",
              "          await google.colab.output.renderOutput(dataTable, element);\n",
              "          const docLink = document.createElement('div');\n",
              "          docLink.innerHTML = docLinkHtml;\n",
              "          element.appendChild(docLink);\n",
              "        }\n",
              "      </script>\n",
              "    </div>\n",
              "  </div>\n",
              "  "
            ]
          },
          "metadata": {},
          "execution_count": 22
        }
      ]
    },
    {
      "cell_type": "code",
      "source": [
        "source_values = df['Source'].values\n",
        "mask = np.isin(source_values, used_nodes)\n",
        "df = df.loc[mask]\n",
        "\n",
        "source_values = df['Target'].values\n",
        "mask = np.isin(source_values, used_nodes)\n",
        "df = df.loc[mask]\n",
        "df = df.reset_index(drop=True)"
      ],
      "metadata": {
        "id": "yCbpUWJxfpid"
      },
      "execution_count": 23,
      "outputs": []
    },
    {
      "cell_type": "code",
      "source": [
        "len(set(df['Source']) | set(df['Target']))"
      ],
      "metadata": {
        "colab": {
          "base_uri": "https://localhost:8080/"
        },
        "id": "4rPVPxhAfsld",
        "outputId": "3e3c98d3-bf33-4176-a793-09304b86c7d1"
      },
      "execution_count": 24,
      "outputs": [
        {
          "output_type": "execute_result",
          "data": {
            "text/plain": [
              "9288"
            ]
          },
          "metadata": {},
          "execution_count": 24
        }
      ]
    },
    {
      "cell_type": "code",
      "source": [
        "columns_to_select = sorted(set(df['Source']).union(set(df['Target'])))\n",
        "X = X[columns_to_select]\n",
        "X.head(2)"
      ],
      "metadata": {
        "colab": {
          "base_uri": "https://localhost:8080/",
          "height": 310
        },
        "id": "_gbA4mcif0Ud",
        "outputId": "9adb3fc8-e43a-44bc-d4ea-ef2cb7d2aa33"
      },
      "execution_count": 25,
      "outputs": [
        {
          "output_type": "execute_result",
          "data": {
            "text/plain": [
              "                 A1CF       A2M  A4GNT     AAAS      AACS     AADAT      AAK1  \\\n",
              "TCGA-OR-A5J1-01   0.0  10373.70    0.0  2225.26  1266.090  121.0370   868.876   \n",
              "TCGA-OR-A5J2-01   0.0   9844.91    0.0  1509.46   981.613   31.0025  1627.030   \n",
              "\n",
              "                  AANAT     AARS    AARS2  ...  ZP2       ZP3  ZP4   ZRANB1  \\\n",
              "TCGA-OR-A5J1-01  1.4409  3520.65  299.712  ...  0.0  306.9160  0.0  2180.12   \n",
              "TCGA-OR-A5J2-01  0.0000  5470.94  408.666  ...  0.0   99.4255  0.0  2553.48   \n",
              "\n",
              "                   ZRSR2  ZSCAN10     ZW10   ZWILCH    ZWINT     ZZZ3  \n",
              "TCGA-OR-A5J1-01  256.004   0.0000  253.602  183.958  146.974  596.062  \n",
              "TCGA-OR-A5J2-01  104.684   0.4026  270.165  264.125  438.464  801.637  \n",
              "\n",
              "[2 rows x 9288 columns]"
            ],
            "text/html": [
              "\n",
              "  <div id=\"df-ce61b47d-a7ec-4733-b3fb-ef88baef87fb\">\n",
              "    <div class=\"colab-df-container\">\n",
              "      <div>\n",
              "<style scoped>\n",
              "    .dataframe tbody tr th:only-of-type {\n",
              "        vertical-align: middle;\n",
              "    }\n",
              "\n",
              "    .dataframe tbody tr th {\n",
              "        vertical-align: top;\n",
              "    }\n",
              "\n",
              "    .dataframe thead th {\n",
              "        text-align: right;\n",
              "    }\n",
              "</style>\n",
              "<table border=\"1\" class=\"dataframe\">\n",
              "  <thead>\n",
              "    <tr style=\"text-align: right;\">\n",
              "      <th></th>\n",
              "      <th>A1CF</th>\n",
              "      <th>A2M</th>\n",
              "      <th>A4GNT</th>\n",
              "      <th>AAAS</th>\n",
              "      <th>AACS</th>\n",
              "      <th>AADAT</th>\n",
              "      <th>AAK1</th>\n",
              "      <th>AANAT</th>\n",
              "      <th>AARS</th>\n",
              "      <th>AARS2</th>\n",
              "      <th>...</th>\n",
              "      <th>ZP2</th>\n",
              "      <th>ZP3</th>\n",
              "      <th>ZP4</th>\n",
              "      <th>ZRANB1</th>\n",
              "      <th>ZRSR2</th>\n",
              "      <th>ZSCAN10</th>\n",
              "      <th>ZW10</th>\n",
              "      <th>ZWILCH</th>\n",
              "      <th>ZWINT</th>\n",
              "      <th>ZZZ3</th>\n",
              "    </tr>\n",
              "  </thead>\n",
              "  <tbody>\n",
              "    <tr>\n",
              "      <th>TCGA-OR-A5J1-01</th>\n",
              "      <td>0.0</td>\n",
              "      <td>10373.70</td>\n",
              "      <td>0.0</td>\n",
              "      <td>2225.26</td>\n",
              "      <td>1266.090</td>\n",
              "      <td>121.0370</td>\n",
              "      <td>868.876</td>\n",
              "      <td>1.4409</td>\n",
              "      <td>3520.65</td>\n",
              "      <td>299.712</td>\n",
              "      <td>...</td>\n",
              "      <td>0.0</td>\n",
              "      <td>306.9160</td>\n",
              "      <td>0.0</td>\n",
              "      <td>2180.12</td>\n",
              "      <td>256.004</td>\n",
              "      <td>0.0000</td>\n",
              "      <td>253.602</td>\n",
              "      <td>183.958</td>\n",
              "      <td>146.974</td>\n",
              "      <td>596.062</td>\n",
              "    </tr>\n",
              "    <tr>\n",
              "      <th>TCGA-OR-A5J2-01</th>\n",
              "      <td>0.0</td>\n",
              "      <td>9844.91</td>\n",
              "      <td>0.0</td>\n",
              "      <td>1509.46</td>\n",
              "      <td>981.613</td>\n",
              "      <td>31.0025</td>\n",
              "      <td>1627.030</td>\n",
              "      <td>0.0000</td>\n",
              "      <td>5470.94</td>\n",
              "      <td>408.666</td>\n",
              "      <td>...</td>\n",
              "      <td>0.0</td>\n",
              "      <td>99.4255</td>\n",
              "      <td>0.0</td>\n",
              "      <td>2553.48</td>\n",
              "      <td>104.684</td>\n",
              "      <td>0.4026</td>\n",
              "      <td>270.165</td>\n",
              "      <td>264.125</td>\n",
              "      <td>438.464</td>\n",
              "      <td>801.637</td>\n",
              "    </tr>\n",
              "  </tbody>\n",
              "</table>\n",
              "<p>2 rows × 9288 columns</p>\n",
              "</div>\n",
              "      <button class=\"colab-df-convert\" onclick=\"convertToInteractive('df-ce61b47d-a7ec-4733-b3fb-ef88baef87fb')\"\n",
              "              title=\"Convert this dataframe to an interactive table.\"\n",
              "              style=\"display:none;\">\n",
              "        \n",
              "  <svg xmlns=\"http://www.w3.org/2000/svg\" height=\"24px\"viewBox=\"0 0 24 24\"\n",
              "       width=\"24px\">\n",
              "    <path d=\"M0 0h24v24H0V0z\" fill=\"none\"/>\n",
              "    <path d=\"M18.56 5.44l.94 2.06.94-2.06 2.06-.94-2.06-.94-.94-2.06-.94 2.06-2.06.94zm-11 1L8.5 8.5l.94-2.06 2.06-.94-2.06-.94L8.5 2.5l-.94 2.06-2.06.94zm10 10l.94 2.06.94-2.06 2.06-.94-2.06-.94-.94-2.06-.94 2.06-2.06.94z\"/><path d=\"M17.41 7.96l-1.37-1.37c-.4-.4-.92-.59-1.43-.59-.52 0-1.04.2-1.43.59L10.3 9.45l-7.72 7.72c-.78.78-.78 2.05 0 2.83L4 21.41c.39.39.9.59 1.41.59.51 0 1.02-.2 1.41-.59l7.78-7.78 2.81-2.81c.8-.78.8-2.07 0-2.86zM5.41 20L4 18.59l7.72-7.72 1.47 1.35L5.41 20z\"/>\n",
              "  </svg>\n",
              "      </button>\n",
              "      \n",
              "  <style>\n",
              "    .colab-df-container {\n",
              "      display:flex;\n",
              "      flex-wrap:wrap;\n",
              "      gap: 12px;\n",
              "    }\n",
              "\n",
              "    .colab-df-convert {\n",
              "      background-color: #E8F0FE;\n",
              "      border: none;\n",
              "      border-radius: 50%;\n",
              "      cursor: pointer;\n",
              "      display: none;\n",
              "      fill: #1967D2;\n",
              "      height: 32px;\n",
              "      padding: 0 0 0 0;\n",
              "      width: 32px;\n",
              "    }\n",
              "\n",
              "    .colab-df-convert:hover {\n",
              "      background-color: #E2EBFA;\n",
              "      box-shadow: 0px 1px 2px rgba(60, 64, 67, 0.3), 0px 1px 3px 1px rgba(60, 64, 67, 0.15);\n",
              "      fill: #174EA6;\n",
              "    }\n",
              "\n",
              "    [theme=dark] .colab-df-convert {\n",
              "      background-color: #3B4455;\n",
              "      fill: #D2E3FC;\n",
              "    }\n",
              "\n",
              "    [theme=dark] .colab-df-convert:hover {\n",
              "      background-color: #434B5C;\n",
              "      box-shadow: 0px 1px 3px 1px rgba(0, 0, 0, 0.15);\n",
              "      filter: drop-shadow(0px 1px 2px rgba(0, 0, 0, 0.3));\n",
              "      fill: #FFFFFF;\n",
              "    }\n",
              "  </style>\n",
              "\n",
              "      <script>\n",
              "        const buttonEl =\n",
              "          document.querySelector('#df-ce61b47d-a7ec-4733-b3fb-ef88baef87fb button.colab-df-convert');\n",
              "        buttonEl.style.display =\n",
              "          google.colab.kernel.accessAllowed ? 'block' : 'none';\n",
              "\n",
              "        async function convertToInteractive(key) {\n",
              "          const element = document.querySelector('#df-ce61b47d-a7ec-4733-b3fb-ef88baef87fb');\n",
              "          const dataTable =\n",
              "            await google.colab.kernel.invokeFunction('convertToInteractive',\n",
              "                                                     [key], {});\n",
              "          if (!dataTable) return;\n",
              "\n",
              "          const docLinkHtml = 'Like what you see? Visit the ' +\n",
              "            '<a target=\"_blank\" href=https://colab.research.google.com/notebooks/data_table.ipynb>data table notebook</a>'\n",
              "            + ' to learn more about interactive tables.';\n",
              "          element.innerHTML = '';\n",
              "          dataTable['output_type'] = 'display_data';\n",
              "          await google.colab.output.renderOutput(dataTable, element);\n",
              "          const docLink = document.createElement('div');\n",
              "          docLink.innerHTML = docLinkHtml;\n",
              "          element.appendChild(docLink);\n",
              "        }\n",
              "      </script>\n",
              "    </div>\n",
              "  </div>\n",
              "  "
            ]
          },
          "metadata": {},
          "execution_count": 25
        }
      ]
    },
    {
      "cell_type": "code",
      "source": [
        "source_nodes = df['Source'].tolist()\n",
        "target_nodes = df['Target'].tolist()\n",
        "\n",
        "\n",
        "# Create a dictionary to map each unique node to a unique index\n",
        "node_to_index = {node: index for index, node in enumerate(X.columns)}\n",
        "\n",
        "# Map the source and target nodes to their corresponding indices\n",
        "source_indices = [node_to_index[node] for node in source_nodes]\n",
        "target_indices = [node_to_index[node] for node in target_nodes]"
      ],
      "metadata": {
        "id": "3a2Ek5R65Nwo"
      },
      "execution_count": 26,
      "outputs": []
    },
    {
      "cell_type": "code",
      "source": [
        "# Convert the source and target indices to a PyTorch tensor\n",
        "edge_index = torch.tensor([source_indices, target_indices], dtype=torch.long)"
      ],
      "metadata": {
        "id": "lDkBhxaIiSJl"
      },
      "execution_count": 27,
      "outputs": []
    },
    {
      "cell_type": "code",
      "source": [
        "edge_index"
      ],
      "metadata": {
        "colab": {
          "base_uri": "https://localhost:8080/"
        },
        "id": "_hSLO4ioijm1",
        "outputId": "1f68d4ae-be30-43a7-9416-64b4278c860e"
      },
      "execution_count": 28,
      "outputs": [
        {
          "output_type": "execute_result",
          "data": {
            "text/plain": [
              "tensor([[   0,    0,    0,  ..., 9287, 9287, 9287],\n",
              "        [ 451,  452,  453,  ..., 3323, 3340, 3341]])"
            ]
          },
          "metadata": {},
          "execution_count": 28
        }
      ]
    },
    {
      "cell_type": "code",
      "source": [
        "edge_index.shape"
      ],
      "metadata": {
        "colab": {
          "base_uri": "https://localhost:8080/"
        },
        "id": "8AijMTwRaV2O",
        "outputId": "937a2fc2-ec92-4626-a185-48e25371d866"
      },
      "execution_count": 29,
      "outputs": [
        {
          "output_type": "execute_result",
          "data": {
            "text/plain": [
              "torch.Size([2, 271771])"
            ]
          },
          "metadata": {},
          "execution_count": 29
        }
      ]
    },
    {
      "cell_type": "code",
      "source": [
        "# Set the fixed index for splitting\n",
        "split_index = int(0.8 * X.shape[0])\n",
        "\n",
        "# Split the data based on the fixed index\n",
        "X_train = X[:split_index]\n",
        "X_test = X[split_index:]\n",
        "y_train = y[:split_index]\n",
        "y_test = y[split_index:]"
      ],
      "metadata": {
        "id": "A9SORNvuNaGW"
      },
      "execution_count": 30,
      "outputs": []
    },
    {
      "cell_type": "code",
      "source": [
        "X_train.shape, X_test.shape"
      ],
      "metadata": {
        "colab": {
          "base_uri": "https://localhost:8080/"
        },
        "id": "2moOSXN89L_s",
        "outputId": "d96daf9a-19d8-431c-c9f5-c28a8a87a275"
      },
      "execution_count": 31,
      "outputs": [
        {
          "output_type": "execute_result",
          "data": {
            "text/plain": [
              "((62, 9288), (16, 9288))"
            ]
          },
          "metadata": {},
          "execution_count": 31
        }
      ]
    },
    {
      "cell_type": "code",
      "source": [
        "X_train = X_train.values\n",
        "X_test = X_test.values"
      ],
      "metadata": {
        "id": "gD5qBnVD9R3Z"
      },
      "execution_count": 32,
      "outputs": []
    },
    {
      "cell_type": "code",
      "source": [],
      "metadata": {
        "id": "le_z-6dXslkU"
      },
      "execution_count": null,
      "outputs": []
    },
    {
      "cell_type": "code",
      "source": [
        "X_train[0]"
      ],
      "metadata": {
        "colab": {
          "base_uri": "https://localhost:8080/"
        },
        "id": "ti6NCahQOrmo",
        "outputId": "4816591c-c704-4f3f-8cbd-f89dbedfb754"
      },
      "execution_count": 33,
      "outputs": [
        {
          "output_type": "execute_result",
          "data": {
            "text/plain": [
              "array([    0.   , 10373.7  ,     0.   , ...,   183.958,   146.974,\n",
              "         596.062])"
            ]
          },
          "metadata": {},
          "execution_count": 33
        }
      ]
    },
    {
      "cell_type": "code",
      "source": [
        "X_test[1]"
      ],
      "metadata": {
        "colab": {
          "base_uri": "https://localhost:8080/"
        },
        "id": "JVmn65Q1O5qT",
        "outputId": "c01d7278-e5af-4e6d-94b8-7ab23bbd26e8"
      },
      "execution_count": 34,
      "outputs": [
        {
          "output_type": "execute_result",
          "data": {
            "text/plain": [
              "array([   0.    , 1728.03  ,    0.    , ...,  106.475 ,   39.4796,\n",
              "        261.403 ])"
            ]
          },
          "metadata": {},
          "execution_count": 34
        }
      ]
    },
    {
      "cell_type": "code",
      "source": [
        "y_train"
      ],
      "metadata": {
        "colab": {
          "base_uri": "https://localhost:8080/"
        },
        "id": "xevvmFAQO8h7",
        "outputId": "f4e04e21-b9bb-45d9-a4ed-b486fb1b0471"
      },
      "execution_count": 35,
      "outputs": [
        {
          "output_type": "execute_result",
          "data": {
            "text/plain": [
              "array([ 44.54745701,  55.13364237,  68.74445212,  11.9998685 ,\n",
              "        88.86477956,  16.1094125 ,  19.03540783,  44.44882796,\n",
              "        30.31199658,  18.11486997,  57.53361607,  99.8783575 ,\n",
              "        69.20472104,  66.24584936,  17.78610645,  76.63477661,\n",
              "        16.1094125 ,  49.215899  ,  67.59377979,  18.47650985,\n",
              "        39.25436434,  15.25462735,  36.2626163 , 121.2479863 ,\n",
              "        12.59164283,  29.8188513 ,  66.50886018,  72.39372719,\n",
              "        31.23253444,  18.14774633,  27.02436138,  33.82976625,\n",
              "       108.1303219 ,  32.67909393, 113.9165598 ,  35.57221291,\n",
              "        16.37242332,  49.0843936 ,  24.62438768,  11.3094651 ,\n",
              "        46.48716179,  95.17703916, 153.6311931 , 127.4944932 ,\n",
              "        68.25130684,  44.84334418,  12.85465365,   4.10954401,\n",
              "       152.1517572 ,  31.79143242,  43.29815564,  28.30653911,\n",
              "        29.09557156,  28.63530263,  23.63809712,  39.58312786,\n",
              "         5.22733997,  39.35299339,  21.76414505,  52.24052339,\n",
              "        78.41009962,  36.328369  ])"
            ]
          },
          "metadata": {},
          "execution_count": 35
        }
      ]
    },
    {
      "cell_type": "code",
      "source": [
        "num_patients_train = X_train.shape[0]\n",
        "num_patients_test = X_test.shape[0]\n",
        "\n",
        "# Repeat the edge index for each patient in the training set\n",
        "#edge_index_train_per_patient = edge_index.repeat(num_patients_train, 1)\n",
        "\n",
        "# Repeat the edge index for each patient in the test set\n",
        "#edge_index_test_per_patient = edge_index.repea(num_patients_test, 1)\n",
        "\n",
        "\n",
        "# Convert the patient-specific edge indices to PyTorch tensors\n",
        "#edge_index_train_per_patient = torch.tensor(edge_index_train_per_patient, dtype=torch.long)\n",
        "#edge_index_test_per_patient = torch.tensor(edge_index_test_per_patient, dtype=torch.long)\n",
        "\n",
        "# Create patient-specific graphs for the training set\n",
        "graphs_train = []\n",
        "for i in range(num_patients_train):\n",
        "    node_features = X_train[i]  # Node features for the i-th patient\n",
        "    target = y_train[i]  # Target label for the i-th patient\n",
        "    graph_train = (node_features, edge_index, target)\n",
        "    graphs_train.append(graph_train)\n",
        "\n",
        "# Create patient-specific graphs for the test set\n",
        "graphs_test = []\n",
        "for i in range(num_patients_test):\n",
        "    node_features = X_test[i]  # Node features for the i-th patient\n",
        "    target = y_test[i]  # Target label for the i-th patient\n",
        "    graph_test = (node_features, edge_index, target)\n",
        "    graphs_test.append(graph_test)"
      ],
      "metadata": {
        "id": "IohJNJFPFqqs"
      },
      "execution_count": 36,
      "outputs": []
    },
    {
      "cell_type": "code",
      "source": [
        "# Check the number of patient-specific graphs\n",
        "print(len(graphs_train))  # Should be 62\n",
        "print(len(graphs_test))  # Should be 16"
      ],
      "metadata": {
        "colab": {
          "base_uri": "https://localhost:8080/"
        },
        "id": "xGcmIHELMEdg",
        "outputId": "69344270-3710-4df3-a8f0-53b336fcb836"
      },
      "execution_count": 37,
      "outputs": [
        {
          "output_type": "stream",
          "name": "stdout",
          "text": [
            "62\n",
            "16\n"
          ]
        }
      ]
    },
    {
      "cell_type": "code",
      "source": [
        "# Access the patient-specific graph for a specific patient in the training set\n",
        "patient_index = 0 # Index of the patient\n",
        "node_features, edge_index, y = graphs_train[patient_index]\n",
        "print(node_features)  # Node features for the specific patient\n",
        "print(edge_index)  # Edge index for the specific patient\n",
        "print(y)"
      ],
      "metadata": {
        "colab": {
          "base_uri": "https://localhost:8080/"
        },
        "id": "olPMTAImFxrJ",
        "outputId": "97523ecf-79d3-4957-d98c-06e81bfd5bd6"
      },
      "execution_count": 38,
      "outputs": [
        {
          "output_type": "stream",
          "name": "stdout",
          "text": [
            "[    0.    10373.7       0.    ...   183.958   146.974   596.062]\n",
            "tensor([[   0,    0,    0,  ..., 9287, 9287, 9287],\n",
            "        [ 451,  452,  453,  ..., 3323, 3340, 3341]])\n",
            "44.54745701\n"
          ]
        }
      ]
    },
    {
      "cell_type": "code",
      "source": [
        "# Access the patient-specific graph for a specific patient in the training set\n",
        "patient_index = 15  # Index of the patient\n",
        "node_features, edge_index, y = graphs_test[patient_index]\n",
        "print(node_features)  # Node features for the specific patient\n",
        "print(edge_index)  # Edge index for the specific patient\n",
        "print(y)"
      ],
      "metadata": {
        "colab": {
          "base_uri": "https://localhost:8080/"
        },
        "id": "w9CCMwQeGGUj",
        "outputId": "b11e0082-56f2-4aa6-e555-7e5dcfcf2a72"
      },
      "execution_count": 39,
      "outputs": [
        {
          "output_type": "stream",
          "name": "stdout",
          "text": [
            "[1.20290e+00 1.17995e+04 0.00000e+00 ... 9.13745e+02 1.31836e+03\n",
            " 6.15878e+02]\n",
            "tensor([[   0,    0,    0,  ..., 9287, 9287, 9287],\n",
            "        [ 451,  452,  453,  ..., 3323, 3340, 3341]])\n",
            "42.50912319\n"
          ]
        }
      ]
    },
    {
      "cell_type": "code",
      "source": [
        "# Convert graphs_train to a list of Data objects\n",
        "data_train = [Data(x=torch.tensor(graph[0].reshape(len(graphs_train[0][0]), 1)), edge_index=graph[1], y=torch.tensor(graph[2])) for graph in graphs_train]\n",
        "\n",
        "# Convert graphs_test to a list of Data objects\n",
        "data_test = [Data(x=torch.tensor(graph[0].reshape(len(graphs_test[0][0]), 1)), edge_index=graph[1], y=torch.tensor(graph[2])) for graph in graphs_test]"
      ],
      "metadata": {
        "id": "OQvmOmtabK95"
      },
      "execution_count": 49,
      "outputs": []
    },
    {
      "cell_type": "code",
      "source": [
        "graphs_train[0][0]"
      ],
      "metadata": {
        "colab": {
          "base_uri": "https://localhost:8080/"
        },
        "id": "8ZeTylyJgjtK",
        "outputId": "5f4308f4-9ba9-4f7c-819f-c3d732d70eaf"
      },
      "execution_count": 50,
      "outputs": [
        {
          "output_type": "execute_result",
          "data": {
            "text/plain": [
              "array([    0.   , 10373.7  ,     0.   , ...,   183.958,   146.974,\n",
              "         596.062])"
            ]
          },
          "metadata": {},
          "execution_count": 50
        }
      ]
    },
    {
      "cell_type": "code",
      "source": [
        "graphs_train[0]"
      ],
      "metadata": {
        "colab": {
          "base_uri": "https://localhost:8080/"
        },
        "id": "--lYO8N9jWNI",
        "outputId": "9ba0fd4b-bbc5-4301-bb08-fee2ad8bbed8"
      },
      "execution_count": 51,
      "outputs": [
        {
          "output_type": "execute_result",
          "data": {
            "text/plain": [
              "(array([    0.   , 10373.7  ,     0.   , ...,   183.958,   146.974,\n",
              "          596.062]),\n",
              " tensor([[   0,    0,    0,  ..., 9287, 9287, 9287],\n",
              "         [ 451,  452,  453,  ..., 3323, 3340, 3341]]),\n",
              " 44.54745701)"
            ]
          },
          "metadata": {},
          "execution_count": 51
        }
      ]
    },
    {
      "cell_type": "code",
      "source": [
        "# Access the attributes of a specific data object in the training set\n",
        "sample = data_train[0]  # Get the first data object\n",
        "print(sample)  # Print the data object\n",
        "\n",
        "# Access the node features, edge indices, and target label\n",
        "node_features = sample.x\n",
        "edge_index = sample.edge_index\n",
        "target = sample.y\n",
        "\n",
        "print(node_features)  # Print the node features\n",
        "print(edge_index)  # Print the edge indices\n",
        "print(target)  # Print the target label"
      ],
      "metadata": {
        "colab": {
          "base_uri": "https://localhost:8080/"
        },
        "id": "M_AXY4EhirX7",
        "outputId": "eb6dfd76-e101-443a-ef46-5c6ef58ddf02"
      },
      "execution_count": 52,
      "outputs": [
        {
          "output_type": "stream",
          "name": "stdout",
          "text": [
            "Data(x=[9288, 1], edge_index=[2, 271771], y=44.54745701)\n",
            "tensor([[    0.0000],\n",
            "        [10373.7000],\n",
            "        [    0.0000],\n",
            "        ...,\n",
            "        [  183.9580],\n",
            "        [  146.9740],\n",
            "        [  596.0620]], dtype=torch.float64)\n",
            "tensor([[   0,    0,    0,  ..., 9287, 9287, 9287],\n",
            "        [ 451,  452,  453,  ..., 3323, 3340, 3341]])\n",
            "tensor(44.5475, dtype=torch.float64)\n"
          ]
        }
      ]
    },
    {
      "cell_type": "code",
      "metadata": {
        "id": "0gZ-l0npPIca",
        "colab": {
          "base_uri": "https://localhost:8080/"
        },
        "outputId": "1628df16-c388-420b-fca7-4bf2bcaaea3f"
      },
      "source": [
        "from torch_geometric.loader import DataLoader\n",
        "\n",
        "train_loader = DataLoader(data_train, batch_size=16, shuffle=True)\n",
        "test_loader = DataLoader(data_test, batch_size=4, shuffle=False)\n",
        "\n",
        "for step, data in enumerate(train_loader):\n",
        "    print(f'Step {step + 1}:')\n",
        "    print('=======')\n",
        "    print(f'Number of graphs in the current batch: {data.num_graphs}')\n",
        "    print(data)\n",
        "    print()"
      ],
      "execution_count": 54,
      "outputs": [
        {
          "output_type": "stream",
          "name": "stdout",
          "text": [
            "Step 1:\n",
            "=======\n",
            "Number of graphs in the current batch: 16\n",
            "DataBatch(x=[148608, 1], edge_index=[2, 4348336], y=[16], batch=[148608], ptr=[17])\n",
            "\n",
            "Step 2:\n",
            "=======\n",
            "Number of graphs in the current batch: 16\n",
            "DataBatch(x=[148608, 1], edge_index=[2, 4348336], y=[16], batch=[148608], ptr=[17])\n",
            "\n",
            "Step 3:\n",
            "=======\n",
            "Number of graphs in the current batch: 16\n",
            "DataBatch(x=[148608, 1], edge_index=[2, 4348336], y=[16], batch=[148608], ptr=[17])\n",
            "\n",
            "Step 4:\n",
            "=======\n",
            "Number of graphs in the current batch: 14\n",
            "DataBatch(x=[130032, 1], edge_index=[2, 3804794], y=[14], batch=[130032], ptr=[15])\n",
            "\n"
          ]
        }
      ]
    },
    {
      "cell_type": "code",
      "source": [
        "for step, data in enumerate(test_loader):\n",
        "    print(f'Step {step + 1}:')\n",
        "    print('=======')\n",
        "    print(f'Number of graphs in the current batch: {data.num_graphs}')\n",
        "    print(data)\n",
        "    print()"
      ],
      "metadata": {
        "colab": {
          "base_uri": "https://localhost:8080/"
        },
        "id": "pqWv0wYqk22X",
        "outputId": "beb7fdd1-cf87-4025-f710-cc8367088361"
      },
      "execution_count": 55,
      "outputs": [
        {
          "output_type": "stream",
          "name": "stdout",
          "text": [
            "Step 1:\n",
            "=======\n",
            "Number of graphs in the current batch: 4\n",
            "DataBatch(x=[37152, 1], edge_index=[2, 1087084], y=[4], batch=[37152], ptr=[5])\n",
            "\n",
            "Step 2:\n",
            "=======\n",
            "Number of graphs in the current batch: 4\n",
            "DataBatch(x=[37152, 1], edge_index=[2, 1087084], y=[4], batch=[37152], ptr=[5])\n",
            "\n",
            "Step 3:\n",
            "=======\n",
            "Number of graphs in the current batch: 4\n",
            "DataBatch(x=[37152, 1], edge_index=[2, 1087084], y=[4], batch=[37152], ptr=[5])\n",
            "\n",
            "Step 4:\n",
            "=======\n",
            "Number of graphs in the current batch: 4\n",
            "DataBatch(x=[37152, 1], edge_index=[2, 1087084], y=[4], batch=[37152], ptr=[5])\n",
            "\n"
          ]
        }
      ]
    },
    {
      "cell_type": "code",
      "source": [
        "from torch.nn import Linear\n",
        "import torch.nn.functional as F\n",
        "from torch_geometric.nn import GCNConv\n",
        "from torch_geometric.nn import global_mean_pool"
      ],
      "metadata": {
        "id": "0PQNhtuosLl3"
      },
      "execution_count": 61,
      "outputs": []
    },
    {
      "cell_type": "code",
      "source": [
        "class GCN(torch.nn.Module):\n",
        "    def __init__(self, hidden_channels, num_node_features):\n",
        "        super(GCN, self).__init__()\n",
        "        torch.manual_seed(12345)\n",
        "        self.conv1 = GCNConv(num_node_features, hidden_channels)\n",
        "        self.conv2 = GCNConv(hidden_channels, hidden_channels)\n",
        "        self.conv3 = GCNConv(hidden_channels, hidden_channels)\n",
        "        self.lin = Linear(hidden_channels, 1)  # Regression output with 1 dimension\n",
        "\n",
        "    def forward(self, x, edge_index, batch):\n",
        "        # 1. Obtain node embeddings\n",
        "        x = self.conv1(x, edge_index)\n",
        "        x = x.relu()\n",
        "        x = self.conv2(x, edge_index)\n",
        "        x = x.relu()\n",
        "        x = self.conv3(x, edge_index)\n",
        "\n",
        "        # 2. Readout layer\n",
        "        x = global_mean_pool(x, batch)  # [batch_size, hidden_channels]\n",
        "\n",
        "        # 3. Apply a final regression layer\n",
        "        x = F.dropout(x, p=0.5, training=self.training)\n",
        "        x = self.lin(x)\n",
        "\n",
        "        return x.squeeze()  # Remove the extra dimension"
      ],
      "metadata": {
        "id": "HtR7piktlpI8"
      },
      "execution_count": 70,
      "outputs": []
    },
    {
      "cell_type": "code",
      "source": [
        "model = GCN(hidden_channels=64, num_node_features=1)\n",
        "criterion = torch.nn.MSELoss()\n",
        "optimizer = torch.optim.Adam(model.parameters(), lr=0.001)\n",
        "\n",
        "model.double()  # Convert the model's parameters to Double type\n",
        "\n",
        "num_epochs = 10  # Specify the number of epochs\n",
        "\n",
        "for epoch in range(num_epochs):\n",
        "    model.train()  # Set the model to train mode\n",
        "    total_loss = 0\n",
        "\n",
        "    for step, data in enumerate(train_loader):\n",
        "        optimizer.zero_grad()\n",
        "\n",
        "        out = model(data.x.double(), data.edge_index, data.batch)\n",
        "        loss = criterion(out, data.y.view(-1).double())\n",
        "        loss.backward()\n",
        "        optimizer.step()\n",
        "\n",
        "        total_loss += loss.item()\n",
        "\n",
        "    average_loss = total_loss / (step + 1)\n",
        "    \n",
        "    # Evaluate on the test set\n",
        "    model.eval()  # Set the model to evaluation mode\n",
        "    with torch.no_grad():\n",
        "        test_loss = 0\n",
        "        for data in test_loader:\n",
        "            out = model(data.x.double(), data.edge_index, data.batch)\n",
        "            loss = criterion(out, data.y.view(-1).double())\n",
        "            test_loss += loss.item()\n",
        "\n",
        "        average_test_loss = test_loss / len(test_loader)\n",
        "        #print(f\"Epoch: {epoch+1:03d}, Test Loss: {average_test_loss:.4f}\")\n",
        "        print(f'Epoch: {epoch:03d}, Train loss: {average_loss:.4f}, Test Loss: {average_test_loss:.4f}')"
      ],
      "metadata": {
        "colab": {
          "base_uri": "https://localhost:8080/"
        },
        "id": "z_loQUgsoQ-n",
        "outputId": "4e27e613-96b7-4a97-8cfd-f1a3a9f4ee7e"
      },
      "execution_count": 82,
      "outputs": [
        {
          "output_type": "stream",
          "name": "stdout",
          "text": [
            "Epoch: 000, Train loss: 17751.0125, Test Loss: 780.6482\n",
            "Epoch: 001, Train loss: 14536.5825, Test Loss: 1400.9717\n",
            "Epoch: 002, Train loss: 8672.4043, Test Loss: 757.9401\n",
            "Epoch: 003, Train loss: 8233.0428, Test Loss: 1955.2005\n",
            "Epoch: 004, Train loss: 6689.1689, Test Loss: 739.4835\n",
            "Epoch: 005, Train loss: 5408.9922, Test Loss: 758.5592\n",
            "Epoch: 006, Train loss: 4023.0989, Test Loss: 1054.2906\n",
            "Epoch: 007, Train loss: 3333.1623, Test Loss: 1086.6984\n",
            "Epoch: 008, Train loss: 2300.8816, Test Loss: 732.8917\n",
            "Epoch: 009, Train loss: 2623.9930, Test Loss: 771.3651\n"
          ]
        }
      ]
    },
    {
      "cell_type": "code",
      "source": [
        "model.eval()  # Set the model to evaluation mode\n",
        "\n",
        "predictions = []  # List to store the predicted outputs\n",
        "\n",
        "with torch.no_grad():\n",
        "    for data in test_loader:\n",
        "        out = model(data.x.double(), data.edge_index, data.batch)\n",
        "        predictions.append(out.detach().numpy())  # Convert the predictions to NumPy array\n",
        "\n",
        "# Concatenate the predictions from multiple batches\n",
        "predictions = np.concatenate(predictions)\n",
        "\n",
        "# Print the predictions\n",
        "print(predictions)"
      ],
      "metadata": {
        "colab": {
          "base_uri": "https://localhost:8080/"
        },
        "id": "hG2NZ_CwxvyI",
        "outputId": "608a1336-2929-41a7-f455-2f3a31d1f02f"
      },
      "execution_count": 83,
      "outputs": [
        {
          "output_type": "stream",
          "name": "stdout",
          "text": [
            "[68.6032112  51.69334831 63.3760201  57.54936994 46.10642923 58.08948647\n",
            " 60.26124462 49.75207209 50.67523135 50.36315221 51.00225132 61.97715144\n",
            " 67.23728561 57.20699991 57.78701522 58.18229506]\n"
          ]
        }
      ]
    },
    {
      "cell_type": "code",
      "source": [
        "model.eval()  # Set the model to evaluation mode\n",
        "total_loss = 0\n",
        "\n",
        "with torch.no_grad():\n",
        "    for data in test_loader:\n",
        "        out = model(data.x.double(), data.edge_index, data.batch)\n",
        "        loss = criterion(out, data.y.view(-1, 1))\n",
        "        total_loss += loss.item() * data.num_graphs\n",
        "\n",
        "average_loss = total_loss / len(test_loader.dataset)\n",
        "print(f\"Average Loss on Test Data: {average_loss:.4f}\")"
      ],
      "metadata": {
        "colab": {
          "base_uri": "https://localhost:8080/"
        },
        "id": "6gHKiNbZyB5s",
        "outputId": "97c24f1d-f75b-4be1-e83f-3d99720973bc"
      },
      "execution_count": 84,
      "outputs": [
        {
          "output_type": "stream",
          "name": "stderr",
          "text": [
            "/usr/local/lib/python3.10/dist-packages/torch/nn/modules/loss.py:536: UserWarning: Using a target size (torch.Size([4, 1])) that is different to the input size (torch.Size([4])). This will likely lead to incorrect results due to broadcasting. Please ensure they have the same size.\n",
            "  return F.mse_loss(input, target, reduction=self.reduction)\n"
          ]
        },
        {
          "output_type": "stream",
          "name": "stdout",
          "text": [
            "Average Loss on Test Data: 852.0030\n"
          ]
        }
      ]
    },
    {
      "cell_type": "code",
      "source": [],
      "metadata": {
        "id": "qhvjTZ2azZwj"
      },
      "execution_count": null,
      "outputs": []
    }
  ]
}