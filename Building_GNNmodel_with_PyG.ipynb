{
  "nbformat": 4,
  "nbformat_minor": 0,
  "metadata": {
    "colab": {
      "provenance": [],
      "mount_file_id": "1YHTJgRreJnAmvs3qNkErBFc41vAwqSa9",
      "authorship_tag": "ABX9TyNudWRVj7u5s/JquF4MXCj2",
      "include_colab_link": true
    },
    "kernelspec": {
      "name": "python3",
      "display_name": "Python 3"
    },
    "language_info": {
      "name": "python"
    }
  },
  "cells": [
    {
      "cell_type": "markdown",
      "metadata": {
        "id": "view-in-github",
        "colab_type": "text"
      },
      "source": [
        "<a href=\"https://colab.research.google.com/github/cannin/gsoc_2023_pytorch_pathway_commons/blob/main/Building_GNNmodel_with_PyG.ipynb\" target=\"_parent\"><img src=\"https://colab.research.google.com/assets/colab-badge.svg\" alt=\"Open In Colab\"/></a>"
      ]
    },
    {
      "cell_type": "code",
      "source": [
        "!pip install torch-geometric"
      ],
      "metadata": {
        "colab": {
          "base_uri": "https://localhost:8080/"
        },
        "id": "OE2xc7If0ZCT",
        "outputId": "ad94a2e6-de9a-4385-f169-c1673ff6f1b9"
      },
      "execution_count": 2,
      "outputs": [
        {
          "output_type": "stream",
          "name": "stdout",
          "text": [
            "Looking in indexes: https://pypi.org/simple, https://us-python.pkg.dev/colab-wheels/public/simple/\n",
            "Collecting torch-geometric\n",
            "  Downloading torch_geometric-2.3.1.tar.gz (661 kB)\n",
            "\u001b[2K     \u001b[90m━━━━━━━━━━━━━━━━━━━━━━━━━━━━━━━━━━━━━━\u001b[0m \u001b[32m661.6/661.6 kB\u001b[0m \u001b[31m34.1 MB/s\u001b[0m eta \u001b[36m0:00:00\u001b[0m\n",
            "\u001b[?25h  Installing build dependencies ... \u001b[?25l\u001b[?25hdone\n",
            "  Getting requirements to build wheel ... \u001b[?25l\u001b[?25hdone\n",
            "  Preparing metadata (pyproject.toml) ... \u001b[?25l\u001b[?25hdone\n",
            "Requirement already satisfied: tqdm in /usr/local/lib/python3.10/dist-packages (from torch-geometric) (4.65.0)\n",
            "Requirement already satisfied: numpy in /usr/local/lib/python3.10/dist-packages (from torch-geometric) (1.22.4)\n",
            "Requirement already satisfied: scipy in /usr/local/lib/python3.10/dist-packages (from torch-geometric) (1.10.1)\n",
            "Requirement already satisfied: jinja2 in /usr/local/lib/python3.10/dist-packages (from torch-geometric) (3.1.2)\n",
            "Requirement already satisfied: requests in /usr/local/lib/python3.10/dist-packages (from torch-geometric) (2.27.1)\n",
            "Requirement already satisfied: pyparsing in /usr/local/lib/python3.10/dist-packages (from torch-geometric) (3.0.9)\n",
            "Requirement already satisfied: scikit-learn in /usr/local/lib/python3.10/dist-packages (from torch-geometric) (1.2.2)\n",
            "Requirement already satisfied: psutil>=5.8.0 in /usr/local/lib/python3.10/dist-packages (from torch-geometric) (5.9.5)\n",
            "Requirement already satisfied: MarkupSafe>=2.0 in /usr/local/lib/python3.10/dist-packages (from jinja2->torch-geometric) (2.1.2)\n",
            "Requirement already satisfied: urllib3<1.27,>=1.21.1 in /usr/local/lib/python3.10/dist-packages (from requests->torch-geometric) (1.26.15)\n",
            "Requirement already satisfied: certifi>=2017.4.17 in /usr/local/lib/python3.10/dist-packages (from requests->torch-geometric) (2022.12.7)\n",
            "Requirement already satisfied: charset-normalizer~=2.0.0 in /usr/local/lib/python3.10/dist-packages (from requests->torch-geometric) (2.0.12)\n",
            "Requirement already satisfied: idna<4,>=2.5 in /usr/local/lib/python3.10/dist-packages (from requests->torch-geometric) (3.4)\n",
            "Requirement already satisfied: joblib>=1.1.1 in /usr/local/lib/python3.10/dist-packages (from scikit-learn->torch-geometric) (1.2.0)\n",
            "Requirement already satisfied: threadpoolctl>=2.0.0 in /usr/local/lib/python3.10/dist-packages (from scikit-learn->torch-geometric) (3.1.0)\n",
            "Building wheels for collected packages: torch-geometric\n",
            "  Building wheel for torch-geometric (pyproject.toml) ... \u001b[?25l\u001b[?25hdone\n",
            "  Created wheel for torch-geometric: filename=torch_geometric-2.3.1-py3-none-any.whl size=910459 sha256=94f2b4f64eda9becfd8866dbe0fd3a60aa9a0f175fd5595663c82d5eeab9a051\n",
            "  Stored in directory: /root/.cache/pip/wheels/ac/dc/30/e2874821ff308ee67dcd7a66dbde912411e19e35a1addda028\n",
            "Successfully built torch-geometric\n",
            "Installing collected packages: torch-geometric\n",
            "Successfully installed torch-geometric-2.3.1\n"
          ]
        }
      ]
    },
    {
      "cell_type": "code",
      "execution_count": 10,
      "metadata": {
        "id": "Wy1Dc5Z9vGE8"
      },
      "outputs": [],
      "source": [
        "import pandas as pd\n",
        "import numpy as np\n",
        "import torch\n",
        "from torch_geometric.data import Data"
      ]
    },
    {
      "cell_type": "code",
      "source": [
        "cBio = pd.read_csv('/content/cBio (1).csv')"
      ],
      "metadata": {
        "id": "QQOFmd9l0XZg"
      },
      "execution_count": 23,
      "outputs": []
    },
    {
      "cell_type": "code",
      "source": [
        "cBio.head()"
      ],
      "metadata": {
        "colab": {
          "base_uri": "https://localhost:8080/",
          "height": 421
        },
        "id": "_eqxj5HV6b2F",
        "outputId": "9261135a-178e-4783-ad51-200e2c7c67d4"
      },
      "execution_count": 24,
      "outputs": [
        {
          "output_type": "execute_result",
          "data": {
            "text/plain": [
              "  Sample Identifier  Overall Survival (Months)    NUDT18     SHC3  NCRNA00112  \\\n",
              "0   TCGA-OR-A5J1-01                  44.547457   85.0144  97.5024         0.0   \n",
              "1   TCGA-OR-A5J2-01                  55.133642  165.8840  92.6050         0.0   \n",
              "2   TCGA-OR-A5J3-01                  68.744452  309.2880  10.0726         0.0   \n",
              "3   TCGA-OR-A5J5-01                  11.999868  178.9310  49.5740         0.0   \n",
              "4   TCGA-OR-A5J6-01                  88.864780  124.0660   5.5886         0.0   \n",
              "\n",
              "     FAM49B  FMO6P   BAT2L2    SIRT1  MSLNL  ...  SCARNA6  SNORD77    TLR10  \\\n",
              "0   671.950    0.0  2428.43  462.056    0.0  ...   0.0000      0.0  12.0077   \n",
              "1   812.911    0.0  5097.30  669.977    0.0  ...   0.4026      0.0   0.8053   \n",
              "2   482.299    0.0  1615.76  514.294    0.0  ...   0.5925      0.0   0.0000   \n",
              "3   466.305    0.0  1202.17  591.789    0.0  ...   0.0000      0.0   6.9713   \n",
              "4  1074.680    0.0  1424.53  805.312    0.0  ...   1.6766      0.0   1.1177   \n",
              "\n",
              "   GKN2   PCDHGB4    ZMAT5      AXIN2   LONRF1  KLHL10  C12orf36  \n",
              "0   0.0   17.2911  913.535   547.5500  363.112  1.9212       0.0  \n",
              "1   0.0  268.9890  303.978  1793.3200  592.672  0.0000       0.0  \n",
              "2   0.0  689.4860  324.592   522.5890  456.821  0.0000       0.0  \n",
              "3   0.0   54.2215  790.550   337.7230  484.895  1.5492       0.0  \n",
              "4   0.0    8.9417  291.550     9.5006  628.155  1.1177       0.0  \n",
              "\n",
              "[5 rows x 20513 columns]"
            ],
            "text/html": [
              "\n",
              "  <div id=\"df-b932498e-b334-4f0e-97cb-7e0d752b8fe9\">\n",
              "    <div class=\"colab-df-container\">\n",
              "      <div>\n",
              "<style scoped>\n",
              "    .dataframe tbody tr th:only-of-type {\n",
              "        vertical-align: middle;\n",
              "    }\n",
              "\n",
              "    .dataframe tbody tr th {\n",
              "        vertical-align: top;\n",
              "    }\n",
              "\n",
              "    .dataframe thead th {\n",
              "        text-align: right;\n",
              "    }\n",
              "</style>\n",
              "<table border=\"1\" class=\"dataframe\">\n",
              "  <thead>\n",
              "    <tr style=\"text-align: right;\">\n",
              "      <th></th>\n",
              "      <th>Sample Identifier</th>\n",
              "      <th>Overall Survival (Months)</th>\n",
              "      <th>NUDT18</th>\n",
              "      <th>SHC3</th>\n",
              "      <th>NCRNA00112</th>\n",
              "      <th>FAM49B</th>\n",
              "      <th>FMO6P</th>\n",
              "      <th>BAT2L2</th>\n",
              "      <th>SIRT1</th>\n",
              "      <th>MSLNL</th>\n",
              "      <th>...</th>\n",
              "      <th>SCARNA6</th>\n",
              "      <th>SNORD77</th>\n",
              "      <th>TLR10</th>\n",
              "      <th>GKN2</th>\n",
              "      <th>PCDHGB4</th>\n",
              "      <th>ZMAT5</th>\n",
              "      <th>AXIN2</th>\n",
              "      <th>LONRF1</th>\n",
              "      <th>KLHL10</th>\n",
              "      <th>C12orf36</th>\n",
              "    </tr>\n",
              "  </thead>\n",
              "  <tbody>\n",
              "    <tr>\n",
              "      <th>0</th>\n",
              "      <td>TCGA-OR-A5J1-01</td>\n",
              "      <td>44.547457</td>\n",
              "      <td>85.0144</td>\n",
              "      <td>97.5024</td>\n",
              "      <td>0.0</td>\n",
              "      <td>671.950</td>\n",
              "      <td>0.0</td>\n",
              "      <td>2428.43</td>\n",
              "      <td>462.056</td>\n",
              "      <td>0.0</td>\n",
              "      <td>...</td>\n",
              "      <td>0.0000</td>\n",
              "      <td>0.0</td>\n",
              "      <td>12.0077</td>\n",
              "      <td>0.0</td>\n",
              "      <td>17.2911</td>\n",
              "      <td>913.535</td>\n",
              "      <td>547.5500</td>\n",
              "      <td>363.112</td>\n",
              "      <td>1.9212</td>\n",
              "      <td>0.0</td>\n",
              "    </tr>\n",
              "    <tr>\n",
              "      <th>1</th>\n",
              "      <td>TCGA-OR-A5J2-01</td>\n",
              "      <td>55.133642</td>\n",
              "      <td>165.8840</td>\n",
              "      <td>92.6050</td>\n",
              "      <td>0.0</td>\n",
              "      <td>812.911</td>\n",
              "      <td>0.0</td>\n",
              "      <td>5097.30</td>\n",
              "      <td>669.977</td>\n",
              "      <td>0.0</td>\n",
              "      <td>...</td>\n",
              "      <td>0.4026</td>\n",
              "      <td>0.0</td>\n",
              "      <td>0.8053</td>\n",
              "      <td>0.0</td>\n",
              "      <td>268.9890</td>\n",
              "      <td>303.978</td>\n",
              "      <td>1793.3200</td>\n",
              "      <td>592.672</td>\n",
              "      <td>0.0000</td>\n",
              "      <td>0.0</td>\n",
              "    </tr>\n",
              "    <tr>\n",
              "      <th>2</th>\n",
              "      <td>TCGA-OR-A5J3-01</td>\n",
              "      <td>68.744452</td>\n",
              "      <td>309.2880</td>\n",
              "      <td>10.0726</td>\n",
              "      <td>0.0</td>\n",
              "      <td>482.299</td>\n",
              "      <td>0.0</td>\n",
              "      <td>1615.76</td>\n",
              "      <td>514.294</td>\n",
              "      <td>0.0</td>\n",
              "      <td>...</td>\n",
              "      <td>0.5925</td>\n",
              "      <td>0.0</td>\n",
              "      <td>0.0000</td>\n",
              "      <td>0.0</td>\n",
              "      <td>689.4860</td>\n",
              "      <td>324.592</td>\n",
              "      <td>522.5890</td>\n",
              "      <td>456.821</td>\n",
              "      <td>0.0000</td>\n",
              "      <td>0.0</td>\n",
              "    </tr>\n",
              "    <tr>\n",
              "      <th>3</th>\n",
              "      <td>TCGA-OR-A5J5-01</td>\n",
              "      <td>11.999868</td>\n",
              "      <td>178.9310</td>\n",
              "      <td>49.5740</td>\n",
              "      <td>0.0</td>\n",
              "      <td>466.305</td>\n",
              "      <td>0.0</td>\n",
              "      <td>1202.17</td>\n",
              "      <td>591.789</td>\n",
              "      <td>0.0</td>\n",
              "      <td>...</td>\n",
              "      <td>0.0000</td>\n",
              "      <td>0.0</td>\n",
              "      <td>6.9713</td>\n",
              "      <td>0.0</td>\n",
              "      <td>54.2215</td>\n",
              "      <td>790.550</td>\n",
              "      <td>337.7230</td>\n",
              "      <td>484.895</td>\n",
              "      <td>1.5492</td>\n",
              "      <td>0.0</td>\n",
              "    </tr>\n",
              "    <tr>\n",
              "      <th>4</th>\n",
              "      <td>TCGA-OR-A5J6-01</td>\n",
              "      <td>88.864780</td>\n",
              "      <td>124.0660</td>\n",
              "      <td>5.5886</td>\n",
              "      <td>0.0</td>\n",
              "      <td>1074.680</td>\n",
              "      <td>0.0</td>\n",
              "      <td>1424.53</td>\n",
              "      <td>805.312</td>\n",
              "      <td>0.0</td>\n",
              "      <td>...</td>\n",
              "      <td>1.6766</td>\n",
              "      <td>0.0</td>\n",
              "      <td>1.1177</td>\n",
              "      <td>0.0</td>\n",
              "      <td>8.9417</td>\n",
              "      <td>291.550</td>\n",
              "      <td>9.5006</td>\n",
              "      <td>628.155</td>\n",
              "      <td>1.1177</td>\n",
              "      <td>0.0</td>\n",
              "    </tr>\n",
              "  </tbody>\n",
              "</table>\n",
              "<p>5 rows × 20513 columns</p>\n",
              "</div>\n",
              "      <button class=\"colab-df-convert\" onclick=\"convertToInteractive('df-b932498e-b334-4f0e-97cb-7e0d752b8fe9')\"\n",
              "              title=\"Convert this dataframe to an interactive table.\"\n",
              "              style=\"display:none;\">\n",
              "        \n",
              "  <svg xmlns=\"http://www.w3.org/2000/svg\" height=\"24px\"viewBox=\"0 0 24 24\"\n",
              "       width=\"24px\">\n",
              "    <path d=\"M0 0h24v24H0V0z\" fill=\"none\"/>\n",
              "    <path d=\"M18.56 5.44l.94 2.06.94-2.06 2.06-.94-2.06-.94-.94-2.06-.94 2.06-2.06.94zm-11 1L8.5 8.5l.94-2.06 2.06-.94-2.06-.94L8.5 2.5l-.94 2.06-2.06.94zm10 10l.94 2.06.94-2.06 2.06-.94-2.06-.94-.94-2.06-.94 2.06-2.06.94z\"/><path d=\"M17.41 7.96l-1.37-1.37c-.4-.4-.92-.59-1.43-.59-.52 0-1.04.2-1.43.59L10.3 9.45l-7.72 7.72c-.78.78-.78 2.05 0 2.83L4 21.41c.39.39.9.59 1.41.59.51 0 1.02-.2 1.41-.59l7.78-7.78 2.81-2.81c.8-.78.8-2.07 0-2.86zM5.41 20L4 18.59l7.72-7.72 1.47 1.35L5.41 20z\"/>\n",
              "  </svg>\n",
              "      </button>\n",
              "      \n",
              "  <style>\n",
              "    .colab-df-container {\n",
              "      display:flex;\n",
              "      flex-wrap:wrap;\n",
              "      gap: 12px;\n",
              "    }\n",
              "\n",
              "    .colab-df-convert {\n",
              "      background-color: #E8F0FE;\n",
              "      border: none;\n",
              "      border-radius: 50%;\n",
              "      cursor: pointer;\n",
              "      display: none;\n",
              "      fill: #1967D2;\n",
              "      height: 32px;\n",
              "      padding: 0 0 0 0;\n",
              "      width: 32px;\n",
              "    }\n",
              "\n",
              "    .colab-df-convert:hover {\n",
              "      background-color: #E2EBFA;\n",
              "      box-shadow: 0px 1px 2px rgba(60, 64, 67, 0.3), 0px 1px 3px 1px rgba(60, 64, 67, 0.15);\n",
              "      fill: #174EA6;\n",
              "    }\n",
              "\n",
              "    [theme=dark] .colab-df-convert {\n",
              "      background-color: #3B4455;\n",
              "      fill: #D2E3FC;\n",
              "    }\n",
              "\n",
              "    [theme=dark] .colab-df-convert:hover {\n",
              "      background-color: #434B5C;\n",
              "      box-shadow: 0px 1px 3px 1px rgba(0, 0, 0, 0.15);\n",
              "      filter: drop-shadow(0px 1px 2px rgba(0, 0, 0, 0.3));\n",
              "      fill: #FFFFFF;\n",
              "    }\n",
              "  </style>\n",
              "\n",
              "      <script>\n",
              "        const buttonEl =\n",
              "          document.querySelector('#df-b932498e-b334-4f0e-97cb-7e0d752b8fe9 button.colab-df-convert');\n",
              "        buttonEl.style.display =\n",
              "          google.colab.kernel.accessAllowed ? 'block' : 'none';\n",
              "\n",
              "        async function convertToInteractive(key) {\n",
              "          const element = document.querySelector('#df-b932498e-b334-4f0e-97cb-7e0d752b8fe9');\n",
              "          const dataTable =\n",
              "            await google.colab.kernel.invokeFunction('convertToInteractive',\n",
              "                                                     [key], {});\n",
              "          if (!dataTable) return;\n",
              "\n",
              "          const docLinkHtml = 'Like what you see? Visit the ' +\n",
              "            '<a target=\"_blank\" href=https://colab.research.google.com/notebooks/data_table.ipynb>data table notebook</a>'\n",
              "            + ' to learn more about interactive tables.';\n",
              "          element.innerHTML = '';\n",
              "          dataTable['output_type'] = 'display_data';\n",
              "          await google.colab.output.renderOutput(dataTable, element);\n",
              "          const docLink = document.createElement('div');\n",
              "          docLink.innerHTML = docLinkHtml;\n",
              "          element.appendChild(docLink);\n",
              "        }\n",
              "      </script>\n",
              "    </div>\n",
              "  </div>\n",
              "  "
            ]
          },
          "metadata": {},
          "execution_count": 24
        }
      ]
    },
    {
      "cell_type": "code",
      "source": [
        "path = \"/content/drive/MyDrive/gsoc data/PathwayCommons12.reactome.hgnc.sif.gz\"  \n",
        "\n",
        "\n",
        "#specify compression type because the file is compressed\n",
        "df = pd.read_csv(path, sep=\"\\t\", compression=\"gzip\", header=None, names=[\"Source\", \"InteractionType\", \"Target\"])"
      ],
      "metadata": {
        "id": "h2FVAe724Jd2"
      },
      "execution_count": 14,
      "outputs": []
    },
    {
      "cell_type": "code",
      "source": [
        "df.head()"
      ],
      "metadata": {
        "colab": {
          "base_uri": "https://localhost:8080/",
          "height": 206
        },
        "id": "3zTTTw9F5Pia",
        "outputId": "9cbc4e8a-7404-43c7-c47a-8d39b10a692a"
      },
      "execution_count": 15,
      "outputs": [
        {
          "output_type": "execute_result",
          "data": {
            "text/plain": [
              "  Source  InteractionType    Target\n",
              "0   A1CF  in-complex-with   APOBEC1\n",
              "1   A1CF  in-complex-with   APOBEC2\n",
              "2   A1CF  in-complex-with  APOBEC3A\n",
              "3   A1CF  in-complex-with  APOBEC3B\n",
              "4   A1CF  in-complex-with  APOBEC3C"
            ],
            "text/html": [
              "\n",
              "  <div id=\"df-c243195e-3e19-4a2d-8c28-f4ed676fd5ba\">\n",
              "    <div class=\"colab-df-container\">\n",
              "      <div>\n",
              "<style scoped>\n",
              "    .dataframe tbody tr th:only-of-type {\n",
              "        vertical-align: middle;\n",
              "    }\n",
              "\n",
              "    .dataframe tbody tr th {\n",
              "        vertical-align: top;\n",
              "    }\n",
              "\n",
              "    .dataframe thead th {\n",
              "        text-align: right;\n",
              "    }\n",
              "</style>\n",
              "<table border=\"1\" class=\"dataframe\">\n",
              "  <thead>\n",
              "    <tr style=\"text-align: right;\">\n",
              "      <th></th>\n",
              "      <th>Source</th>\n",
              "      <th>InteractionType</th>\n",
              "      <th>Target</th>\n",
              "    </tr>\n",
              "  </thead>\n",
              "  <tbody>\n",
              "    <tr>\n",
              "      <th>0</th>\n",
              "      <td>A1CF</td>\n",
              "      <td>in-complex-with</td>\n",
              "      <td>APOBEC1</td>\n",
              "    </tr>\n",
              "    <tr>\n",
              "      <th>1</th>\n",
              "      <td>A1CF</td>\n",
              "      <td>in-complex-with</td>\n",
              "      <td>APOBEC2</td>\n",
              "    </tr>\n",
              "    <tr>\n",
              "      <th>2</th>\n",
              "      <td>A1CF</td>\n",
              "      <td>in-complex-with</td>\n",
              "      <td>APOBEC3A</td>\n",
              "    </tr>\n",
              "    <tr>\n",
              "      <th>3</th>\n",
              "      <td>A1CF</td>\n",
              "      <td>in-complex-with</td>\n",
              "      <td>APOBEC3B</td>\n",
              "    </tr>\n",
              "    <tr>\n",
              "      <th>4</th>\n",
              "      <td>A1CF</td>\n",
              "      <td>in-complex-with</td>\n",
              "      <td>APOBEC3C</td>\n",
              "    </tr>\n",
              "  </tbody>\n",
              "</table>\n",
              "</div>\n",
              "      <button class=\"colab-df-convert\" onclick=\"convertToInteractive('df-c243195e-3e19-4a2d-8c28-f4ed676fd5ba')\"\n",
              "              title=\"Convert this dataframe to an interactive table.\"\n",
              "              style=\"display:none;\">\n",
              "        \n",
              "  <svg xmlns=\"http://www.w3.org/2000/svg\" height=\"24px\"viewBox=\"0 0 24 24\"\n",
              "       width=\"24px\">\n",
              "    <path d=\"M0 0h24v24H0V0z\" fill=\"none\"/>\n",
              "    <path d=\"M18.56 5.44l.94 2.06.94-2.06 2.06-.94-2.06-.94-.94-2.06-.94 2.06-2.06.94zm-11 1L8.5 8.5l.94-2.06 2.06-.94-2.06-.94L8.5 2.5l-.94 2.06-2.06.94zm10 10l.94 2.06.94-2.06 2.06-.94-2.06-.94-.94-2.06-.94 2.06-2.06.94z\"/><path d=\"M17.41 7.96l-1.37-1.37c-.4-.4-.92-.59-1.43-.59-.52 0-1.04.2-1.43.59L10.3 9.45l-7.72 7.72c-.78.78-.78 2.05 0 2.83L4 21.41c.39.39.9.59 1.41.59.51 0 1.02-.2 1.41-.59l7.78-7.78 2.81-2.81c.8-.78.8-2.07 0-2.86zM5.41 20L4 18.59l7.72-7.72 1.47 1.35L5.41 20z\"/>\n",
              "  </svg>\n",
              "      </button>\n",
              "      \n",
              "  <style>\n",
              "    .colab-df-container {\n",
              "      display:flex;\n",
              "      flex-wrap:wrap;\n",
              "      gap: 12px;\n",
              "    }\n",
              "\n",
              "    .colab-df-convert {\n",
              "      background-color: #E8F0FE;\n",
              "      border: none;\n",
              "      border-radius: 50%;\n",
              "      cursor: pointer;\n",
              "      display: none;\n",
              "      fill: #1967D2;\n",
              "      height: 32px;\n",
              "      padding: 0 0 0 0;\n",
              "      width: 32px;\n",
              "    }\n",
              "\n",
              "    .colab-df-convert:hover {\n",
              "      background-color: #E2EBFA;\n",
              "      box-shadow: 0px 1px 2px rgba(60, 64, 67, 0.3), 0px 1px 3px 1px rgba(60, 64, 67, 0.15);\n",
              "      fill: #174EA6;\n",
              "    }\n",
              "\n",
              "    [theme=dark] .colab-df-convert {\n",
              "      background-color: #3B4455;\n",
              "      fill: #D2E3FC;\n",
              "    }\n",
              "\n",
              "    [theme=dark] .colab-df-convert:hover {\n",
              "      background-color: #434B5C;\n",
              "      box-shadow: 0px 1px 3px 1px rgba(0, 0, 0, 0.15);\n",
              "      filter: drop-shadow(0px 1px 2px rgba(0, 0, 0, 0.3));\n",
              "      fill: #FFFFFF;\n",
              "    }\n",
              "  </style>\n",
              "\n",
              "      <script>\n",
              "        const buttonEl =\n",
              "          document.querySelector('#df-c243195e-3e19-4a2d-8c28-f4ed676fd5ba button.colab-df-convert');\n",
              "        buttonEl.style.display =\n",
              "          google.colab.kernel.accessAllowed ? 'block' : 'none';\n",
              "\n",
              "        async function convertToInteractive(key) {\n",
              "          const element = document.querySelector('#df-c243195e-3e19-4a2d-8c28-f4ed676fd5ba');\n",
              "          const dataTable =\n",
              "            await google.colab.kernel.invokeFunction('convertToInteractive',\n",
              "                                                     [key], {});\n",
              "          if (!dataTable) return;\n",
              "\n",
              "          const docLinkHtml = 'Like what you see? Visit the ' +\n",
              "            '<a target=\"_blank\" href=https://colab.research.google.com/notebooks/data_table.ipynb>data table notebook</a>'\n",
              "            + ' to learn more about interactive tables.';\n",
              "          element.innerHTML = '';\n",
              "          dataTable['output_type'] = 'display_data';\n",
              "          await google.colab.output.renderOutput(dataTable, element);\n",
              "          const docLink = document.createElement('div');\n",
              "          docLink.innerHTML = docLinkHtml;\n",
              "          element.appendChild(docLink);\n",
              "        }\n",
              "      </script>\n",
              "    </div>\n",
              "  </div>\n",
              "  "
            ]
          },
          "metadata": {},
          "execution_count": 15
        }
      ]
    },
    {
      "cell_type": "code",
      "source": [
        "reduced_df = df.drop(columns='InteractionType')"
      ],
      "metadata": {
        "id": "-AGfsNU452Zm"
      },
      "execution_count": 16,
      "outputs": []
    },
    {
      "cell_type": "code",
      "source": [
        "source_nodes = reduced_df['Source'].tolist()\n",
        "target_nodes = reduced_df['Target'].tolist()\n",
        "\n",
        "# Create a set of all unique nodes\n",
        "all_nodes = set(source_nodes + target_nodes)\n",
        "\n",
        "# Create a dictionary to map each unique node to a unique index\n",
        "node_to_index = {node: index for index, node in enumerate(all_nodes)}\n",
        "\n",
        "# Map the source and target nodes to their corresponding indices\n",
        "source_indices = [node_to_index[node] for node in source_nodes]\n",
        "target_indices = [node_to_index[node] for node in target_nodes]"
      ],
      "metadata": {
        "id": "3a2Ek5R65Nwo"
      },
      "execution_count": 17,
      "outputs": []
    },
    {
      "cell_type": "code",
      "source": [
        "# Convert the source and target indices to a PyTorch tensor\n",
        "edge_index = torch.tensor([source_indices, target_indices], dtype=torch.long)\n",
        "\n",
        "# Create the graph data object\n",
        "graph_data = Data(edge_index=edge_index)"
      ],
      "metadata": {
        "id": "e3GiO7AB3Acv"
      },
      "execution_count": 18,
      "outputs": []
    },
    {
      "cell_type": "code",
      "source": [
        "node_features = cBio.iloc[:, 2:].values  # Extract the node feature values\n",
        "\n",
        "num_nodes, num_features = node_features.shape  # Get the shape of the node features\n",
        "\n",
        "# Create an empty array to store the node features\n",
        "x = np.zeros((num_nodes, num_features), dtype=np.float32)\n",
        "\n",
        "# Fill in the array with the node feature values\n",
        "for i, row in cBio.iterrows():\n",
        "    node_id = row['Sample Identifier']\n",
        "    if node_id in node_to_index:  # Check if the node is present in the graph structure\n",
        "        node_index = node_to_index[node_id]\n",
        "        x[node_index] = row.values[2:]  # Exclude the Sample Identifier and Overall Survival columns\n",
        "\n",
        "# Convert the array to a PyTorch tensor\n",
        "x = torch.from_numpy(x)\n",
        "\n",
        "# Create a PyG Data object with the graph structure and node features\n",
        "data = Data(x=x, edge_index=edge_index)"
      ],
      "metadata": {
        "id": "FZebIY1k1ss6"
      },
      "execution_count": 25,
      "outputs": []
    },
    {
      "cell_type": "code",
      "source": [
        "print(data)"
      ],
      "metadata": {
        "colab": {
          "base_uri": "https://localhost:8080/"
        },
        "id": "A1M18KnT6SM5",
        "outputId": "bd2afef6-e74c-4874-a6d4-977ccdb0d5ff"
      },
      "execution_count": 26,
      "outputs": [
        {
          "output_type": "stream",
          "name": "stdout",
          "text": [
            "Data(x=[78, 20511], edge_index=[2, 353636])\n"
          ]
        }
      ]
    },
    {
      "cell_type": "code",
      "source": [
        "print(data.num_nodes)  # Print the number of nodes\n",
        "print(data.num_edges)  # Print the number of edges"
      ],
      "metadata": {
        "colab": {
          "base_uri": "https://localhost:8080/"
        },
        "id": "xbVad3Tv9le9",
        "outputId": "fd17ccf5-fb09-4f5a-f23b-203ea717a4d8"
      },
      "execution_count": 28,
      "outputs": [
        {
          "output_type": "stream",
          "name": "stdout",
          "text": [
            "78\n",
            "353636\n"
          ]
        }
      ]
    },
    {
      "cell_type": "code",
      "source": [
        "print(data.x)  # Print the node features"
      ],
      "metadata": {
        "colab": {
          "base_uri": "https://localhost:8080/"
        },
        "id": "KlySDyzl9qNC",
        "outputId": "66509c2e-b642-4b4f-feb5-1751ab4a543b"
      },
      "execution_count": 29,
      "outputs": [
        {
          "output_type": "stream",
          "name": "stdout",
          "text": [
            "tensor([[0., 0., 0.,  ..., 0., 0., 0.],\n",
            "        [0., 0., 0.,  ..., 0., 0., 0.],\n",
            "        [0., 0., 0.,  ..., 0., 0., 0.],\n",
            "        ...,\n",
            "        [0., 0., 0.,  ..., 0., 0., 0.],\n",
            "        [0., 0., 0.,  ..., 0., 0., 0.],\n",
            "        [0., 0., 0.,  ..., 0., 0., 0.]])\n"
          ]
        }
      ]
    },
    {
      "cell_type": "code",
      "source": [],
      "metadata": {
        "id": "FVRYO48m9uBg"
      },
      "execution_count": null,
      "outputs": []
    }
  ]
}