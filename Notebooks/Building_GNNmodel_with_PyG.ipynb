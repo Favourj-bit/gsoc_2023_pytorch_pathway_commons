{
  "nbformat": 4,
  "nbformat_minor": 0,
  "metadata": {
    "colab": {
      "provenance": [],
      "mount_file_id": "1YHTJgRreJnAmvs3qNkErBFc41vAwqSa9",
      "authorship_tag": "ABX9TyM4zMKs+0C6JamtxDFMXOq5",
      "include_colab_link": true
    },
    "kernelspec": {
      "name": "python3",
      "display_name": "Python 3"
    },
    "language_info": {
      "name": "python"
    }
  },
  "cells": [
    {
      "cell_type": "markdown",
      "metadata": {
        "id": "view-in-github",
        "colab_type": "text"
      },
      "source": [
        "<a href=\"https://colab.research.google.com/github/cannin/gsoc_2023_pytorch_pathway_commons/blob/main/Building_GNNmodel_with_PyG.ipynb\" target=\"_parent\"><img src=\"https://colab.research.google.com/assets/colab-badge.svg\" alt=\"Open In Colab\"/></a>"
      ]
    },
    {
      "cell_type": "code",
      "source": [
        "!pip install torch-geometric"
      ],
      "metadata": {
        "id": "OE2xc7If0ZCT",
        "colab": {
          "base_uri": "https://localhost:8080/"
        },
        "outputId": "9fac3a65-2094-48cf-9482-6b8e02fc17e9"
      },
      "execution_count": 1,
      "outputs": [
        {
          "output_type": "stream",
          "name": "stdout",
          "text": [
            "Looking in indexes: https://pypi.org/simple, https://us-python.pkg.dev/colab-wheels/public/simple/\n",
            "Requirement already satisfied: torch-geometric in /usr/local/lib/python3.10/dist-packages (2.3.1)\n",
            "Requirement already satisfied: tqdm in /usr/local/lib/python3.10/dist-packages (from torch-geometric) (4.65.0)\n",
            "Requirement already satisfied: numpy in /usr/local/lib/python3.10/dist-packages (from torch-geometric) (1.22.4)\n",
            "Requirement already satisfied: scipy in /usr/local/lib/python3.10/dist-packages (from torch-geometric) (1.10.1)\n",
            "Requirement already satisfied: jinja2 in /usr/local/lib/python3.10/dist-packages (from torch-geometric) (3.1.2)\n",
            "Requirement already satisfied: requests in /usr/local/lib/python3.10/dist-packages (from torch-geometric) (2.27.1)\n",
            "Requirement already satisfied: pyparsing in /usr/local/lib/python3.10/dist-packages (from torch-geometric) (3.0.9)\n",
            "Requirement already satisfied: scikit-learn in /usr/local/lib/python3.10/dist-packages (from torch-geometric) (1.2.2)\n",
            "Requirement already satisfied: psutil>=5.8.0 in /usr/local/lib/python3.10/dist-packages (from torch-geometric) (5.9.5)\n",
            "Requirement already satisfied: MarkupSafe>=2.0 in /usr/local/lib/python3.10/dist-packages (from jinja2->torch-geometric) (2.1.2)\n",
            "Requirement already satisfied: urllib3<1.27,>=1.21.1 in /usr/local/lib/python3.10/dist-packages (from requests->torch-geometric) (1.26.15)\n",
            "Requirement already satisfied: certifi>=2017.4.17 in /usr/local/lib/python3.10/dist-packages (from requests->torch-geometric) (2022.12.7)\n",
            "Requirement already satisfied: charset-normalizer~=2.0.0 in /usr/local/lib/python3.10/dist-packages (from requests->torch-geometric) (2.0.12)\n",
            "Requirement already satisfied: idna<4,>=2.5 in /usr/local/lib/python3.10/dist-packages (from requests->torch-geometric) (3.4)\n",
            "Requirement already satisfied: joblib>=1.1.1 in /usr/local/lib/python3.10/dist-packages (from scikit-learn->torch-geometric) (1.2.0)\n",
            "Requirement already satisfied: threadpoolctl>=2.0.0 in /usr/local/lib/python3.10/dist-packages (from scikit-learn->torch-geometric) (3.1.0)\n"
          ]
        }
      ]
    },
    {
      "cell_type": "code",
      "execution_count": 2,
      "metadata": {
        "id": "Wy1Dc5Z9vGE8"
      },
      "outputs": [],
      "source": [
        "import pandas as pd\n",
        "import numpy as np\n",
        "import torch\n",
        "from torch_geometric.data import Data"
      ]
    },
    {
      "cell_type": "code",
      "source": [
        "cBio = pd.read_csv('/content/cBio (1).csv')"
      ],
      "metadata": {
        "id": "QQOFmd9l0XZg"
      },
      "execution_count": 3,
      "outputs": []
    },
    {
      "cell_type": "code",
      "source": [
        "cBio.head()"
      ],
      "metadata": {
        "colab": {
          "base_uri": "https://localhost:8080/",
          "height": 421
        },
        "id": "_eqxj5HV6b2F",
        "outputId": "b8a97e08-55dc-4687-af3a-c4676be7e632"
      },
      "execution_count": 4,
      "outputs": [
        {
          "output_type": "execute_result",
          "data": {
            "text/plain": [
              "  Sample Identifier  Overall Survival (Months)    NUDT18     SHC3  NCRNA00112  \\\n",
              "0   TCGA-OR-A5J1-01                  44.547457   85.0144  97.5024         0.0   \n",
              "1   TCGA-OR-A5J2-01                  55.133642  165.8840  92.6050         0.0   \n",
              "2   TCGA-OR-A5J3-01                  68.744452  309.2880  10.0726         0.0   \n",
              "3   TCGA-OR-A5J5-01                  11.999868  178.9310  49.5740         0.0   \n",
              "4   TCGA-OR-A5J6-01                  88.864780  124.0660   5.5886         0.0   \n",
              "\n",
              "     FAM49B  FMO6P   BAT2L2    SIRT1  MSLNL  ...  SCARNA6  SNORD77    TLR10  \\\n",
              "0   671.950    0.0  2428.43  462.056    0.0  ...   0.0000      0.0  12.0077   \n",
              "1   812.911    0.0  5097.30  669.977    0.0  ...   0.4026      0.0   0.8053   \n",
              "2   482.299    0.0  1615.76  514.294    0.0  ...   0.5925      0.0   0.0000   \n",
              "3   466.305    0.0  1202.17  591.789    0.0  ...   0.0000      0.0   6.9713   \n",
              "4  1074.680    0.0  1424.53  805.312    0.0  ...   1.6766      0.0   1.1177   \n",
              "\n",
              "   GKN2   PCDHGB4    ZMAT5      AXIN2   LONRF1  KLHL10  C12orf36  \n",
              "0   0.0   17.2911  913.535   547.5500  363.112  1.9212       0.0  \n",
              "1   0.0  268.9890  303.978  1793.3200  592.672  0.0000       0.0  \n",
              "2   0.0  689.4860  324.592   522.5890  456.821  0.0000       0.0  \n",
              "3   0.0   54.2215  790.550   337.7230  484.895  1.5492       0.0  \n",
              "4   0.0    8.9417  291.550     9.5006  628.155  1.1177       0.0  \n",
              "\n",
              "[5 rows x 20513 columns]"
            ],
            "text/html": [
              "\n",
              "  <div id=\"df-a93951ed-6e17-442d-9c89-ef5663ca5afd\">\n",
              "    <div class=\"colab-df-container\">\n",
              "      <div>\n",
              "<style scoped>\n",
              "    .dataframe tbody tr th:only-of-type {\n",
              "        vertical-align: middle;\n",
              "    }\n",
              "\n",
              "    .dataframe tbody tr th {\n",
              "        vertical-align: top;\n",
              "    }\n",
              "\n",
              "    .dataframe thead th {\n",
              "        text-align: right;\n",
              "    }\n",
              "</style>\n",
              "<table border=\"1\" class=\"dataframe\">\n",
              "  <thead>\n",
              "    <tr style=\"text-align: right;\">\n",
              "      <th></th>\n",
              "      <th>Sample Identifier</th>\n",
              "      <th>Overall Survival (Months)</th>\n",
              "      <th>NUDT18</th>\n",
              "      <th>SHC3</th>\n",
              "      <th>NCRNA00112</th>\n",
              "      <th>FAM49B</th>\n",
              "      <th>FMO6P</th>\n",
              "      <th>BAT2L2</th>\n",
              "      <th>SIRT1</th>\n",
              "      <th>MSLNL</th>\n",
              "      <th>...</th>\n",
              "      <th>SCARNA6</th>\n",
              "      <th>SNORD77</th>\n",
              "      <th>TLR10</th>\n",
              "      <th>GKN2</th>\n",
              "      <th>PCDHGB4</th>\n",
              "      <th>ZMAT5</th>\n",
              "      <th>AXIN2</th>\n",
              "      <th>LONRF1</th>\n",
              "      <th>KLHL10</th>\n",
              "      <th>C12orf36</th>\n",
              "    </tr>\n",
              "  </thead>\n",
              "  <tbody>\n",
              "    <tr>\n",
              "      <th>0</th>\n",
              "      <td>TCGA-OR-A5J1-01</td>\n",
              "      <td>44.547457</td>\n",
              "      <td>85.0144</td>\n",
              "      <td>97.5024</td>\n",
              "      <td>0.0</td>\n",
              "      <td>671.950</td>\n",
              "      <td>0.0</td>\n",
              "      <td>2428.43</td>\n",
              "      <td>462.056</td>\n",
              "      <td>0.0</td>\n",
              "      <td>...</td>\n",
              "      <td>0.0000</td>\n",
              "      <td>0.0</td>\n",
              "      <td>12.0077</td>\n",
              "      <td>0.0</td>\n",
              "      <td>17.2911</td>\n",
              "      <td>913.535</td>\n",
              "      <td>547.5500</td>\n",
              "      <td>363.112</td>\n",
              "      <td>1.9212</td>\n",
              "      <td>0.0</td>\n",
              "    </tr>\n",
              "    <tr>\n",
              "      <th>1</th>\n",
              "      <td>TCGA-OR-A5J2-01</td>\n",
              "      <td>55.133642</td>\n",
              "      <td>165.8840</td>\n",
              "      <td>92.6050</td>\n",
              "      <td>0.0</td>\n",
              "      <td>812.911</td>\n",
              "      <td>0.0</td>\n",
              "      <td>5097.30</td>\n",
              "      <td>669.977</td>\n",
              "      <td>0.0</td>\n",
              "      <td>...</td>\n",
              "      <td>0.4026</td>\n",
              "      <td>0.0</td>\n",
              "      <td>0.8053</td>\n",
              "      <td>0.0</td>\n",
              "      <td>268.9890</td>\n",
              "      <td>303.978</td>\n",
              "      <td>1793.3200</td>\n",
              "      <td>592.672</td>\n",
              "      <td>0.0000</td>\n",
              "      <td>0.0</td>\n",
              "    </tr>\n",
              "    <tr>\n",
              "      <th>2</th>\n",
              "      <td>TCGA-OR-A5J3-01</td>\n",
              "      <td>68.744452</td>\n",
              "      <td>309.2880</td>\n",
              "      <td>10.0726</td>\n",
              "      <td>0.0</td>\n",
              "      <td>482.299</td>\n",
              "      <td>0.0</td>\n",
              "      <td>1615.76</td>\n",
              "      <td>514.294</td>\n",
              "      <td>0.0</td>\n",
              "      <td>...</td>\n",
              "      <td>0.5925</td>\n",
              "      <td>0.0</td>\n",
              "      <td>0.0000</td>\n",
              "      <td>0.0</td>\n",
              "      <td>689.4860</td>\n",
              "      <td>324.592</td>\n",
              "      <td>522.5890</td>\n",
              "      <td>456.821</td>\n",
              "      <td>0.0000</td>\n",
              "      <td>0.0</td>\n",
              "    </tr>\n",
              "    <tr>\n",
              "      <th>3</th>\n",
              "      <td>TCGA-OR-A5J5-01</td>\n",
              "      <td>11.999868</td>\n",
              "      <td>178.9310</td>\n",
              "      <td>49.5740</td>\n",
              "      <td>0.0</td>\n",
              "      <td>466.305</td>\n",
              "      <td>0.0</td>\n",
              "      <td>1202.17</td>\n",
              "      <td>591.789</td>\n",
              "      <td>0.0</td>\n",
              "      <td>...</td>\n",
              "      <td>0.0000</td>\n",
              "      <td>0.0</td>\n",
              "      <td>6.9713</td>\n",
              "      <td>0.0</td>\n",
              "      <td>54.2215</td>\n",
              "      <td>790.550</td>\n",
              "      <td>337.7230</td>\n",
              "      <td>484.895</td>\n",
              "      <td>1.5492</td>\n",
              "      <td>0.0</td>\n",
              "    </tr>\n",
              "    <tr>\n",
              "      <th>4</th>\n",
              "      <td>TCGA-OR-A5J6-01</td>\n",
              "      <td>88.864780</td>\n",
              "      <td>124.0660</td>\n",
              "      <td>5.5886</td>\n",
              "      <td>0.0</td>\n",
              "      <td>1074.680</td>\n",
              "      <td>0.0</td>\n",
              "      <td>1424.53</td>\n",
              "      <td>805.312</td>\n",
              "      <td>0.0</td>\n",
              "      <td>...</td>\n",
              "      <td>1.6766</td>\n",
              "      <td>0.0</td>\n",
              "      <td>1.1177</td>\n",
              "      <td>0.0</td>\n",
              "      <td>8.9417</td>\n",
              "      <td>291.550</td>\n",
              "      <td>9.5006</td>\n",
              "      <td>628.155</td>\n",
              "      <td>1.1177</td>\n",
              "      <td>0.0</td>\n",
              "    </tr>\n",
              "  </tbody>\n",
              "</table>\n",
              "<p>5 rows × 20513 columns</p>\n",
              "</div>\n",
              "      <button class=\"colab-df-convert\" onclick=\"convertToInteractive('df-a93951ed-6e17-442d-9c89-ef5663ca5afd')\"\n",
              "              title=\"Convert this dataframe to an interactive table.\"\n",
              "              style=\"display:none;\">\n",
              "        \n",
              "  <svg xmlns=\"http://www.w3.org/2000/svg\" height=\"24px\"viewBox=\"0 0 24 24\"\n",
              "       width=\"24px\">\n",
              "    <path d=\"M0 0h24v24H0V0z\" fill=\"none\"/>\n",
              "    <path d=\"M18.56 5.44l.94 2.06.94-2.06 2.06-.94-2.06-.94-.94-2.06-.94 2.06-2.06.94zm-11 1L8.5 8.5l.94-2.06 2.06-.94-2.06-.94L8.5 2.5l-.94 2.06-2.06.94zm10 10l.94 2.06.94-2.06 2.06-.94-2.06-.94-.94-2.06-.94 2.06-2.06.94z\"/><path d=\"M17.41 7.96l-1.37-1.37c-.4-.4-.92-.59-1.43-.59-.52 0-1.04.2-1.43.59L10.3 9.45l-7.72 7.72c-.78.78-.78 2.05 0 2.83L4 21.41c.39.39.9.59 1.41.59.51 0 1.02-.2 1.41-.59l7.78-7.78 2.81-2.81c.8-.78.8-2.07 0-2.86zM5.41 20L4 18.59l7.72-7.72 1.47 1.35L5.41 20z\"/>\n",
              "  </svg>\n",
              "      </button>\n",
              "      \n",
              "  <style>\n",
              "    .colab-df-container {\n",
              "      display:flex;\n",
              "      flex-wrap:wrap;\n",
              "      gap: 12px;\n",
              "    }\n",
              "\n",
              "    .colab-df-convert {\n",
              "      background-color: #E8F0FE;\n",
              "      border: none;\n",
              "      border-radius: 50%;\n",
              "      cursor: pointer;\n",
              "      display: none;\n",
              "      fill: #1967D2;\n",
              "      height: 32px;\n",
              "      padding: 0 0 0 0;\n",
              "      width: 32px;\n",
              "    }\n",
              "\n",
              "    .colab-df-convert:hover {\n",
              "      background-color: #E2EBFA;\n",
              "      box-shadow: 0px 1px 2px rgba(60, 64, 67, 0.3), 0px 1px 3px 1px rgba(60, 64, 67, 0.15);\n",
              "      fill: #174EA6;\n",
              "    }\n",
              "\n",
              "    [theme=dark] .colab-df-convert {\n",
              "      background-color: #3B4455;\n",
              "      fill: #D2E3FC;\n",
              "    }\n",
              "\n",
              "    [theme=dark] .colab-df-convert:hover {\n",
              "      background-color: #434B5C;\n",
              "      box-shadow: 0px 1px 3px 1px rgba(0, 0, 0, 0.15);\n",
              "      filter: drop-shadow(0px 1px 2px rgba(0, 0, 0, 0.3));\n",
              "      fill: #FFFFFF;\n",
              "    }\n",
              "  </style>\n",
              "\n",
              "      <script>\n",
              "        const buttonEl =\n",
              "          document.querySelector('#df-a93951ed-6e17-442d-9c89-ef5663ca5afd button.colab-df-convert');\n",
              "        buttonEl.style.display =\n",
              "          google.colab.kernel.accessAllowed ? 'block' : 'none';\n",
              "\n",
              "        async function convertToInteractive(key) {\n",
              "          const element = document.querySelector('#df-a93951ed-6e17-442d-9c89-ef5663ca5afd');\n",
              "          const dataTable =\n",
              "            await google.colab.kernel.invokeFunction('convertToInteractive',\n",
              "                                                     [key], {});\n",
              "          if (!dataTable) return;\n",
              "\n",
              "          const docLinkHtml = 'Like what you see? Visit the ' +\n",
              "            '<a target=\"_blank\" href=https://colab.research.google.com/notebooks/data_table.ipynb>data table notebook</a>'\n",
              "            + ' to learn more about interactive tables.';\n",
              "          element.innerHTML = '';\n",
              "          dataTable['output_type'] = 'display_data';\n",
              "          await google.colab.output.renderOutput(dataTable, element);\n",
              "          const docLink = document.createElement('div');\n",
              "          docLink.innerHTML = docLinkHtml;\n",
              "          element.appendChild(docLink);\n",
              "        }\n",
              "      </script>\n",
              "    </div>\n",
              "  </div>\n",
              "  "
            ]
          },
          "metadata": {},
          "execution_count": 4
        }
      ]
    },
    {
      "cell_type": "code",
      "source": [
        "path = \"/content/drive/MyDrive/gsoc data/PathwayCommons12.reactome.hgnc.sif.gz\"  \n",
        "\n",
        "\n",
        "#specify compression type because the file is compressed\n",
        "df = pd.read_csv(path, sep=\"\\t\", compression=\"gzip\", header=None, names=[\"Source\", \"InteractionType\", \"Target\"])"
      ],
      "metadata": {
        "id": "h2FVAe724Jd2"
      },
      "execution_count": 5,
      "outputs": []
    },
    {
      "cell_type": "code",
      "source": [
        "df.head()"
      ],
      "metadata": {
        "colab": {
          "base_uri": "https://localhost:8080/",
          "height": 206
        },
        "id": "3zTTTw9F5Pia",
        "outputId": "a35afd4a-8c6e-4d4c-8489-97f88955711f"
      },
      "execution_count": 6,
      "outputs": [
        {
          "output_type": "execute_result",
          "data": {
            "text/plain": [
              "  Source  InteractionType    Target\n",
              "0   A1CF  in-complex-with   APOBEC1\n",
              "1   A1CF  in-complex-with   APOBEC2\n",
              "2   A1CF  in-complex-with  APOBEC3A\n",
              "3   A1CF  in-complex-with  APOBEC3B\n",
              "4   A1CF  in-complex-with  APOBEC3C"
            ],
            "text/html": [
              "\n",
              "  <div id=\"df-adff5717-f37e-40a0-a930-0bbf9c2b0240\">\n",
              "    <div class=\"colab-df-container\">\n",
              "      <div>\n",
              "<style scoped>\n",
              "    .dataframe tbody tr th:only-of-type {\n",
              "        vertical-align: middle;\n",
              "    }\n",
              "\n",
              "    .dataframe tbody tr th {\n",
              "        vertical-align: top;\n",
              "    }\n",
              "\n",
              "    .dataframe thead th {\n",
              "        text-align: right;\n",
              "    }\n",
              "</style>\n",
              "<table border=\"1\" class=\"dataframe\">\n",
              "  <thead>\n",
              "    <tr style=\"text-align: right;\">\n",
              "      <th></th>\n",
              "      <th>Source</th>\n",
              "      <th>InteractionType</th>\n",
              "      <th>Target</th>\n",
              "    </tr>\n",
              "  </thead>\n",
              "  <tbody>\n",
              "    <tr>\n",
              "      <th>0</th>\n",
              "      <td>A1CF</td>\n",
              "      <td>in-complex-with</td>\n",
              "      <td>APOBEC1</td>\n",
              "    </tr>\n",
              "    <tr>\n",
              "      <th>1</th>\n",
              "      <td>A1CF</td>\n",
              "      <td>in-complex-with</td>\n",
              "      <td>APOBEC2</td>\n",
              "    </tr>\n",
              "    <tr>\n",
              "      <th>2</th>\n",
              "      <td>A1CF</td>\n",
              "      <td>in-complex-with</td>\n",
              "      <td>APOBEC3A</td>\n",
              "    </tr>\n",
              "    <tr>\n",
              "      <th>3</th>\n",
              "      <td>A1CF</td>\n",
              "      <td>in-complex-with</td>\n",
              "      <td>APOBEC3B</td>\n",
              "    </tr>\n",
              "    <tr>\n",
              "      <th>4</th>\n",
              "      <td>A1CF</td>\n",
              "      <td>in-complex-with</td>\n",
              "      <td>APOBEC3C</td>\n",
              "    </tr>\n",
              "  </tbody>\n",
              "</table>\n",
              "</div>\n",
              "      <button class=\"colab-df-convert\" onclick=\"convertToInteractive('df-adff5717-f37e-40a0-a930-0bbf9c2b0240')\"\n",
              "              title=\"Convert this dataframe to an interactive table.\"\n",
              "              style=\"display:none;\">\n",
              "        \n",
              "  <svg xmlns=\"http://www.w3.org/2000/svg\" height=\"24px\"viewBox=\"0 0 24 24\"\n",
              "       width=\"24px\">\n",
              "    <path d=\"M0 0h24v24H0V0z\" fill=\"none\"/>\n",
              "    <path d=\"M18.56 5.44l.94 2.06.94-2.06 2.06-.94-2.06-.94-.94-2.06-.94 2.06-2.06.94zm-11 1L8.5 8.5l.94-2.06 2.06-.94-2.06-.94L8.5 2.5l-.94 2.06-2.06.94zm10 10l.94 2.06.94-2.06 2.06-.94-2.06-.94-.94-2.06-.94 2.06-2.06.94z\"/><path d=\"M17.41 7.96l-1.37-1.37c-.4-.4-.92-.59-1.43-.59-.52 0-1.04.2-1.43.59L10.3 9.45l-7.72 7.72c-.78.78-.78 2.05 0 2.83L4 21.41c.39.39.9.59 1.41.59.51 0 1.02-.2 1.41-.59l7.78-7.78 2.81-2.81c.8-.78.8-2.07 0-2.86zM5.41 20L4 18.59l7.72-7.72 1.47 1.35L5.41 20z\"/>\n",
              "  </svg>\n",
              "      </button>\n",
              "      \n",
              "  <style>\n",
              "    .colab-df-container {\n",
              "      display:flex;\n",
              "      flex-wrap:wrap;\n",
              "      gap: 12px;\n",
              "    }\n",
              "\n",
              "    .colab-df-convert {\n",
              "      background-color: #E8F0FE;\n",
              "      border: none;\n",
              "      border-radius: 50%;\n",
              "      cursor: pointer;\n",
              "      display: none;\n",
              "      fill: #1967D2;\n",
              "      height: 32px;\n",
              "      padding: 0 0 0 0;\n",
              "      width: 32px;\n",
              "    }\n",
              "\n",
              "    .colab-df-convert:hover {\n",
              "      background-color: #E2EBFA;\n",
              "      box-shadow: 0px 1px 2px rgba(60, 64, 67, 0.3), 0px 1px 3px 1px rgba(60, 64, 67, 0.15);\n",
              "      fill: #174EA6;\n",
              "    }\n",
              "\n",
              "    [theme=dark] .colab-df-convert {\n",
              "      background-color: #3B4455;\n",
              "      fill: #D2E3FC;\n",
              "    }\n",
              "\n",
              "    [theme=dark] .colab-df-convert:hover {\n",
              "      background-color: #434B5C;\n",
              "      box-shadow: 0px 1px 3px 1px rgba(0, 0, 0, 0.15);\n",
              "      filter: drop-shadow(0px 1px 2px rgba(0, 0, 0, 0.3));\n",
              "      fill: #FFFFFF;\n",
              "    }\n",
              "  </style>\n",
              "\n",
              "      <script>\n",
              "        const buttonEl =\n",
              "          document.querySelector('#df-adff5717-f37e-40a0-a930-0bbf9c2b0240 button.colab-df-convert');\n",
              "        buttonEl.style.display =\n",
              "          google.colab.kernel.accessAllowed ? 'block' : 'none';\n",
              "\n",
              "        async function convertToInteractive(key) {\n",
              "          const element = document.querySelector('#df-adff5717-f37e-40a0-a930-0bbf9c2b0240');\n",
              "          const dataTable =\n",
              "            await google.colab.kernel.invokeFunction('convertToInteractive',\n",
              "                                                     [key], {});\n",
              "          if (!dataTable) return;\n",
              "\n",
              "          const docLinkHtml = 'Like what you see? Visit the ' +\n",
              "            '<a target=\"_blank\" href=https://colab.research.google.com/notebooks/data_table.ipynb>data table notebook</a>'\n",
              "            + ' to learn more about interactive tables.';\n",
              "          element.innerHTML = '';\n",
              "          dataTable['output_type'] = 'display_data';\n",
              "          await google.colab.output.renderOutput(dataTable, element);\n",
              "          const docLink = document.createElement('div');\n",
              "          docLink.innerHTML = docLinkHtml;\n",
              "          element.appendChild(docLink);\n",
              "        }\n",
              "      </script>\n",
              "    </div>\n",
              "  </div>\n",
              "  "
            ]
          },
          "metadata": {},
          "execution_count": 6
        }
      ]
    },
    {
      "cell_type": "code",
      "source": [
        "reduced_df = df.drop(columns='InteractionType')"
      ],
      "metadata": {
        "id": "-AGfsNU452Zm"
      },
      "execution_count": 7,
      "outputs": []
    },
    {
      "cell_type": "code",
      "source": [
        "reduced_df.head()"
      ],
      "metadata": {
        "colab": {
          "base_uri": "https://localhost:8080/",
          "height": 206
        },
        "id": "MR-hGnfotMG8",
        "outputId": "205b94f9-4fe3-4d5f-d93c-e228de500886"
      },
      "execution_count": 24,
      "outputs": [
        {
          "output_type": "execute_result",
          "data": {
            "text/plain": [
              "  Source    Target\n",
              "0   A1CF   APOBEC1\n",
              "1   A1CF   APOBEC2\n",
              "2   A1CF  APOBEC3A\n",
              "3   A1CF  APOBEC3B\n",
              "4   A1CF  APOBEC3C"
            ],
            "text/html": [
              "\n",
              "  <div id=\"df-38969671-f87f-4999-a24a-7fd6741d57fa\">\n",
              "    <div class=\"colab-df-container\">\n",
              "      <div>\n",
              "<style scoped>\n",
              "    .dataframe tbody tr th:only-of-type {\n",
              "        vertical-align: middle;\n",
              "    }\n",
              "\n",
              "    .dataframe tbody tr th {\n",
              "        vertical-align: top;\n",
              "    }\n",
              "\n",
              "    .dataframe thead th {\n",
              "        text-align: right;\n",
              "    }\n",
              "</style>\n",
              "<table border=\"1\" class=\"dataframe\">\n",
              "  <thead>\n",
              "    <tr style=\"text-align: right;\">\n",
              "      <th></th>\n",
              "      <th>Source</th>\n",
              "      <th>Target</th>\n",
              "    </tr>\n",
              "  </thead>\n",
              "  <tbody>\n",
              "    <tr>\n",
              "      <th>0</th>\n",
              "      <td>A1CF</td>\n",
              "      <td>APOBEC1</td>\n",
              "    </tr>\n",
              "    <tr>\n",
              "      <th>1</th>\n",
              "      <td>A1CF</td>\n",
              "      <td>APOBEC2</td>\n",
              "    </tr>\n",
              "    <tr>\n",
              "      <th>2</th>\n",
              "      <td>A1CF</td>\n",
              "      <td>APOBEC3A</td>\n",
              "    </tr>\n",
              "    <tr>\n",
              "      <th>3</th>\n",
              "      <td>A1CF</td>\n",
              "      <td>APOBEC3B</td>\n",
              "    </tr>\n",
              "    <tr>\n",
              "      <th>4</th>\n",
              "      <td>A1CF</td>\n",
              "      <td>APOBEC3C</td>\n",
              "    </tr>\n",
              "  </tbody>\n",
              "</table>\n",
              "</div>\n",
              "      <button class=\"colab-df-convert\" onclick=\"convertToInteractive('df-38969671-f87f-4999-a24a-7fd6741d57fa')\"\n",
              "              title=\"Convert this dataframe to an interactive table.\"\n",
              "              style=\"display:none;\">\n",
              "        \n",
              "  <svg xmlns=\"http://www.w3.org/2000/svg\" height=\"24px\"viewBox=\"0 0 24 24\"\n",
              "       width=\"24px\">\n",
              "    <path d=\"M0 0h24v24H0V0z\" fill=\"none\"/>\n",
              "    <path d=\"M18.56 5.44l.94 2.06.94-2.06 2.06-.94-2.06-.94-.94-2.06-.94 2.06-2.06.94zm-11 1L8.5 8.5l.94-2.06 2.06-.94-2.06-.94L8.5 2.5l-.94 2.06-2.06.94zm10 10l.94 2.06.94-2.06 2.06-.94-2.06-.94-.94-2.06-.94 2.06-2.06.94z\"/><path d=\"M17.41 7.96l-1.37-1.37c-.4-.4-.92-.59-1.43-.59-.52 0-1.04.2-1.43.59L10.3 9.45l-7.72 7.72c-.78.78-.78 2.05 0 2.83L4 21.41c.39.39.9.59 1.41.59.51 0 1.02-.2 1.41-.59l7.78-7.78 2.81-2.81c.8-.78.8-2.07 0-2.86zM5.41 20L4 18.59l7.72-7.72 1.47 1.35L5.41 20z\"/>\n",
              "  </svg>\n",
              "      </button>\n",
              "      \n",
              "  <style>\n",
              "    .colab-df-container {\n",
              "      display:flex;\n",
              "      flex-wrap:wrap;\n",
              "      gap: 12px;\n",
              "    }\n",
              "\n",
              "    .colab-df-convert {\n",
              "      background-color: #E8F0FE;\n",
              "      border: none;\n",
              "      border-radius: 50%;\n",
              "      cursor: pointer;\n",
              "      display: none;\n",
              "      fill: #1967D2;\n",
              "      height: 32px;\n",
              "      padding: 0 0 0 0;\n",
              "      width: 32px;\n",
              "    }\n",
              "\n",
              "    .colab-df-convert:hover {\n",
              "      background-color: #E2EBFA;\n",
              "      box-shadow: 0px 1px 2px rgba(60, 64, 67, 0.3), 0px 1px 3px 1px rgba(60, 64, 67, 0.15);\n",
              "      fill: #174EA6;\n",
              "    }\n",
              "\n",
              "    [theme=dark] .colab-df-convert {\n",
              "      background-color: #3B4455;\n",
              "      fill: #D2E3FC;\n",
              "    }\n",
              "\n",
              "    [theme=dark] .colab-df-convert:hover {\n",
              "      background-color: #434B5C;\n",
              "      box-shadow: 0px 1px 3px 1px rgba(0, 0, 0, 0.15);\n",
              "      filter: drop-shadow(0px 1px 2px rgba(0, 0, 0, 0.3));\n",
              "      fill: #FFFFFF;\n",
              "    }\n",
              "  </style>\n",
              "\n",
              "      <script>\n",
              "        const buttonEl =\n",
              "          document.querySelector('#df-38969671-f87f-4999-a24a-7fd6741d57fa button.colab-df-convert');\n",
              "        buttonEl.style.display =\n",
              "          google.colab.kernel.accessAllowed ? 'block' : 'none';\n",
              "\n",
              "        async function convertToInteractive(key) {\n",
              "          const element = document.querySelector('#df-38969671-f87f-4999-a24a-7fd6741d57fa');\n",
              "          const dataTable =\n",
              "            await google.colab.kernel.invokeFunction('convertToInteractive',\n",
              "                                                     [key], {});\n",
              "          if (!dataTable) return;\n",
              "\n",
              "          const docLinkHtml = 'Like what you see? Visit the ' +\n",
              "            '<a target=\"_blank\" href=https://colab.research.google.com/notebooks/data_table.ipynb>data table notebook</a>'\n",
              "            + ' to learn more about interactive tables.';\n",
              "          element.innerHTML = '';\n",
              "          dataTable['output_type'] = 'display_data';\n",
              "          await google.colab.output.renderOutput(dataTable, element);\n",
              "          const docLink = document.createElement('div');\n",
              "          docLink.innerHTML = docLinkHtml;\n",
              "          element.appendChild(docLink);\n",
              "        }\n",
              "      </script>\n",
              "    </div>\n",
              "  </div>\n",
              "  "
            ]
          },
          "metadata": {},
          "execution_count": 24
        }
      ]
    },
    {
      "cell_type": "code",
      "source": [
        "reduced_df.shape"
      ],
      "metadata": {
        "colab": {
          "base_uri": "https://localhost:8080/"
        },
        "id": "Q8xw35ggtj8x",
        "outputId": "ec6cd202-ff0d-4e4a-c49a-001eba329b4d"
      },
      "execution_count": 25,
      "outputs": [
        {
          "output_type": "execute_result",
          "data": {
            "text/plain": [
              "(353636, 2)"
            ]
          },
          "metadata": {},
          "execution_count": 25
        }
      ]
    },
    {
      "cell_type": "code",
      "source": [
        "cBio.shape"
      ],
      "metadata": {
        "colab": {
          "base_uri": "https://localhost:8080/"
        },
        "id": "jnfrWHt3tqsU",
        "outputId": "9e0b53e8-12b7-4496-f637-6f037807b4fd"
      },
      "execution_count": 26,
      "outputs": [
        {
          "output_type": "execute_result",
          "data": {
            "text/plain": [
              "(78, 20513)"
            ]
          },
          "metadata": {},
          "execution_count": 26
        }
      ]
    },
    {
      "cell_type": "code",
      "source": [
        "source_nodes = reduced_df['Source'].tolist()\n",
        "target_nodes = reduced_df['Target'].tolist()\n",
        "\n",
        "# Create a set of all unique nodes\n",
        "all_nodes = set(source_nodes + target_nodes)\n",
        "\n",
        "# Create a dictionary to map each unique node to a unique index\n",
        "node_to_index = {node: index for index, node in enumerate(all_nodes)}\n",
        "\n",
        "# Map the source and target nodes to their corresponding indices\n",
        "source_indices = [node_to_index[node] for node in source_nodes]\n",
        "target_indices = [node_to_index[node] for node in target_nodes]\n",
        "\n",
        "# Convert the source and target indices to a PyTorch tensor\n",
        "edge_index = torch.tensor([source_indices, target_indices], dtype=torch.long)\n",
        "\n",
        "# Create the graph data object\n",
        "graph_data = Data(edge_index=edge_index)"
      ],
      "metadata": {
        "id": "3a2Ek5R65Nwo"
      },
      "execution_count": 8,
      "outputs": []
    },
    {
      "cell_type": "code",
      "source": [
        "graph_data.num_nodes"
      ],
      "metadata": {
        "colab": {
          "base_uri": "https://localhost:8080/"
        },
        "id": "u6ua3gV7fP7Z",
        "outputId": "4cb5fdc8-c99b-4b3c-8327-ce58a5eafe3c"
      },
      "execution_count": 9,
      "outputs": [
        {
          "output_type": "stream",
          "name": "stderr",
          "text": [
            "/usr/local/lib/python3.10/dist-packages/torch_geometric/data/storage.py:304: UserWarning: Unable to accurately infer 'num_nodes' from the attribute set '{'edge_index'}'. Please explicitly set 'num_nodes' as an attribute of 'data' to suppress this warning\n",
            "  warnings.warn(\n"
          ]
        },
        {
          "output_type": "execute_result",
          "data": {
            "text/plain": [
              "12324"
            ]
          },
          "metadata": {},
          "execution_count": 9
        }
      ]
    },
    {
      "cell_type": "code",
      "source": [
        "graph_data.num_edges"
      ],
      "metadata": {
        "colab": {
          "base_uri": "https://localhost:8080/"
        },
        "id": "ZXI5b_Z1fWZS",
        "outputId": "4c684e46-d2bb-4f4d-aa2b-65de132ed131"
      },
      "execution_count": 10,
      "outputs": [
        {
          "output_type": "execute_result",
          "data": {
            "text/plain": [
              "353636"
            ]
          },
          "metadata": {},
          "execution_count": 10
        }
      ]
    },
    {
      "cell_type": "code",
      "source": [
        "graph_data.edge_index"
      ],
      "metadata": {
        "colab": {
          "base_uri": "https://localhost:8080/"
        },
        "id": "MbIk82xifZpF",
        "outputId": "7139350e-bd7e-47ca-e207-6648d4431c72"
      },
      "execution_count": 11,
      "outputs": [
        {
          "output_type": "execute_result",
          "data": {
            "text/plain": [
              "tensor([[11563, 11563, 11563,  ..., 11429, 11429, 11429],\n",
              "        [ 5198,  7994,  2941,  ...,  5554,  3090,  7015]])"
            ]
          },
          "metadata": {},
          "execution_count": 11
        }
      ]
    },
    {
      "cell_type": "code",
      "source": [
        "from torch.utils.data import random_split\n",
        "\n",
        "\n",
        "# Extract the features and overall survival columns from the DataFrame\n",
        "features = cBio.drop([\"Sample Identifier\",\"Overall Survival (Months)\"], axis=1).values\n",
        "survival = cBio[\"Overall Survival (Months)\"].values\n",
        "\n",
        "# Convert the features and survival data to PyTorch tensors\n",
        "x = torch.tensor(features, dtype=torch.float)\n",
        "y = torch.tensor(survival, dtype=torch.float).view(-1, 1)  # Reshape to (num_samples, 1)\n",
        "\n",
        "# Create the PyTorch Geometric Data object\n",
        "data = Data(x=x, y=y)"
      ],
      "metadata": {
        "id": "SCsj_QDFWnKm"
      },
      "execution_count": 19,
      "outputs": []
    },
    {
      "cell_type": "code",
      "source": [
        "x"
      ],
      "metadata": {
        "colab": {
          "base_uri": "https://localhost:8080/"
        },
        "id": "MXks4PpHZdKZ",
        "outputId": "318ef721-5670-4229-d619-f477a4608c6b"
      },
      "execution_count": 35,
      "outputs": [
        {
          "output_type": "execute_result",
          "data": {
            "text/plain": [
              "tensor([[8.5014e+01, 9.7502e+01, 0.0000e+00,  ..., 3.6311e+02, 1.9212e+00,\n",
              "         0.0000e+00],\n",
              "        [1.6588e+02, 9.2605e+01, 0.0000e+00,  ..., 5.9267e+02, 0.0000e+00,\n",
              "         0.0000e+00],\n",
              "        [3.0929e+02, 1.0073e+01, 0.0000e+00,  ..., 4.5682e+02, 0.0000e+00,\n",
              "         0.0000e+00],\n",
              "        ...,\n",
              "        [2.3205e+02, 6.9790e-01, 0.0000e+00,  ..., 2.3938e+02, 1.0468e+00,\n",
              "         0.0000e+00],\n",
              "        [3.0375e+02, 1.9294e+02, 0.0000e+00,  ..., 6.7255e+02, 5.5130e-01,\n",
              "         0.0000e+00],\n",
              "        [1.5998e+02, 5.0521e+01, 0.0000e+00,  ..., 1.2109e+02, 4.0100e-01,\n",
              "         0.0000e+00]])"
            ]
          },
          "metadata": {},
          "execution_count": 35
        }
      ]
    },
    {
      "cell_type": "code",
      "source": [
        "x.shape"
      ],
      "metadata": {
        "colab": {
          "base_uri": "https://localhost:8080/"
        },
        "id": "iDvzn7uyarcO",
        "outputId": "d87d80f0-da0d-442c-842b-0fcf0d8ee8b3"
      },
      "execution_count": 36,
      "outputs": [
        {
          "output_type": "execute_result",
          "data": {
            "text/plain": [
              "torch.Size([78, 20511])"
            ]
          },
          "metadata": {},
          "execution_count": 36
        }
      ]
    },
    {
      "cell_type": "code",
      "source": [
        "y.shape"
      ],
      "metadata": {
        "colab": {
          "base_uri": "https://localhost:8080/"
        },
        "id": "BU2sxKEpa0J-",
        "outputId": "103303de-9b24-4523-8d4d-6a3e4ca63576"
      },
      "execution_count": 37,
      "outputs": [
        {
          "output_type": "execute_result",
          "data": {
            "text/plain": [
              "torch.Size([78, 1])"
            ]
          },
          "metadata": {},
          "execution_count": 37
        }
      ]
    },
    {
      "cell_type": "code",
      "source": [
        "data.num_nodes"
      ],
      "metadata": {
        "colab": {
          "base_uri": "https://localhost:8080/"
        },
        "id": "Td4dv4Ihsok5",
        "outputId": "f353a924-9329-419c-b7ff-9df87ff37f51"
      },
      "execution_count": 23,
      "outputs": [
        {
          "output_type": "execute_result",
          "data": {
            "text/plain": [
              "78"
            ]
          },
          "metadata": {},
          "execution_count": 23
        }
      ]
    },
    {
      "cell_type": "code",
      "source": [
        "# Step 1: Extract Gene Names\n",
        "cbio_gene_names = cBio.columns[2:].tolist()\n",
        "path_gene_names = pd.unique(reduced_df[[\"Source\", \"Target\"]].values.ravel())\n",
        "\n",
        "# Step 2: Find Overlapping Gene Names\n",
        "overlapping_genes = list(set(cbio_gene_names) & set(path_gene_names))\n"
      ],
      "metadata": {
        "id": "7uZcfUUV6bvD"
      },
      "execution_count": 53,
      "outputs": []
    },
    {
      "cell_type": "code",
      "source": [
        "# Step 3: Filter and Transpose cBio Data\n",
        "filtered_cBio_data = cBio[['Sample Identifier', 'Overall Survival (Months)'] + overlapping_genes]\n",
        "filtered_cBio_data = filtered_cBio_data.rename(columns={'Sample Identifier': 'sample_id'})\n",
        "filtered_cBio_data = filtered_cBio_data.set_index('sample_id').transpose()\n"
      ],
      "metadata": {
        "id": "5bZDs03n6fps"
      },
      "execution_count": 54,
      "outputs": []
    },
    {
      "cell_type": "code",
      "source": [
        "# Step 4: Process Pathway Commons Data for Graph Connectivity\n",
        "path_gene_names = pd.Index(overlapping_genes)\n",
        "path_node_indices = path_gene_names.get_indexer(reduced_df[['Source', 'Target']].values.ravel())\n",
        "edge_index = torch.tensor(path_node_indices.reshape(-1, 2).T, dtype=torch.long)"
      ],
      "metadata": {
        "id": "PaJMu44j6pal"
      },
      "execution_count": 55,
      "outputs": []
    },
    {
      "cell_type": "code",
      "source": [
        "print(\"Filtered cBio Data:\")\n",
        "filtered_cBio_data.head()\n"
      ],
      "metadata": {
        "colab": {
          "base_uri": "https://localhost:8080/",
          "height": 369
        },
        "id": "mpQoOQGp6v1H",
        "outputId": "784fedc7-66ba-4ff8-d2a9-5aa3e1c49482"
      },
      "execution_count": 57,
      "outputs": [
        {
          "output_type": "stream",
          "name": "stdout",
          "text": [
            "Filtered cBio Data:\n"
          ]
        },
        {
          "output_type": "execute_result",
          "data": {
            "text/plain": [
              "sample_id                  TCGA-OR-A5J1-01  TCGA-OR-A5J2-01  TCGA-OR-A5J3-01  \\\n",
              "Overall Survival (Months)        44.547457        55.133642        68.744452   \n",
              "MIP                               3.362200         4.026300        12.442600   \n",
              "ADAM20                            2.881800         1.610500         4.740000   \n",
              "TRPC7                             0.000000         0.000000         2.370000   \n",
              "PSAT1                          4769.450000      4129.380000      2913.940000   \n",
              "\n",
              "sample_id                  TCGA-OR-A5J5-01  TCGA-OR-A5J6-01  TCGA-OR-A5J7-01  \\\n",
              "Overall Survival (Months)        11.999868         88.86478        16.109413   \n",
              "MIP                              11.618900          1.67660         5.214600   \n",
              "ADAM20                           13.942700          0.00000         0.000000   \n",
              "TRPC7                             0.000000          0.00000         0.401100   \n",
              "PSAT1                          1724.240000        298.98800      4510.230000   \n",
              "\n",
              "sample_id                  TCGA-OR-A5J8-01  TCGA-OR-A5J9-01  TCGA-OR-A5JA-01  \\\n",
              "Overall Survival (Months)        19.035408        44.448828        30.311997   \n",
              "MIP                               0.000000        19.378900        20.084600   \n",
              "ADAM20                            2.072100         2.719800         1.057100   \n",
              "TRPC7                             0.000000         0.000000         0.528500   \n",
              "PSAT1                          2600.500000      4684.250000      1186.580000   \n",
              "\n",
              "sample_id                  TCGA-OR-A5JB-01  ...  TCGA-OR-A5LR-01  \\\n",
              "Overall Survival (Months)         18.11487  ...        28.043528   \n",
              "MIP                                0.44560  ...         2.510500   \n",
              "ADAM20                             2.22790  ...         0.836800   \n",
              "TRPC7                              0.00000  ...         0.000000   \n",
              "PSAT1                           1416.95000  ...       685.356000   \n",
              "\n",
              "sample_id                  TCGA-OR-A5LS-01  TCGA-OR-A5LT-01  TCGA-OU-A5PI-01  \\\n",
              "Overall Survival (Months)        36.032482        18.049117        38.498208   \n",
              "MIP                              14.907700         0.850300        19.384300   \n",
              "ADAM20                            3.388100         1.700700         2.280500   \n",
              "TRPC7                             0.000000         0.000000         0.000000   \n",
              "PSAT1                          3763.510000     12324.000000      3050.740000   \n",
              "\n",
              "sample_id                  TCGA-P6-A5OF-01  TCGA-PA-A5YG-01  TCGA-PK-A5H8-01  \\\n",
              "Overall Survival (Months)         6.805405        24.854522       119.111023   \n",
              "MIP                               7.039500         3.698600         2.498400   \n",
              "ADAM20                            1.955400         0.462300         4.996900   \n",
              "TRPC7                             0.000000         0.000000         0.000000   \n",
              "PSAT1                          2403.600000      3684.700000       747.658000   \n",
              "\n",
              "sample_id                  TCGA-PK-A5H9-01  TCGA-PK-A5HA-01  TCGA-PK-A5HB-01  \n",
              "Overall Survival (Months)        20.251833        39.484499        42.509123  \n",
              "MIP                               1.744700         0.551300         0.801900  \n",
              "ADAM20                            1.046800         0.551300         0.401000  \n",
              "TRPC7                             0.000000         0.000000         0.000000  \n",
              "PSAT1                          6636.660000       504.961000      2505.610000  \n",
              "\n",
              "[5 rows x 78 columns]"
            ],
            "text/html": [
              "\n",
              "  <div id=\"df-08eb9827-ec1e-40b8-9693-80b9fd85c883\">\n",
              "    <div class=\"colab-df-container\">\n",
              "      <div>\n",
              "<style scoped>\n",
              "    .dataframe tbody tr th:only-of-type {\n",
              "        vertical-align: middle;\n",
              "    }\n",
              "\n",
              "    .dataframe tbody tr th {\n",
              "        vertical-align: top;\n",
              "    }\n",
              "\n",
              "    .dataframe thead th {\n",
              "        text-align: right;\n",
              "    }\n",
              "</style>\n",
              "<table border=\"1\" class=\"dataframe\">\n",
              "  <thead>\n",
              "    <tr style=\"text-align: right;\">\n",
              "      <th>sample_id</th>\n",
              "      <th>TCGA-OR-A5J1-01</th>\n",
              "      <th>TCGA-OR-A5J2-01</th>\n",
              "      <th>TCGA-OR-A5J3-01</th>\n",
              "      <th>TCGA-OR-A5J5-01</th>\n",
              "      <th>TCGA-OR-A5J6-01</th>\n",
              "      <th>TCGA-OR-A5J7-01</th>\n",
              "      <th>TCGA-OR-A5J8-01</th>\n",
              "      <th>TCGA-OR-A5J9-01</th>\n",
              "      <th>TCGA-OR-A5JA-01</th>\n",
              "      <th>TCGA-OR-A5JB-01</th>\n",
              "      <th>...</th>\n",
              "      <th>TCGA-OR-A5LR-01</th>\n",
              "      <th>TCGA-OR-A5LS-01</th>\n",
              "      <th>TCGA-OR-A5LT-01</th>\n",
              "      <th>TCGA-OU-A5PI-01</th>\n",
              "      <th>TCGA-P6-A5OF-01</th>\n",
              "      <th>TCGA-PA-A5YG-01</th>\n",
              "      <th>TCGA-PK-A5H8-01</th>\n",
              "      <th>TCGA-PK-A5H9-01</th>\n",
              "      <th>TCGA-PK-A5HA-01</th>\n",
              "      <th>TCGA-PK-A5HB-01</th>\n",
              "    </tr>\n",
              "  </thead>\n",
              "  <tbody>\n",
              "    <tr>\n",
              "      <th>Overall Survival (Months)</th>\n",
              "      <td>44.547457</td>\n",
              "      <td>55.133642</td>\n",
              "      <td>68.744452</td>\n",
              "      <td>11.999868</td>\n",
              "      <td>88.86478</td>\n",
              "      <td>16.109413</td>\n",
              "      <td>19.035408</td>\n",
              "      <td>44.448828</td>\n",
              "      <td>30.311997</td>\n",
              "      <td>18.11487</td>\n",
              "      <td>...</td>\n",
              "      <td>28.043528</td>\n",
              "      <td>36.032482</td>\n",
              "      <td>18.049117</td>\n",
              "      <td>38.498208</td>\n",
              "      <td>6.805405</td>\n",
              "      <td>24.854522</td>\n",
              "      <td>119.111023</td>\n",
              "      <td>20.251833</td>\n",
              "      <td>39.484499</td>\n",
              "      <td>42.509123</td>\n",
              "    </tr>\n",
              "    <tr>\n",
              "      <th>MIP</th>\n",
              "      <td>3.362200</td>\n",
              "      <td>4.026300</td>\n",
              "      <td>12.442600</td>\n",
              "      <td>11.618900</td>\n",
              "      <td>1.67660</td>\n",
              "      <td>5.214600</td>\n",
              "      <td>0.000000</td>\n",
              "      <td>19.378900</td>\n",
              "      <td>20.084600</td>\n",
              "      <td>0.44560</td>\n",
              "      <td>...</td>\n",
              "      <td>2.510500</td>\n",
              "      <td>14.907700</td>\n",
              "      <td>0.850300</td>\n",
              "      <td>19.384300</td>\n",
              "      <td>7.039500</td>\n",
              "      <td>3.698600</td>\n",
              "      <td>2.498400</td>\n",
              "      <td>1.744700</td>\n",
              "      <td>0.551300</td>\n",
              "      <td>0.801900</td>\n",
              "    </tr>\n",
              "    <tr>\n",
              "      <th>ADAM20</th>\n",
              "      <td>2.881800</td>\n",
              "      <td>1.610500</td>\n",
              "      <td>4.740000</td>\n",
              "      <td>13.942700</td>\n",
              "      <td>0.00000</td>\n",
              "      <td>0.000000</td>\n",
              "      <td>2.072100</td>\n",
              "      <td>2.719800</td>\n",
              "      <td>1.057100</td>\n",
              "      <td>2.22790</td>\n",
              "      <td>...</td>\n",
              "      <td>0.836800</td>\n",
              "      <td>3.388100</td>\n",
              "      <td>1.700700</td>\n",
              "      <td>2.280500</td>\n",
              "      <td>1.955400</td>\n",
              "      <td>0.462300</td>\n",
              "      <td>4.996900</td>\n",
              "      <td>1.046800</td>\n",
              "      <td>0.551300</td>\n",
              "      <td>0.401000</td>\n",
              "    </tr>\n",
              "    <tr>\n",
              "      <th>TRPC7</th>\n",
              "      <td>0.000000</td>\n",
              "      <td>0.000000</td>\n",
              "      <td>2.370000</td>\n",
              "      <td>0.000000</td>\n",
              "      <td>0.00000</td>\n",
              "      <td>0.401100</td>\n",
              "      <td>0.000000</td>\n",
              "      <td>0.000000</td>\n",
              "      <td>0.528500</td>\n",
              "      <td>0.00000</td>\n",
              "      <td>...</td>\n",
              "      <td>0.000000</td>\n",
              "      <td>0.000000</td>\n",
              "      <td>0.000000</td>\n",
              "      <td>0.000000</td>\n",
              "      <td>0.000000</td>\n",
              "      <td>0.000000</td>\n",
              "      <td>0.000000</td>\n",
              "      <td>0.000000</td>\n",
              "      <td>0.000000</td>\n",
              "      <td>0.000000</td>\n",
              "    </tr>\n",
              "    <tr>\n",
              "      <th>PSAT1</th>\n",
              "      <td>4769.450000</td>\n",
              "      <td>4129.380000</td>\n",
              "      <td>2913.940000</td>\n",
              "      <td>1724.240000</td>\n",
              "      <td>298.98800</td>\n",
              "      <td>4510.230000</td>\n",
              "      <td>2600.500000</td>\n",
              "      <td>4684.250000</td>\n",
              "      <td>1186.580000</td>\n",
              "      <td>1416.95000</td>\n",
              "      <td>...</td>\n",
              "      <td>685.356000</td>\n",
              "      <td>3763.510000</td>\n",
              "      <td>12324.000000</td>\n",
              "      <td>3050.740000</td>\n",
              "      <td>2403.600000</td>\n",
              "      <td>3684.700000</td>\n",
              "      <td>747.658000</td>\n",
              "      <td>6636.660000</td>\n",
              "      <td>504.961000</td>\n",
              "      <td>2505.610000</td>\n",
              "    </tr>\n",
              "  </tbody>\n",
              "</table>\n",
              "<p>5 rows × 78 columns</p>\n",
              "</div>\n",
              "      <button class=\"colab-df-convert\" onclick=\"convertToInteractive('df-08eb9827-ec1e-40b8-9693-80b9fd85c883')\"\n",
              "              title=\"Convert this dataframe to an interactive table.\"\n",
              "              style=\"display:none;\">\n",
              "        \n",
              "  <svg xmlns=\"http://www.w3.org/2000/svg\" height=\"24px\"viewBox=\"0 0 24 24\"\n",
              "       width=\"24px\">\n",
              "    <path d=\"M0 0h24v24H0V0z\" fill=\"none\"/>\n",
              "    <path d=\"M18.56 5.44l.94 2.06.94-2.06 2.06-.94-2.06-.94-.94-2.06-.94 2.06-2.06.94zm-11 1L8.5 8.5l.94-2.06 2.06-.94-2.06-.94L8.5 2.5l-.94 2.06-2.06.94zm10 10l.94 2.06.94-2.06 2.06-.94-2.06-.94-.94-2.06-.94 2.06-2.06.94z\"/><path d=\"M17.41 7.96l-1.37-1.37c-.4-.4-.92-.59-1.43-.59-.52 0-1.04.2-1.43.59L10.3 9.45l-7.72 7.72c-.78.78-.78 2.05 0 2.83L4 21.41c.39.39.9.59 1.41.59.51 0 1.02-.2 1.41-.59l7.78-7.78 2.81-2.81c.8-.78.8-2.07 0-2.86zM5.41 20L4 18.59l7.72-7.72 1.47 1.35L5.41 20z\"/>\n",
              "  </svg>\n",
              "      </button>\n",
              "      \n",
              "  <style>\n",
              "    .colab-df-container {\n",
              "      display:flex;\n",
              "      flex-wrap:wrap;\n",
              "      gap: 12px;\n",
              "    }\n",
              "\n",
              "    .colab-df-convert {\n",
              "      background-color: #E8F0FE;\n",
              "      border: none;\n",
              "      border-radius: 50%;\n",
              "      cursor: pointer;\n",
              "      display: none;\n",
              "      fill: #1967D2;\n",
              "      height: 32px;\n",
              "      padding: 0 0 0 0;\n",
              "      width: 32px;\n",
              "    }\n",
              "\n",
              "    .colab-df-convert:hover {\n",
              "      background-color: #E2EBFA;\n",
              "      box-shadow: 0px 1px 2px rgba(60, 64, 67, 0.3), 0px 1px 3px 1px rgba(60, 64, 67, 0.15);\n",
              "      fill: #174EA6;\n",
              "    }\n",
              "\n",
              "    [theme=dark] .colab-df-convert {\n",
              "      background-color: #3B4455;\n",
              "      fill: #D2E3FC;\n",
              "    }\n",
              "\n",
              "    [theme=dark] .colab-df-convert:hover {\n",
              "      background-color: #434B5C;\n",
              "      box-shadow: 0px 1px 3px 1px rgba(0, 0, 0, 0.15);\n",
              "      filter: drop-shadow(0px 1px 2px rgba(0, 0, 0, 0.3));\n",
              "      fill: #FFFFFF;\n",
              "    }\n",
              "  </style>\n",
              "\n",
              "      <script>\n",
              "        const buttonEl =\n",
              "          document.querySelector('#df-08eb9827-ec1e-40b8-9693-80b9fd85c883 button.colab-df-convert');\n",
              "        buttonEl.style.display =\n",
              "          google.colab.kernel.accessAllowed ? 'block' : 'none';\n",
              "\n",
              "        async function convertToInteractive(key) {\n",
              "          const element = document.querySelector('#df-08eb9827-ec1e-40b8-9693-80b9fd85c883');\n",
              "          const dataTable =\n",
              "            await google.colab.kernel.invokeFunction('convertToInteractive',\n",
              "                                                     [key], {});\n",
              "          if (!dataTable) return;\n",
              "\n",
              "          const docLinkHtml = 'Like what you see? Visit the ' +\n",
              "            '<a target=\"_blank\" href=https://colab.research.google.com/notebooks/data_table.ipynb>data table notebook</a>'\n",
              "            + ' to learn more about interactive tables.';\n",
              "          element.innerHTML = '';\n",
              "          dataTable['output_type'] = 'display_data';\n",
              "          await google.colab.output.renderOutput(dataTable, element);\n",
              "          const docLink = document.createElement('div');\n",
              "          docLink.innerHTML = docLinkHtml;\n",
              "          element.appendChild(docLink);\n",
              "        }\n",
              "      </script>\n",
              "    </div>\n",
              "  </div>\n",
              "  "
            ]
          },
          "metadata": {},
          "execution_count": 57
        }
      ]
    },
    {
      "cell_type": "code",
      "source": [
        "filtered_cBio_data.shape"
      ],
      "metadata": {
        "colab": {
          "base_uri": "https://localhost:8080/"
        },
        "id": "F329qGgu7Pl_",
        "outputId": "fb6e24fc-20ca-43ef-9839-0de524aed082"
      },
      "execution_count": 59,
      "outputs": [
        {
          "output_type": "execute_result",
          "data": {
            "text/plain": [
              "(9615, 78)"
            ]
          },
          "metadata": {},
          "execution_count": 59
        }
      ]
    },
    {
      "cell_type": "code",
      "source": [
        "print(\"\\nEdge Index:\")\n",
        "print(edge_index)"
      ],
      "metadata": {
        "colab": {
          "base_uri": "https://localhost:8080/"
        },
        "id": "UBnjJpzC7NTl",
        "outputId": "4a6cc329-bf9c-427f-ab70-9d92d279ddff"
      },
      "execution_count": 58,
      "outputs": [
        {
          "output_type": "stream",
          "name": "stdout",
          "text": [
            "\n",
            "Edge Index:\n",
            "tensor([[9021, 9021, 9021,  ..., 8922, 8922, 8922],\n",
            "        [4088, 6236, 2323,  ...,   -1, 2439, 5494]])\n"
          ]
        }
      ]
    },
    {
      "cell_type": "code",
      "source": [
        "x = torch.tensor(filtered_cBio_data.iloc[1:].values[1:], dtype=torch.float32)\n",
        "y = torch.tensor(filtered_cBio_data.iloc[0, 1:], dtype=torch.float32)"
      ],
      "metadata": {
        "id": "8Jc-hTkc-LaO"
      },
      "execution_count": 60,
      "outputs": []
    },
    {
      "cell_type": "code",
      "source": [
        "x = x.transpose(0, 1)"
      ],
      "metadata": {
        "id": "Mxi9AVP6-ejm"
      },
      "execution_count": 61,
      "outputs": []
    },
    {
      "cell_type": "code",
      "source": [
        "data = Data(x=x, y=y, edge_index=edge_index, num_node_features=x.size(1))"
      ],
      "metadata": {
        "id": "6c08HPFX-hVT"
      },
      "execution_count": 62,
      "outputs": []
    },
    {
      "cell_type": "code",
      "source": [
        "print(data)\n"
      ],
      "metadata": {
        "colab": {
          "base_uri": "https://localhost:8080/"
        },
        "id": "7xMN8w_n-tMt",
        "outputId": "46ae5c00-51b3-4e02-999b-f4ef54c8ba2d"
      },
      "execution_count": 63,
      "outputs": [
        {
          "output_type": "stream",
          "name": "stdout",
          "text": [
            "Data(x=[78, 9613], edge_index=[2, 353636], y=[77], num_node_features=9613)\n"
          ]
        }
      ]
    },
    {
      "cell_type": "code",
      "source": [
        "from torch.utils.data import DataLoader\n",
        "\n",
        "from torch.utils.data import random_split, DataLoader\n",
        "\n",
        "# Define the train and test dataset sizes\n",
        "train_size = int(len(data) * 0.8)  # 80% for training\n",
        "test_size = len(data) - train_size  # Remaining 20% for testing\n",
        "\n",
        "# Split the dataset into train and test sets\n",
        "train_data, test_data = random_split(data, [train_size, test_size])\n",
        "\n",
        "# Create data loaders for batching\n",
        "train_loader = DataLoader(train_data, batch_size=32, shuffle=True)\n",
        "test_loader = DataLoader(test_data, batch_size=32, shuffle=False)\n"
      ],
      "metadata": {
        "id": "p9NtX1I0_WyL"
      },
      "execution_count": 66,
      "outputs": []
    },
    {
      "cell_type": "code",
      "source": [
        "print(train_data)\n",
        "print(test_data)"
      ],
      "metadata": {
        "colab": {
          "base_uri": "https://localhost:8080/"
        },
        "id": "LO_N2TxXo5QA",
        "outputId": "72aee606-e253-4917-898b-656ca8dd2d33"
      },
      "execution_count": 67,
      "outputs": [
        {
          "output_type": "stream",
          "name": "stdout",
          "text": [
            "<torch.utils.data.dataset.Subset object at 0x7f82b5af2650>\n",
            "<torch.utils.data.dataset.Subset object at 0x7f81e5181060>\n"
          ]
        }
      ]
    },
    {
      "cell_type": "code",
      "source": [
        "from torch.utils.data import Subset\n",
        "\n",
        "# Define the size of the train and test datasets\n",
        "train_size = int(0.8 * len(data))\n",
        "test_size = len(data) - train_size\n",
        "\n",
        "# Define the indices for train and test sets\n",
        "train_indices = range(train_size)\n",
        "test_indices = range(train_size, len(data))\n",
        "\n",
        "# Create the train and test subsets\n",
        "train_data = Subset(data, train_indices)\n",
        "test_data = Subset(data, test_indices)\n",
        "\n",
        "# Print samples from the train dataset\n",
        "for sample in train_data:\n",
        "    print(sample)\n",
        "\n",
        "# Print samples from the test dataset\n",
        "for sample in test_data:\n",
        "    print(sample)\n"
      ],
      "metadata": {
        "colab": {
          "base_uri": "https://localhost:8080/",
          "height": 380
        },
        "id": "egG6JMsiCPHP",
        "outputId": "55198962-64dd-4003-e0ae-03a28798f49a"
      },
      "execution_count": 77,
      "outputs": [
        {
          "output_type": "error",
          "ename": "KeyError",
          "evalue": "ignored",
          "traceback": [
            "\u001b[0;31m---------------------------------------------------------------------------\u001b[0m",
            "\u001b[0;31mKeyError\u001b[0m                                  Traceback (most recent call last)",
            "\u001b[0;32m<ipython-input-77-56fc31240a03>\u001b[0m in \u001b[0;36m<cell line: 16>\u001b[0;34m()\u001b[0m\n\u001b[1;32m     14\u001b[0m \u001b[0;34m\u001b[0m\u001b[0m\n\u001b[1;32m     15\u001b[0m \u001b[0;31m# Print samples from the train dataset\u001b[0m\u001b[0;34m\u001b[0m\u001b[0;34m\u001b[0m\u001b[0m\n\u001b[0;32m---> 16\u001b[0;31m \u001b[0;32mfor\u001b[0m \u001b[0msample\u001b[0m \u001b[0;32min\u001b[0m \u001b[0mtrain_data\u001b[0m\u001b[0;34m:\u001b[0m\u001b[0;34m\u001b[0m\u001b[0;34m\u001b[0m\u001b[0m\n\u001b[0m\u001b[1;32m     17\u001b[0m     \u001b[0mprint\u001b[0m\u001b[0;34m(\u001b[0m\u001b[0msample\u001b[0m\u001b[0;34m)\u001b[0m\u001b[0;34m\u001b[0m\u001b[0;34m\u001b[0m\u001b[0m\n\u001b[1;32m     18\u001b[0m \u001b[0;34m\u001b[0m\u001b[0m\n",
            "\u001b[0;32m/usr/local/lib/python3.10/dist-packages/torch/utils/data/dataset.py\u001b[0m in \u001b[0;36m__getitem__\u001b[0;34m(self, idx)\u001b[0m\n\u001b[1;32m    296\u001b[0m         \u001b[0;32mif\u001b[0m \u001b[0misinstance\u001b[0m\u001b[0;34m(\u001b[0m\u001b[0midx\u001b[0m\u001b[0;34m,\u001b[0m \u001b[0mlist\u001b[0m\u001b[0;34m)\u001b[0m\u001b[0;34m:\u001b[0m\u001b[0;34m\u001b[0m\u001b[0;34m\u001b[0m\u001b[0m\n\u001b[1;32m    297\u001b[0m             \u001b[0;32mreturn\u001b[0m \u001b[0mself\u001b[0m\u001b[0;34m.\u001b[0m\u001b[0mdataset\u001b[0m\u001b[0;34m[\u001b[0m\u001b[0;34m[\u001b[0m\u001b[0mself\u001b[0m\u001b[0;34m.\u001b[0m\u001b[0mindices\u001b[0m\u001b[0;34m[\u001b[0m\u001b[0mi\u001b[0m\u001b[0;34m]\u001b[0m \u001b[0;32mfor\u001b[0m \u001b[0mi\u001b[0m \u001b[0;32min\u001b[0m \u001b[0midx\u001b[0m\u001b[0;34m]\u001b[0m\u001b[0;34m]\u001b[0m\u001b[0;34m\u001b[0m\u001b[0;34m\u001b[0m\u001b[0m\n\u001b[0;32m--> 298\u001b[0;31m         \u001b[0;32mreturn\u001b[0m \u001b[0mself\u001b[0m\u001b[0;34m.\u001b[0m\u001b[0mdataset\u001b[0m\u001b[0;34m[\u001b[0m\u001b[0mself\u001b[0m\u001b[0;34m.\u001b[0m\u001b[0mindices\u001b[0m\u001b[0;34m[\u001b[0m\u001b[0midx\u001b[0m\u001b[0;34m]\u001b[0m\u001b[0;34m]\u001b[0m\u001b[0;34m\u001b[0m\u001b[0;34m\u001b[0m\u001b[0m\n\u001b[0m\u001b[1;32m    299\u001b[0m \u001b[0;34m\u001b[0m\u001b[0m\n\u001b[1;32m    300\u001b[0m     \u001b[0;32mdef\u001b[0m \u001b[0m__len__\u001b[0m\u001b[0;34m(\u001b[0m\u001b[0mself\u001b[0m\u001b[0;34m)\u001b[0m\u001b[0;34m:\u001b[0m\u001b[0;34m\u001b[0m\u001b[0;34m\u001b[0m\u001b[0m\n",
            "\u001b[0;32m/usr/local/lib/python3.10/dist-packages/torch_geometric/data/data.py\u001b[0m in \u001b[0;36m__getitem__\u001b[0;34m(self, key)\u001b[0m\n\u001b[1;32m    455\u001b[0m     \u001b[0;31m# can accept key: Union[str, TensorAttr] in __getitem__.\u001b[0m\u001b[0;34m\u001b[0m\u001b[0;34m\u001b[0m\u001b[0m\n\u001b[1;32m    456\u001b[0m     \u001b[0;32mdef\u001b[0m \u001b[0m__getitem__\u001b[0m\u001b[0;34m(\u001b[0m\u001b[0mself\u001b[0m\u001b[0;34m,\u001b[0m \u001b[0mkey\u001b[0m\u001b[0;34m:\u001b[0m \u001b[0mstr\u001b[0m\u001b[0;34m)\u001b[0m \u001b[0;34m->\u001b[0m \u001b[0mAny\u001b[0m\u001b[0;34m:\u001b[0m\u001b[0;34m\u001b[0m\u001b[0;34m\u001b[0m\u001b[0m\n\u001b[0;32m--> 457\u001b[0;31m         \u001b[0;32mreturn\u001b[0m \u001b[0mself\u001b[0m\u001b[0;34m.\u001b[0m\u001b[0m_store\u001b[0m\u001b[0;34m[\u001b[0m\u001b[0mkey\u001b[0m\u001b[0;34m]\u001b[0m\u001b[0;34m\u001b[0m\u001b[0;34m\u001b[0m\u001b[0m\n\u001b[0m\u001b[1;32m    458\u001b[0m \u001b[0;34m\u001b[0m\u001b[0m\n\u001b[1;32m    459\u001b[0m     \u001b[0;32mdef\u001b[0m \u001b[0m__setitem__\u001b[0m\u001b[0;34m(\u001b[0m\u001b[0mself\u001b[0m\u001b[0;34m,\u001b[0m \u001b[0mkey\u001b[0m\u001b[0;34m:\u001b[0m \u001b[0mstr\u001b[0m\u001b[0;34m,\u001b[0m \u001b[0mvalue\u001b[0m\u001b[0;34m:\u001b[0m \u001b[0mAny\u001b[0m\u001b[0;34m)\u001b[0m\u001b[0;34m:\u001b[0m\u001b[0;34m\u001b[0m\u001b[0;34m\u001b[0m\u001b[0m\n",
            "\u001b[0;32m/usr/local/lib/python3.10/dist-packages/torch_geometric/data/storage.py\u001b[0m in \u001b[0;36m__getitem__\u001b[0;34m(self, key)\u001b[0m\n\u001b[1;32m    102\u001b[0m \u001b[0;34m\u001b[0m\u001b[0m\n\u001b[1;32m    103\u001b[0m     \u001b[0;32mdef\u001b[0m \u001b[0m__getitem__\u001b[0m\u001b[0;34m(\u001b[0m\u001b[0mself\u001b[0m\u001b[0;34m,\u001b[0m \u001b[0mkey\u001b[0m\u001b[0;34m:\u001b[0m \u001b[0mstr\u001b[0m\u001b[0;34m)\u001b[0m \u001b[0;34m->\u001b[0m \u001b[0mAny\u001b[0m\u001b[0;34m:\u001b[0m\u001b[0;34m\u001b[0m\u001b[0;34m\u001b[0m\u001b[0m\n\u001b[0;32m--> 104\u001b[0;31m         \u001b[0;32mreturn\u001b[0m \u001b[0mself\u001b[0m\u001b[0;34m.\u001b[0m\u001b[0m_mapping\u001b[0m\u001b[0;34m[\u001b[0m\u001b[0mkey\u001b[0m\u001b[0;34m]\u001b[0m\u001b[0;34m\u001b[0m\u001b[0;34m\u001b[0m\u001b[0m\n\u001b[0m\u001b[1;32m    105\u001b[0m \u001b[0;34m\u001b[0m\u001b[0m\n\u001b[1;32m    106\u001b[0m     \u001b[0;32mdef\u001b[0m \u001b[0m__setitem__\u001b[0m\u001b[0;34m(\u001b[0m\u001b[0mself\u001b[0m\u001b[0;34m,\u001b[0m \u001b[0mkey\u001b[0m\u001b[0;34m:\u001b[0m \u001b[0mstr\u001b[0m\u001b[0;34m,\u001b[0m \u001b[0mvalue\u001b[0m\u001b[0;34m:\u001b[0m \u001b[0mAny\u001b[0m\u001b[0;34m)\u001b[0m\u001b[0;34m:\u001b[0m\u001b[0;34m\u001b[0m\u001b[0;34m\u001b[0m\u001b[0m\n",
            "\u001b[0;31mKeyError\u001b[0m: 0"
          ]
        }
      ]
    },
    {
      "cell_type": "code",
      "source": [],
      "metadata": {
        "id": "9O_ODHFJCzxC"
      },
      "execution_count": null,
      "outputs": []
    }
  ]
}