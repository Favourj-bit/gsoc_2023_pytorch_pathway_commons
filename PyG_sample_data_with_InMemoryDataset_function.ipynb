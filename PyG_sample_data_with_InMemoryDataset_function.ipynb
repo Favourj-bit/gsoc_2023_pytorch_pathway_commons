{
  "nbformat": 4,
  "nbformat_minor": 0,
  "metadata": {
    "colab": {
      "provenance": [],
      "gpuType": "T4",
      "include_colab_link": true
    },
    "kernelspec": {
      "name": "python3",
      "display_name": "Python 3"
    },
    "language_info": {
      "name": "python"
    },
    "accelerator": "GPU"
  },
  "cells": [
    {
      "cell_type": "markdown",
      "metadata": {
        "id": "view-in-github",
        "colab_type": "text"
      },
      "source": [
        "<a href=\"https://colab.research.google.com/github/Favourj-bit/gsoc_2023_pytorch_pathway_commons/blob/main/PyG_sample_data_with_InMemoryDataset_function.ipynb\" target=\"_parent\"><img src=\"https://colab.research.google.com/assets/colab-badge.svg\" alt=\"Open In Colab\"/></a>"
      ]
    },
    {
      "cell_type": "code",
      "source": [
        "from google.colab import drive\n",
        "drive.mount('/content/drive')"
      ],
      "metadata": {
        "colab": {
          "base_uri": "https://localhost:8080/"
        },
        "id": "XqS-T3j6eTXs",
        "outputId": "78239723-5195-4f49-9e71-058b36dbb758"
      },
      "execution_count": 1,
      "outputs": [
        {
          "output_type": "stream",
          "name": "stdout",
          "text": [
            "Mounted at /content/drive\n"
          ]
        }
      ]
    },
    {
      "cell_type": "code",
      "source": [
        "!pip install torch-geometric"
      ],
      "metadata": {
        "id": "OE2xc7If0ZCT",
        "colab": {
          "base_uri": "https://localhost:8080/"
        },
        "outputId": "e2793f74-b358-4a8e-ca6f-d77d6f600460"
      },
      "execution_count": 2,
      "outputs": [
        {
          "output_type": "stream",
          "name": "stdout",
          "text": [
            "Collecting torch-geometric\n",
            "  Downloading torch_geometric-2.3.1.tar.gz (661 kB)\n",
            "\u001b[?25l     \u001b[90m━━━━━━━━━━━━━━━━━━━━━━━━━━━━━━━━━━━━━━━━\u001b[0m \u001b[32m0.0/661.6 kB\u001b[0m \u001b[31m?\u001b[0m eta \u001b[36m-:--:--\u001b[0m\r\u001b[2K     \u001b[91m━━━━━━━━━━━━━━━━━━\u001b[0m\u001b[91m╸\u001b[0m\u001b[90m━━━━━━━━━━━━━━━━━━━━\u001b[0m \u001b[32m317.4/661.6 kB\u001b[0m \u001b[31m9.3 MB/s\u001b[0m eta \u001b[36m0:00:01\u001b[0m\r\u001b[2K     \u001b[90m━━━━━━━━━━━━━━━━━━━━━━━━━━━━━━━━━━━━━━\u001b[0m \u001b[32m661.6/661.6 kB\u001b[0m \u001b[31m12.4 MB/s\u001b[0m eta \u001b[36m0:00:00\u001b[0m\n",
            "\u001b[?25h  Installing build dependencies ... \u001b[?25l\u001b[?25hdone\n",
            "  Getting requirements to build wheel ... \u001b[?25l\u001b[?25hdone\n",
            "  Preparing metadata (pyproject.toml) ... \u001b[?25l\u001b[?25hdone\n",
            "Requirement already satisfied: tqdm in /usr/local/lib/python3.10/dist-packages (from torch-geometric) (4.65.0)\n",
            "Requirement already satisfied: numpy in /usr/local/lib/python3.10/dist-packages (from torch-geometric) (1.22.4)\n",
            "Requirement already satisfied: scipy in /usr/local/lib/python3.10/dist-packages (from torch-geometric) (1.10.1)\n",
            "Requirement already satisfied: jinja2 in /usr/local/lib/python3.10/dist-packages (from torch-geometric) (3.1.2)\n",
            "Requirement already satisfied: requests in /usr/local/lib/python3.10/dist-packages (from torch-geometric) (2.27.1)\n",
            "Requirement already satisfied: pyparsing in /usr/local/lib/python3.10/dist-packages (from torch-geometric) (3.1.0)\n",
            "Requirement already satisfied: scikit-learn in /usr/local/lib/python3.10/dist-packages (from torch-geometric) (1.2.2)\n",
            "Requirement already satisfied: psutil>=5.8.0 in /usr/local/lib/python3.10/dist-packages (from torch-geometric) (5.9.5)\n",
            "Requirement already satisfied: MarkupSafe>=2.0 in /usr/local/lib/python3.10/dist-packages (from jinja2->torch-geometric) (2.1.3)\n",
            "Requirement already satisfied: urllib3<1.27,>=1.21.1 in /usr/local/lib/python3.10/dist-packages (from requests->torch-geometric) (1.26.16)\n",
            "Requirement already satisfied: certifi>=2017.4.17 in /usr/local/lib/python3.10/dist-packages (from requests->torch-geometric) (2023.5.7)\n",
            "Requirement already satisfied: charset-normalizer~=2.0.0 in /usr/local/lib/python3.10/dist-packages (from requests->torch-geometric) (2.0.12)\n",
            "Requirement already satisfied: idna<4,>=2.5 in /usr/local/lib/python3.10/dist-packages (from requests->torch-geometric) (3.4)\n",
            "Requirement already satisfied: joblib>=1.1.1 in /usr/local/lib/python3.10/dist-packages (from scikit-learn->torch-geometric) (1.2.0)\n",
            "Requirement already satisfied: threadpoolctl>=2.0.0 in /usr/local/lib/python3.10/dist-packages (from scikit-learn->torch-geometric) (3.1.0)\n",
            "Building wheels for collected packages: torch-geometric\n",
            "  Building wheel for torch-geometric (pyproject.toml) ... \u001b[?25l\u001b[?25hdone\n",
            "  Created wheel for torch-geometric: filename=torch_geometric-2.3.1-py3-none-any.whl size=910459 sha256=8f356f162683720dd47585786957137091dcd963ad244c908119a040d058e670\n",
            "  Stored in directory: /root/.cache/pip/wheels/ac/dc/30/e2874821ff308ee67dcd7a66dbde912411e19e35a1addda028\n",
            "Successfully built torch-geometric\n",
            "Installing collected packages: torch-geometric\n",
            "Successfully installed torch-geometric-2.3.1\n"
          ]
        }
      ]
    },
    {
      "cell_type": "markdown",
      "source": [
        "# Importing Data and Libraries"
      ],
      "metadata": {
        "id": "6T-0DTo_3DLk"
      }
    },
    {
      "cell_type": "code",
      "execution_count": 3,
      "metadata": {
        "id": "Wy1Dc5Z9vGE8"
      },
      "outputs": [],
      "source": [
        "import pandas as pd\n",
        "import numpy as np\n",
        "import torch\n",
        "from torch_geometric.data import Data\n",
        "from sklearn.model_selection import train_test_split"
      ]
    },
    {
      "cell_type": "code",
      "source": [
        "# device = torch.device('cuda' if torch.cuda.is_available() else 'cpu')\n",
        "# print('Using device:', device)\n",
        "\n",
        "# if device.type != 'cuda':\n",
        "#     raise SystemError('GPU device not found')"
      ],
      "metadata": {
        "id": "Agul4fnR13Wa"
      },
      "execution_count": 4,
      "outputs": []
    },
    {
      "cell_type": "code",
      "source": [
        "from torch_geometric.data import InMemoryDataset, Data, download_url, extract_zip\n",
        "import os"
      ],
      "metadata": {
        "id": "2vJhDwz5oX3Z"
      },
      "execution_count": 5,
      "outputs": []
    },
    {
      "cell_type": "code",
      "source": [
        "class Acc_train(InMemoryDataset):\n",
        "  # Base url to download the files\n",
        "    url = 'https://zenodo.org/record/8117485/files/Train%20set.zip?download=1'\n",
        "\n",
        "    def __init__(self, root, transform=None, pre_transform=None, pre_filter=None):\n",
        "      super().__init__(root, transform, pre_transform, pre_filter)\n",
        "      self.data, self.slices = torch.load(self.processed_paths[0])\n",
        "\n",
        "\n",
        "    @property\n",
        "    def raw_file_names(self):\n",
        "        # List of the raw files\n",
        "        return ['X_train.csv', 'y_train.csv', 'edge_index.pt']\n",
        "\n",
        "    @property\n",
        "    def processed_file_names(self):\n",
        "        return 'train_data.pt'\n",
        "\n",
        "    def download(self):\n",
        "        # Download the file specified in self.url and store\n",
        "        # it in self.raw_dir\n",
        "        path = download_url(self.url, self.raw_dir)\n",
        "        extract_zip(path, self.raw_dir)\n",
        "        # The zip file is removed\n",
        "        os.unlink(path)\n",
        "\n",
        "    def process(self):\n",
        "\n",
        "\n",
        "        # Load X_train from CSV file with the index\n",
        "        X_train = pd.read_csv(os.path.join(self.raw_dir,'Train set', 'X_train.csv'), index_col=0)\n",
        "\n",
        "        # Load y_train from CSV file\n",
        "        y_train = np.loadtxt(os.path.join(self.raw_dir,'Train set', 'y_train.csv'), delimiter=',')\n",
        "\n",
        "\n",
        "        # Load the edge_index from the file\n",
        "        file_path = os.path.join(self.raw_dir,'Train set', 'edge_index.pt')\n",
        "        edge_index = torch.load(file_path)\n",
        "\n",
        "        X_train = X_train.values\n",
        "\n",
        "        num_patients_train = X_train.shape[0]\n",
        "\n",
        "        # Create patient-specific graphs for the training set\n",
        "        graphs_train = []\n",
        "        for i in range(num_patients_train):\n",
        "            node_features = X_train[i]  # Node features for the i-th patient\n",
        "            target = y_train[i]  # Target label for the i-th patient\n",
        "            graph_train = (node_features, edge_index, target)\n",
        "            graphs_train.append(graph_train)\n",
        "\n",
        "        # Convert graphs_train to a list of Data objects\n",
        "        data_train = [Data(x=torch.tensor(graph[0].reshape(len(graphs_train[0][0]), 1)),\n",
        "                           edge_index=graph[1], y=torch.tensor(graph[2]).item()) for graph in graphs_train]\n",
        "\n",
        "\n",
        "        data, slices = self.collate(data_train)\n",
        "        torch.save((data, slices), self.processed_paths[0])"
      ],
      "metadata": {
        "id": "yd2NVneICXY9"
      },
      "execution_count": 6,
      "outputs": []
    },
    {
      "cell_type": "code",
      "source": [
        "df_tr = Acc_train(root='/content/sample_data')"
      ],
      "metadata": {
        "colab": {
          "base_uri": "https://localhost:8080/"
        },
        "id": "bvaAWVL3jadP",
        "outputId": "1822dc51-c6d3-46c2-87d9-3086e1af1b5b"
      },
      "execution_count": 7,
      "outputs": [
        {
          "output_type": "stream",
          "name": "stderr",
          "text": [
            "Downloading https://zenodo.org/record/8117485/files/Train%20set.zip?download=1\n",
            "Extracting /content/sample_data/raw/Train%20set.zip\n",
            "Processing...\n",
            "Done!\n"
          ]
        }
      ]
    },
    {
      "cell_type": "code",
      "source": [
        "df_tr"
      ],
      "metadata": {
        "colab": {
          "base_uri": "https://localhost:8080/"
        },
        "id": "XLx8mbVUsezw",
        "outputId": "f14f0681-c9eb-4ff2-bf18-1b9e11588965"
      },
      "execution_count": 8,
      "outputs": [
        {
          "output_type": "execute_result",
          "data": {
            "text/plain": [
              "Acc_train(54)"
            ]
          },
          "metadata": {},
          "execution_count": 8
        }
      ]
    },
    {
      "cell_type": "code",
      "source": [
        "#Access the attributes of a specific data object in the training set\n",
        "sample = df_tr[0]  # Get the first data object\n",
        "print(sample)  # Print the data object\n",
        "\n",
        "# Access the node features, edge indices, and target label\n",
        "node_features = sample.x\n",
        "edge_index = sample.edge_index\n",
        "target = sample.y\n",
        "\n",
        "print(node_features)  # Print the node features\n",
        "print(edge_index)  # Print the edge indices\n",
        "print(target)  # Print the target label"
      ],
      "metadata": {
        "colab": {
          "base_uri": "https://localhost:8080/"
        },
        "id": "1D8Rism2sfeZ",
        "outputId": "ea2f0603-e93d-4381-fb40-c75c8b5660fd"
      },
      "execution_count": 9,
      "outputs": [
        {
          "output_type": "stream",
          "name": "stdout",
          "text": [
            "Data(x=[9288, 1], edge_index=[2, 271771], y=[1])\n",
            "tensor([[    0.0000],\n",
            "        [10373.7000],\n",
            "        [    0.0000],\n",
            "        ...,\n",
            "        [  183.9580],\n",
            "        [  146.9740],\n",
            "        [  596.0620]], dtype=torch.float64)\n",
            "tensor([[   0,    0,    0,  ..., 9287, 9287, 9287],\n",
            "        [ 451,  452,  453,  ..., 3323, 3340, 3341]])\n",
            "tensor([44.5475])\n"
          ]
        }
      ]
    },
    {
      "cell_type": "code",
      "source": [
        "class Acc_test(InMemoryDataset):\n",
        "  # Base url to download the files\n",
        "    url = 'https://zenodo.org/record/8117744/files/Test%20set.zip?download=1'\n",
        "\n",
        "    def __init__(self, root, transform=None, pre_transform=None, pre_filter=None):\n",
        "      super().__init__(root, transform, pre_transform, pre_filter)\n",
        "      self.data, self.slices = torch.load(self.processed_paths[0])\n",
        "\n",
        "\n",
        "    @property\n",
        "    def raw_file_names(self):\n",
        "        # List of the raw files\n",
        "        return ['X_test.csv', 'y_test.csv', 'edge_index.pt']\n",
        "\n",
        "    @property\n",
        "    def processed_file_names(self):\n",
        "        return 'test_data.pt'\n",
        "\n",
        "    def download(self):\n",
        "        # Download the file specified in self.url and store\n",
        "        # it in self.raw_dir\n",
        "        path = download_url(self.url, self.raw_dir)\n",
        "        extract_zip(path, self.raw_dir)\n",
        "        # The zip file is removed\n",
        "        os.unlink(path)\n",
        "\n",
        "    def process(self):\n",
        "\n",
        "        # Load X_train from CSV file with the index\n",
        "        X_test = pd.read_csv(os.path.join(self.raw_dir,'Test set', 'X_test.csv'), index_col=0)\n",
        "\n",
        "        # Load y_train from CSV file\n",
        "        y_test = np.loadtxt(os.path.join(self.raw_dir,'Test set', 'y_test.csv'), delimiter=',')\n",
        "\n",
        "        # Load the edge_index from the file\n",
        "        file_path = os.path.join(self.raw_dir,'Test set', 'edge_index.pt')\n",
        "        edge_index = torch.load(file_path)\n",
        "\n",
        "        X_test = X_test.values\n",
        "\n",
        "        num_patients_test = X_test.shape[0]\n",
        "\n",
        "        # Create patient-specific graphs for the training set\n",
        "        graphs_test = []\n",
        "        for i in range(num_patients_test):\n",
        "            node_features = X_test[i]  # Node features for the i-th patient\n",
        "            target = y_test[i]  # Target label for the i-th patient\n",
        "            graph_test = (node_features, edge_index, target)\n",
        "            graphs_test.append(graph_test)\n",
        "\n",
        "        # Convert graphs_train to a list of Data objects\n",
        "        data_test = [Data(x=torch.tensor(graph[0].reshape(len(graphs_test[0][0]), 1)),\n",
        "                           edge_index=graph[1], y=torch.tensor(graph[2]).squeeze()) for graph in graphs_test]\n",
        "\n",
        "\n",
        "        test_data, slices = self.collate(data_test)\n",
        "        torch.save((test_data, slices), self.processed_paths[0])"
      ],
      "metadata": {
        "id": "1npsU32YvnUo"
      },
      "execution_count": 10,
      "outputs": []
    },
    {
      "cell_type": "code",
      "source": [
        "df_test = Acc_test(root='/content/sample_data')"
      ],
      "metadata": {
        "colab": {
          "base_uri": "https://localhost:8080/"
        },
        "id": "bhvoG39RuBId",
        "outputId": "c1e658b8-ff46-4a7f-98a1-6c1c75926b45"
      },
      "execution_count": 11,
      "outputs": [
        {
          "output_type": "stream",
          "name": "stderr",
          "text": [
            "Downloading https://zenodo.org/record/8117744/files/Test%20set.zip?download=1\n",
            "Extracting /content/sample_data/raw/Test%20set.zip\n",
            "Processing...\n",
            "Done!\n"
          ]
        }
      ]
    },
    {
      "cell_type": "code",
      "source": [
        "df_test"
      ],
      "metadata": {
        "colab": {
          "base_uri": "https://localhost:8080/"
        },
        "id": "CLcRXaLgwdg9",
        "outputId": "3a750727-b341-4d50-a30f-d1b9ae606e04"
      },
      "execution_count": 12,
      "outputs": [
        {
          "output_type": "execute_result",
          "data": {
            "text/plain": [
              "Acc_test(24)"
            ]
          },
          "metadata": {},
          "execution_count": 12
        }
      ]
    },
    {
      "cell_type": "code",
      "source": [
        "#Access the attributes of a specific data object in the training set\n",
        "sample = df_test[0]  # Get the first data object\n",
        "print(sample)  # Print the data object\n",
        "\n",
        "# Access the node features, edge indices, and target label\n",
        "node_features = sample.x\n",
        "edge_index = sample.edge_index\n",
        "target = sample.y\n",
        "\n",
        "print(node_features)  # Print the node features\n",
        "print(edge_index)  # Print the edge indices\n",
        "print(target)  # Print the target label"
      ],
      "metadata": {
        "colab": {
          "base_uri": "https://localhost:8080/"
        },
        "id": "LeQyrGgsqM0z",
        "outputId": "971b75ee-2913-46f5-d600-f2ab4016265c"
      },
      "execution_count": 13,
      "outputs": [
        {
          "output_type": "stream",
          "name": "stdout",
          "text": [
            "Data(x=[9288, 1], edge_index=[2, 271771], y=[1])\n",
            "tensor([[    0.0000],\n",
            "        [16494.5000],\n",
            "        [    0.0000],\n",
            "        ...,\n",
            "        [   83.4073],\n",
            "        [  106.4770],\n",
            "        [  403.7270]], dtype=torch.float64)\n",
            "tensor([[   0,    0,    0,  ..., 9287, 9287, 9287],\n",
            "        [ 451,  452,  453,  ..., 3323, 3340, 3341]])\n",
            "tensor([23.6381], dtype=torch.float64)\n"
          ]
        }
      ]
    },
    {
      "cell_type": "code",
      "source": [],
      "metadata": {
        "id": "3L_ahXNOr-0i"
      },
      "execution_count": null,
      "outputs": []
    }
  ]
}