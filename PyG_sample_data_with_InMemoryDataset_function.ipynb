{
  "nbformat": 4,
  "nbformat_minor": 0,
  "metadata": {
    "colab": {
      "provenance": [],
      "gpuType": "T4",
      "include_colab_link": true
    },
    "kernelspec": {
      "name": "python3",
      "display_name": "Python 3"
    },
    "language_info": {
      "name": "python"
    },
    "accelerator": "GPU"
  },
  "cells": [
    {
      "cell_type": "markdown",
      "metadata": {
        "id": "view-in-github",
        "colab_type": "text"
      },
      "source": [
        "<a href=\"https://colab.research.google.com/github/Favourj-bit/gsoc_2023_pytorch_pathway_commons/blob/main/PyG_sample_data_with_InMemoryDataset_function.ipynb\" target=\"_parent\"><img src=\"https://colab.research.google.com/assets/colab-badge.svg\" alt=\"Open In Colab\"/></a>"
      ]
    },
    {
      "cell_type": "code",
      "source": [
        "from google.colab import drive\n",
        "drive.mount('/content/drive')"
      ],
      "metadata": {
        "colab": {
          "base_uri": "https://localhost:8080/"
        },
        "id": "XqS-T3j6eTXs",
        "outputId": "12f0e957-5fc7-4420-e4fc-30c8f9de769c"
      },
      "execution_count": 1,
      "outputs": [
        {
          "output_type": "stream",
          "name": "stdout",
          "text": [
            "Drive already mounted at /content/drive; to attempt to forcibly remount, call drive.mount(\"/content/drive\", force_remount=True).\n"
          ]
        }
      ]
    },
    {
      "cell_type": "code",
      "source": [
        "!pip install torch-geometric"
      ],
      "metadata": {
        "id": "OE2xc7If0ZCT",
        "colab": {
          "base_uri": "https://localhost:8080/"
        },
        "outputId": "57d31ad6-863b-493b-89ff-49785844cc27"
      },
      "execution_count": 2,
      "outputs": [
        {
          "output_type": "stream",
          "name": "stdout",
          "text": [
            "Looking in indexes: https://pypi.org/simple, https://us-python.pkg.dev/colab-wheels/public/simple/\n",
            "Requirement already satisfied: torch-geometric in /usr/local/lib/python3.10/dist-packages (2.3.1)\n",
            "Requirement already satisfied: tqdm in /usr/local/lib/python3.10/dist-packages (from torch-geometric) (4.65.0)\n",
            "Requirement already satisfied: numpy in /usr/local/lib/python3.10/dist-packages (from torch-geometric) (1.22.4)\n",
            "Requirement already satisfied: scipy in /usr/local/lib/python3.10/dist-packages (from torch-geometric) (1.10.1)\n",
            "Requirement already satisfied: jinja2 in /usr/local/lib/python3.10/dist-packages (from torch-geometric) (3.1.2)\n",
            "Requirement already satisfied: requests in /usr/local/lib/python3.10/dist-packages (from torch-geometric) (2.27.1)\n",
            "Requirement already satisfied: pyparsing in /usr/local/lib/python3.10/dist-packages (from torch-geometric) (3.1.0)\n",
            "Requirement already satisfied: scikit-learn in /usr/local/lib/python3.10/dist-packages (from torch-geometric) (1.2.2)\n",
            "Requirement already satisfied: psutil>=5.8.0 in /usr/local/lib/python3.10/dist-packages (from torch-geometric) (5.9.5)\n",
            "Requirement already satisfied: MarkupSafe>=2.0 in /usr/local/lib/python3.10/dist-packages (from jinja2->torch-geometric) (2.1.3)\n",
            "Requirement already satisfied: urllib3<1.27,>=1.21.1 in /usr/local/lib/python3.10/dist-packages (from requests->torch-geometric) (1.26.16)\n",
            "Requirement already satisfied: certifi>=2017.4.17 in /usr/local/lib/python3.10/dist-packages (from requests->torch-geometric) (2023.5.7)\n",
            "Requirement already satisfied: charset-normalizer~=2.0.0 in /usr/local/lib/python3.10/dist-packages (from requests->torch-geometric) (2.0.12)\n",
            "Requirement already satisfied: idna<4,>=2.5 in /usr/local/lib/python3.10/dist-packages (from requests->torch-geometric) (3.4)\n",
            "Requirement already satisfied: joblib>=1.1.1 in /usr/local/lib/python3.10/dist-packages (from scikit-learn->torch-geometric) (1.2.0)\n",
            "Requirement already satisfied: threadpoolctl>=2.0.0 in /usr/local/lib/python3.10/dist-packages (from scikit-learn->torch-geometric) (3.1.0)\n"
          ]
        }
      ]
    },
    {
      "cell_type": "markdown",
      "source": [
        "# Importing Data and Libraries"
      ],
      "metadata": {
        "id": "6T-0DTo_3DLk"
      }
    },
    {
      "cell_type": "code",
      "execution_count": 3,
      "metadata": {
        "id": "Wy1Dc5Z9vGE8"
      },
      "outputs": [],
      "source": [
        "import pandas as pd\n",
        "import numpy as np\n",
        "import torch\n",
        "from torch_geometric.data import Data\n",
        "from sklearn.model_selection import train_test_split"
      ]
    },
    {
      "cell_type": "code",
      "source": [
        "# device = torch.device('cuda' if torch.cuda.is_available() else 'cpu')\n",
        "# print('Using device:', device)\n",
        "\n",
        "# if device.type != 'cuda':\n",
        "#     raise SystemError('GPU device not found')"
      ],
      "metadata": {
        "id": "Agul4fnR13Wa"
      },
      "execution_count": 4,
      "outputs": []
    },
    {
      "cell_type": "code",
      "source": [
        "cBio = pd.read_csv('/content/drive/MyDrive/gsoc data/cBio.csv')"
      ],
      "metadata": {
        "id": "QQOFmd9l0XZg"
      },
      "execution_count": 5,
      "outputs": []
    },
    {
      "cell_type": "code",
      "source": [
        "cBio = cBio.set_index('Sample Identifier')\n",
        "cBio.index.name = None\n",
        "cBio.head(2)"
      ],
      "metadata": {
        "colab": {
          "base_uri": "https://localhost:8080/",
          "height": 344
        },
        "id": "_eqxj5HV6b2F",
        "outputId": "8e895e80-3e3a-4a1a-8118-79f8898a3b3c"
      },
      "execution_count": 6,
      "outputs": [
        {
          "output_type": "execute_result",
          "data": {
            "text/plain": [
              "                 Overall Survival (Months)    NUDT18     SHC3  NCRNA00112  \\\n",
              "TCGA-OR-A5J1-01                  44.547457   85.0144  97.5024         0.0   \n",
              "TCGA-OR-A5J2-01                  55.133642  165.8840  92.6050         0.0   \n",
              "\n",
              "                  FAM49B  FMO6P   BAT2L2    SIRT1  MSLNL    ATG4A  ...  \\\n",
              "TCGA-OR-A5J1-01  671.950    0.0  2428.43  462.056    0.0  385.687  ...   \n",
              "TCGA-OR-A5J2-01  812.911    0.0  5097.30  669.977    0.0  547.980  ...   \n",
              "\n",
              "                 SCARNA6  SNORD77    TLR10  GKN2   PCDHGB4    ZMAT5    AXIN2  \\\n",
              "TCGA-OR-A5J1-01   0.0000      0.0  12.0077   0.0   17.2911  913.535   547.55   \n",
              "TCGA-OR-A5J2-01   0.4026      0.0   0.8053   0.0  268.9890  303.978  1793.32   \n",
              "\n",
              "                  LONRF1  KLHL10  C12orf36  \n",
              "TCGA-OR-A5J1-01  363.112  1.9212       0.0  \n",
              "TCGA-OR-A5J2-01  592.672  0.0000       0.0  \n",
              "\n",
              "[2 rows x 20512 columns]"
            ],
            "text/html": [
              "\n",
              "  <div id=\"df-d1a1eed2-4128-45c0-95b3-eddba9b4ce2c\">\n",
              "    <div class=\"colab-df-container\">\n",
              "      <div>\n",
              "<style scoped>\n",
              "    .dataframe tbody tr th:only-of-type {\n",
              "        vertical-align: middle;\n",
              "    }\n",
              "\n",
              "    .dataframe tbody tr th {\n",
              "        vertical-align: top;\n",
              "    }\n",
              "\n",
              "    .dataframe thead th {\n",
              "        text-align: right;\n",
              "    }\n",
              "</style>\n",
              "<table border=\"1\" class=\"dataframe\">\n",
              "  <thead>\n",
              "    <tr style=\"text-align: right;\">\n",
              "      <th></th>\n",
              "      <th>Overall Survival (Months)</th>\n",
              "      <th>NUDT18</th>\n",
              "      <th>SHC3</th>\n",
              "      <th>NCRNA00112</th>\n",
              "      <th>FAM49B</th>\n",
              "      <th>FMO6P</th>\n",
              "      <th>BAT2L2</th>\n",
              "      <th>SIRT1</th>\n",
              "      <th>MSLNL</th>\n",
              "      <th>ATG4A</th>\n",
              "      <th>...</th>\n",
              "      <th>SCARNA6</th>\n",
              "      <th>SNORD77</th>\n",
              "      <th>TLR10</th>\n",
              "      <th>GKN2</th>\n",
              "      <th>PCDHGB4</th>\n",
              "      <th>ZMAT5</th>\n",
              "      <th>AXIN2</th>\n",
              "      <th>LONRF1</th>\n",
              "      <th>KLHL10</th>\n",
              "      <th>C12orf36</th>\n",
              "    </tr>\n",
              "  </thead>\n",
              "  <tbody>\n",
              "    <tr>\n",
              "      <th>TCGA-OR-A5J1-01</th>\n",
              "      <td>44.547457</td>\n",
              "      <td>85.0144</td>\n",
              "      <td>97.5024</td>\n",
              "      <td>0.0</td>\n",
              "      <td>671.950</td>\n",
              "      <td>0.0</td>\n",
              "      <td>2428.43</td>\n",
              "      <td>462.056</td>\n",
              "      <td>0.0</td>\n",
              "      <td>385.687</td>\n",
              "      <td>...</td>\n",
              "      <td>0.0000</td>\n",
              "      <td>0.0</td>\n",
              "      <td>12.0077</td>\n",
              "      <td>0.0</td>\n",
              "      <td>17.2911</td>\n",
              "      <td>913.535</td>\n",
              "      <td>547.55</td>\n",
              "      <td>363.112</td>\n",
              "      <td>1.9212</td>\n",
              "      <td>0.0</td>\n",
              "    </tr>\n",
              "    <tr>\n",
              "      <th>TCGA-OR-A5J2-01</th>\n",
              "      <td>55.133642</td>\n",
              "      <td>165.8840</td>\n",
              "      <td>92.6050</td>\n",
              "      <td>0.0</td>\n",
              "      <td>812.911</td>\n",
              "      <td>0.0</td>\n",
              "      <td>5097.30</td>\n",
              "      <td>669.977</td>\n",
              "      <td>0.0</td>\n",
              "      <td>547.980</td>\n",
              "      <td>...</td>\n",
              "      <td>0.4026</td>\n",
              "      <td>0.0</td>\n",
              "      <td>0.8053</td>\n",
              "      <td>0.0</td>\n",
              "      <td>268.9890</td>\n",
              "      <td>303.978</td>\n",
              "      <td>1793.32</td>\n",
              "      <td>592.672</td>\n",
              "      <td>0.0000</td>\n",
              "      <td>0.0</td>\n",
              "    </tr>\n",
              "  </tbody>\n",
              "</table>\n",
              "<p>2 rows × 20512 columns</p>\n",
              "</div>\n",
              "      <button class=\"colab-df-convert\" onclick=\"convertToInteractive('df-d1a1eed2-4128-45c0-95b3-eddba9b4ce2c')\"\n",
              "              title=\"Convert this dataframe to an interactive table.\"\n",
              "              style=\"display:none;\">\n",
              "        \n",
              "  <svg xmlns=\"http://www.w3.org/2000/svg\" height=\"24px\"viewBox=\"0 0 24 24\"\n",
              "       width=\"24px\">\n",
              "    <path d=\"M0 0h24v24H0V0z\" fill=\"none\"/>\n",
              "    <path d=\"M18.56 5.44l.94 2.06.94-2.06 2.06-.94-2.06-.94-.94-2.06-.94 2.06-2.06.94zm-11 1L8.5 8.5l.94-2.06 2.06-.94-2.06-.94L8.5 2.5l-.94 2.06-2.06.94zm10 10l.94 2.06.94-2.06 2.06-.94-2.06-.94-.94-2.06-.94 2.06-2.06.94z\"/><path d=\"M17.41 7.96l-1.37-1.37c-.4-.4-.92-.59-1.43-.59-.52 0-1.04.2-1.43.59L10.3 9.45l-7.72 7.72c-.78.78-.78 2.05 0 2.83L4 21.41c.39.39.9.59 1.41.59.51 0 1.02-.2 1.41-.59l7.78-7.78 2.81-2.81c.8-.78.8-2.07 0-2.86zM5.41 20L4 18.59l7.72-7.72 1.47 1.35L5.41 20z\"/>\n",
              "  </svg>\n",
              "      </button>\n",
              "      \n",
              "  <style>\n",
              "    .colab-df-container {\n",
              "      display:flex;\n",
              "      flex-wrap:wrap;\n",
              "      gap: 12px;\n",
              "    }\n",
              "\n",
              "    .colab-df-convert {\n",
              "      background-color: #E8F0FE;\n",
              "      border: none;\n",
              "      border-radius: 50%;\n",
              "      cursor: pointer;\n",
              "      display: none;\n",
              "      fill: #1967D2;\n",
              "      height: 32px;\n",
              "      padding: 0 0 0 0;\n",
              "      width: 32px;\n",
              "    }\n",
              "\n",
              "    .colab-df-convert:hover {\n",
              "      background-color: #E2EBFA;\n",
              "      box-shadow: 0px 1px 2px rgba(60, 64, 67, 0.3), 0px 1px 3px 1px rgba(60, 64, 67, 0.15);\n",
              "      fill: #174EA6;\n",
              "    }\n",
              "\n",
              "    [theme=dark] .colab-df-convert {\n",
              "      background-color: #3B4455;\n",
              "      fill: #D2E3FC;\n",
              "    }\n",
              "\n",
              "    [theme=dark] .colab-df-convert:hover {\n",
              "      background-color: #434B5C;\n",
              "      box-shadow: 0px 1px 3px 1px rgba(0, 0, 0, 0.15);\n",
              "      filter: drop-shadow(0px 1px 2px rgba(0, 0, 0, 0.3));\n",
              "      fill: #FFFFFF;\n",
              "    }\n",
              "  </style>\n",
              "\n",
              "      <script>\n",
              "        const buttonEl =\n",
              "          document.querySelector('#df-d1a1eed2-4128-45c0-95b3-eddba9b4ce2c button.colab-df-convert');\n",
              "        buttonEl.style.display =\n",
              "          google.colab.kernel.accessAllowed ? 'block' : 'none';\n",
              "\n",
              "        async function convertToInteractive(key) {\n",
              "          const element = document.querySelector('#df-d1a1eed2-4128-45c0-95b3-eddba9b4ce2c');\n",
              "          const dataTable =\n",
              "            await google.colab.kernel.invokeFunction('convertToInteractive',\n",
              "                                                     [key], {});\n",
              "          if (!dataTable) return;\n",
              "\n",
              "          const docLinkHtml = 'Like what you see? Visit the ' +\n",
              "            '<a target=\"_blank\" href=https://colab.research.google.com/notebooks/data_table.ipynb>data table notebook</a>'\n",
              "            + ' to learn more about interactive tables.';\n",
              "          element.innerHTML = '';\n",
              "          dataTable['output_type'] = 'display_data';\n",
              "          await google.colab.output.renderOutput(dataTable, element);\n",
              "          const docLink = document.createElement('div');\n",
              "          docLink.innerHTML = docLinkHtml;\n",
              "          element.appendChild(docLink);\n",
              "        }\n",
              "      </script>\n",
              "    </div>\n",
              "  </div>\n",
              "  "
            ]
          },
          "metadata": {},
          "execution_count": 6
        }
      ]
    },
    {
      "cell_type": "code",
      "source": [
        "y = np.array(cBio['Overall Survival (Months)'], dtype=float)\n",
        "X = cBio.drop('Overall Survival (Months)', axis=1)"
      ],
      "metadata": {
        "id": "qqVJxhDoe0SW"
      },
      "execution_count": 7,
      "outputs": []
    },
    {
      "cell_type": "code",
      "source": [
        "path = \"/content/drive/MyDrive/gsoc data/PathwayCommons12.reactome.hgnc.sif.gz\"\n",
        "\n",
        "\n",
        "#specify compression type because the file is compressed\n",
        "df = pd.read_csv(path, sep=\"\\t\", compression=\"gzip\", header=None, names=[\"Source\", \"InteractionType\", \"Target\"])"
      ],
      "metadata": {
        "id": "h2FVAe724Jd2"
      },
      "execution_count": 8,
      "outputs": []
    },
    {
      "cell_type": "code",
      "source": [
        "df = df.drop(columns='InteractionType')"
      ],
      "metadata": {
        "id": "-AGfsNU452Zm"
      },
      "execution_count": 9,
      "outputs": []
    },
    {
      "cell_type": "code",
      "source": [
        "df.head()"
      ],
      "metadata": {
        "colab": {
          "base_uri": "https://localhost:8080/",
          "height": 206
        },
        "id": "MR-hGnfotMG8",
        "outputId": "8577fcbf-87d4-4edf-99ce-82f62bc7424c"
      },
      "execution_count": 10,
      "outputs": [
        {
          "output_type": "execute_result",
          "data": {
            "text/plain": [
              "  Source    Target\n",
              "0   A1CF   APOBEC1\n",
              "1   A1CF   APOBEC2\n",
              "2   A1CF  APOBEC3A\n",
              "3   A1CF  APOBEC3B\n",
              "4   A1CF  APOBEC3C"
            ],
            "text/html": [
              "\n",
              "  <div id=\"df-e9703225-577b-4eeb-a0f1-405e2ab74e93\">\n",
              "    <div class=\"colab-df-container\">\n",
              "      <div>\n",
              "<style scoped>\n",
              "    .dataframe tbody tr th:only-of-type {\n",
              "        vertical-align: middle;\n",
              "    }\n",
              "\n",
              "    .dataframe tbody tr th {\n",
              "        vertical-align: top;\n",
              "    }\n",
              "\n",
              "    .dataframe thead th {\n",
              "        text-align: right;\n",
              "    }\n",
              "</style>\n",
              "<table border=\"1\" class=\"dataframe\">\n",
              "  <thead>\n",
              "    <tr style=\"text-align: right;\">\n",
              "      <th></th>\n",
              "      <th>Source</th>\n",
              "      <th>Target</th>\n",
              "    </tr>\n",
              "  </thead>\n",
              "  <tbody>\n",
              "    <tr>\n",
              "      <th>0</th>\n",
              "      <td>A1CF</td>\n",
              "      <td>APOBEC1</td>\n",
              "    </tr>\n",
              "    <tr>\n",
              "      <th>1</th>\n",
              "      <td>A1CF</td>\n",
              "      <td>APOBEC2</td>\n",
              "    </tr>\n",
              "    <tr>\n",
              "      <th>2</th>\n",
              "      <td>A1CF</td>\n",
              "      <td>APOBEC3A</td>\n",
              "    </tr>\n",
              "    <tr>\n",
              "      <th>3</th>\n",
              "      <td>A1CF</td>\n",
              "      <td>APOBEC3B</td>\n",
              "    </tr>\n",
              "    <tr>\n",
              "      <th>4</th>\n",
              "      <td>A1CF</td>\n",
              "      <td>APOBEC3C</td>\n",
              "    </tr>\n",
              "  </tbody>\n",
              "</table>\n",
              "</div>\n",
              "      <button class=\"colab-df-convert\" onclick=\"convertToInteractive('df-e9703225-577b-4eeb-a0f1-405e2ab74e93')\"\n",
              "              title=\"Convert this dataframe to an interactive table.\"\n",
              "              style=\"display:none;\">\n",
              "        \n",
              "  <svg xmlns=\"http://www.w3.org/2000/svg\" height=\"24px\"viewBox=\"0 0 24 24\"\n",
              "       width=\"24px\">\n",
              "    <path d=\"M0 0h24v24H0V0z\" fill=\"none\"/>\n",
              "    <path d=\"M18.56 5.44l.94 2.06.94-2.06 2.06-.94-2.06-.94-.94-2.06-.94 2.06-2.06.94zm-11 1L8.5 8.5l.94-2.06 2.06-.94-2.06-.94L8.5 2.5l-.94 2.06-2.06.94zm10 10l.94 2.06.94-2.06 2.06-.94-2.06-.94-.94-2.06-.94 2.06-2.06.94z\"/><path d=\"M17.41 7.96l-1.37-1.37c-.4-.4-.92-.59-1.43-.59-.52 0-1.04.2-1.43.59L10.3 9.45l-7.72 7.72c-.78.78-.78 2.05 0 2.83L4 21.41c.39.39.9.59 1.41.59.51 0 1.02-.2 1.41-.59l7.78-7.78 2.81-2.81c.8-.78.8-2.07 0-2.86zM5.41 20L4 18.59l7.72-7.72 1.47 1.35L5.41 20z\"/>\n",
              "  </svg>\n",
              "      </button>\n",
              "      \n",
              "  <style>\n",
              "    .colab-df-container {\n",
              "      display:flex;\n",
              "      flex-wrap:wrap;\n",
              "      gap: 12px;\n",
              "    }\n",
              "\n",
              "    .colab-df-convert {\n",
              "      background-color: #E8F0FE;\n",
              "      border: none;\n",
              "      border-radius: 50%;\n",
              "      cursor: pointer;\n",
              "      display: none;\n",
              "      fill: #1967D2;\n",
              "      height: 32px;\n",
              "      padding: 0 0 0 0;\n",
              "      width: 32px;\n",
              "    }\n",
              "\n",
              "    .colab-df-convert:hover {\n",
              "      background-color: #E2EBFA;\n",
              "      box-shadow: 0px 1px 2px rgba(60, 64, 67, 0.3), 0px 1px 3px 1px rgba(60, 64, 67, 0.15);\n",
              "      fill: #174EA6;\n",
              "    }\n",
              "\n",
              "    [theme=dark] .colab-df-convert {\n",
              "      background-color: #3B4455;\n",
              "      fill: #D2E3FC;\n",
              "    }\n",
              "\n",
              "    [theme=dark] .colab-df-convert:hover {\n",
              "      background-color: #434B5C;\n",
              "      box-shadow: 0px 1px 3px 1px rgba(0, 0, 0, 0.15);\n",
              "      filter: drop-shadow(0px 1px 2px rgba(0, 0, 0, 0.3));\n",
              "      fill: #FFFFFF;\n",
              "    }\n",
              "  </style>\n",
              "\n",
              "      <script>\n",
              "        const buttonEl =\n",
              "          document.querySelector('#df-e9703225-577b-4eeb-a0f1-405e2ab74e93 button.colab-df-convert');\n",
              "        buttonEl.style.display =\n",
              "          google.colab.kernel.accessAllowed ? 'block' : 'none';\n",
              "\n",
              "        async function convertToInteractive(key) {\n",
              "          const element = document.querySelector('#df-e9703225-577b-4eeb-a0f1-405e2ab74e93');\n",
              "          const dataTable =\n",
              "            await google.colab.kernel.invokeFunction('convertToInteractive',\n",
              "                                                     [key], {});\n",
              "          if (!dataTable) return;\n",
              "\n",
              "          const docLinkHtml = 'Like what you see? Visit the ' +\n",
              "            '<a target=\"_blank\" href=https://colab.research.google.com/notebooks/data_table.ipynb>data table notebook</a>'\n",
              "            + ' to learn more about interactive tables.';\n",
              "          element.innerHTML = '';\n",
              "          dataTable['output_type'] = 'display_data';\n",
              "          await google.colab.output.renderOutput(dataTable, element);\n",
              "          const docLink = document.createElement('div');\n",
              "          docLink.innerHTML = docLinkHtml;\n",
              "          element.appendChild(docLink);\n",
              "        }\n",
              "      </script>\n",
              "    </div>\n",
              "  </div>\n",
              "  "
            ]
          },
          "metadata": {},
          "execution_count": 10
        }
      ]
    },
    {
      "cell_type": "markdown",
      "source": [],
      "metadata": {
        "id": "fpy8kHb03M9y"
      }
    },
    {
      "cell_type": "code",
      "source": [
        "all_nodes = sorted(list(set(df['Source']) | set(df['Target'])))\n",
        "len(all_nodes)"
      ],
      "metadata": {
        "colab": {
          "base_uri": "https://localhost:8080/"
        },
        "id": "enN3qxwRfIV1",
        "outputId": "d5e9e6e9-9deb-4114-e340-606dc4df7525"
      },
      "execution_count": 11,
      "outputs": [
        {
          "output_type": "execute_result",
          "data": {
            "text/plain": [
              "12324"
            ]
          },
          "metadata": {},
          "execution_count": 11
        }
      ]
    },
    {
      "cell_type": "code",
      "source": [
        "len(set(all_nodes) & set(X.columns))"
      ],
      "metadata": {
        "colab": {
          "base_uri": "https://localhost:8080/"
        },
        "id": "qf-NNwBneVfU",
        "outputId": "32f84f40-39aa-4d1a-b0ef-d0cb1cb027b7"
      },
      "execution_count": 12,
      "outputs": [
        {
          "output_type": "execute_result",
          "data": {
            "text/plain": [
              "9614"
            ]
          },
          "metadata": {},
          "execution_count": 12
        }
      ]
    },
    {
      "cell_type": "code",
      "source": [
        "used_nodes = sorted(list(set(X.columns) & set(all_nodes)))\n",
        "len(used_nodes)"
      ],
      "metadata": {
        "colab": {
          "base_uri": "https://localhost:8080/"
        },
        "id": "r9LD0UajfXLg",
        "outputId": "bc1ca749-82ba-449b-e242-5b51fd2b3ce3"
      },
      "execution_count": 13,
      "outputs": [
        {
          "output_type": "execute_result",
          "data": {
            "text/plain": [
              "9614"
            ]
          },
          "metadata": {},
          "execution_count": 13
        }
      ]
    },
    {
      "cell_type": "code",
      "source": [
        "X = X.loc[:, used_nodes]\n",
        "X.head(2)"
      ],
      "metadata": {
        "colab": {
          "base_uri": "https://localhost:8080/",
          "height": 310
        },
        "id": "cDnGvGnXfMl2",
        "outputId": "47f83650-4bb5-4103-80b5-c7eb6489ae66"
      },
      "execution_count": 14,
      "outputs": [
        {
          "output_type": "execute_result",
          "data": {
            "text/plain": [
              "                 A1CF       A2M  A4GNT     AAAS      AACS   AADAC     AADAT  \\\n",
              "TCGA-OR-A5J1-01   0.0  10373.70    0.0  2225.26  1266.090  0.0000  121.0370   \n",
              "TCGA-OR-A5J2-01   0.0   9844.91    0.0  1509.46   981.613  1.2079   31.0025   \n",
              "\n",
              "                     AAK1   AANAT     AARS  ...  ZP2       ZP3  ZP4   ZRANB1  \\\n",
              "TCGA-OR-A5J1-01   868.876  1.4409  3520.65  ...  0.0  306.9160  0.0  2180.12   \n",
              "TCGA-OR-A5J2-01  1627.030  0.0000  5470.94  ...  0.0   99.4255  0.0  2553.48   \n",
              "\n",
              "                   ZRSR2  ZSCAN10     ZW10   ZWILCH    ZWINT     ZZZ3  \n",
              "TCGA-OR-A5J1-01  256.004   0.0000  253.602  183.958  146.974  596.062  \n",
              "TCGA-OR-A5J2-01  104.684   0.4026  270.165  264.125  438.464  801.637  \n",
              "\n",
              "[2 rows x 9614 columns]"
            ],
            "text/html": [
              "\n",
              "  <div id=\"df-dace0901-5555-45a8-9e01-37d30b250d02\">\n",
              "    <div class=\"colab-df-container\">\n",
              "      <div>\n",
              "<style scoped>\n",
              "    .dataframe tbody tr th:only-of-type {\n",
              "        vertical-align: middle;\n",
              "    }\n",
              "\n",
              "    .dataframe tbody tr th {\n",
              "        vertical-align: top;\n",
              "    }\n",
              "\n",
              "    .dataframe thead th {\n",
              "        text-align: right;\n",
              "    }\n",
              "</style>\n",
              "<table border=\"1\" class=\"dataframe\">\n",
              "  <thead>\n",
              "    <tr style=\"text-align: right;\">\n",
              "      <th></th>\n",
              "      <th>A1CF</th>\n",
              "      <th>A2M</th>\n",
              "      <th>A4GNT</th>\n",
              "      <th>AAAS</th>\n",
              "      <th>AACS</th>\n",
              "      <th>AADAC</th>\n",
              "      <th>AADAT</th>\n",
              "      <th>AAK1</th>\n",
              "      <th>AANAT</th>\n",
              "      <th>AARS</th>\n",
              "      <th>...</th>\n",
              "      <th>ZP2</th>\n",
              "      <th>ZP3</th>\n",
              "      <th>ZP4</th>\n",
              "      <th>ZRANB1</th>\n",
              "      <th>ZRSR2</th>\n",
              "      <th>ZSCAN10</th>\n",
              "      <th>ZW10</th>\n",
              "      <th>ZWILCH</th>\n",
              "      <th>ZWINT</th>\n",
              "      <th>ZZZ3</th>\n",
              "    </tr>\n",
              "  </thead>\n",
              "  <tbody>\n",
              "    <tr>\n",
              "      <th>TCGA-OR-A5J1-01</th>\n",
              "      <td>0.0</td>\n",
              "      <td>10373.70</td>\n",
              "      <td>0.0</td>\n",
              "      <td>2225.26</td>\n",
              "      <td>1266.090</td>\n",
              "      <td>0.0000</td>\n",
              "      <td>121.0370</td>\n",
              "      <td>868.876</td>\n",
              "      <td>1.4409</td>\n",
              "      <td>3520.65</td>\n",
              "      <td>...</td>\n",
              "      <td>0.0</td>\n",
              "      <td>306.9160</td>\n",
              "      <td>0.0</td>\n",
              "      <td>2180.12</td>\n",
              "      <td>256.004</td>\n",
              "      <td>0.0000</td>\n",
              "      <td>253.602</td>\n",
              "      <td>183.958</td>\n",
              "      <td>146.974</td>\n",
              "      <td>596.062</td>\n",
              "    </tr>\n",
              "    <tr>\n",
              "      <th>TCGA-OR-A5J2-01</th>\n",
              "      <td>0.0</td>\n",
              "      <td>9844.91</td>\n",
              "      <td>0.0</td>\n",
              "      <td>1509.46</td>\n",
              "      <td>981.613</td>\n",
              "      <td>1.2079</td>\n",
              "      <td>31.0025</td>\n",
              "      <td>1627.030</td>\n",
              "      <td>0.0000</td>\n",
              "      <td>5470.94</td>\n",
              "      <td>...</td>\n",
              "      <td>0.0</td>\n",
              "      <td>99.4255</td>\n",
              "      <td>0.0</td>\n",
              "      <td>2553.48</td>\n",
              "      <td>104.684</td>\n",
              "      <td>0.4026</td>\n",
              "      <td>270.165</td>\n",
              "      <td>264.125</td>\n",
              "      <td>438.464</td>\n",
              "      <td>801.637</td>\n",
              "    </tr>\n",
              "  </tbody>\n",
              "</table>\n",
              "<p>2 rows × 9614 columns</p>\n",
              "</div>\n",
              "      <button class=\"colab-df-convert\" onclick=\"convertToInteractive('df-dace0901-5555-45a8-9e01-37d30b250d02')\"\n",
              "              title=\"Convert this dataframe to an interactive table.\"\n",
              "              style=\"display:none;\">\n",
              "        \n",
              "  <svg xmlns=\"http://www.w3.org/2000/svg\" height=\"24px\"viewBox=\"0 0 24 24\"\n",
              "       width=\"24px\">\n",
              "    <path d=\"M0 0h24v24H0V0z\" fill=\"none\"/>\n",
              "    <path d=\"M18.56 5.44l.94 2.06.94-2.06 2.06-.94-2.06-.94-.94-2.06-.94 2.06-2.06.94zm-11 1L8.5 8.5l.94-2.06 2.06-.94-2.06-.94L8.5 2.5l-.94 2.06-2.06.94zm10 10l.94 2.06.94-2.06 2.06-.94-2.06-.94-.94-2.06-.94 2.06-2.06.94z\"/><path d=\"M17.41 7.96l-1.37-1.37c-.4-.4-.92-.59-1.43-.59-.52 0-1.04.2-1.43.59L10.3 9.45l-7.72 7.72c-.78.78-.78 2.05 0 2.83L4 21.41c.39.39.9.59 1.41.59.51 0 1.02-.2 1.41-.59l7.78-7.78 2.81-2.81c.8-.78.8-2.07 0-2.86zM5.41 20L4 18.59l7.72-7.72 1.47 1.35L5.41 20z\"/>\n",
              "  </svg>\n",
              "      </button>\n",
              "      \n",
              "  <style>\n",
              "    .colab-df-container {\n",
              "      display:flex;\n",
              "      flex-wrap:wrap;\n",
              "      gap: 12px;\n",
              "    }\n",
              "\n",
              "    .colab-df-convert {\n",
              "      background-color: #E8F0FE;\n",
              "      border: none;\n",
              "      border-radius: 50%;\n",
              "      cursor: pointer;\n",
              "      display: none;\n",
              "      fill: #1967D2;\n",
              "      height: 32px;\n",
              "      padding: 0 0 0 0;\n",
              "      width: 32px;\n",
              "    }\n",
              "\n",
              "    .colab-df-convert:hover {\n",
              "      background-color: #E2EBFA;\n",
              "      box-shadow: 0px 1px 2px rgba(60, 64, 67, 0.3), 0px 1px 3px 1px rgba(60, 64, 67, 0.15);\n",
              "      fill: #174EA6;\n",
              "    }\n",
              "\n",
              "    [theme=dark] .colab-df-convert {\n",
              "      background-color: #3B4455;\n",
              "      fill: #D2E3FC;\n",
              "    }\n",
              "\n",
              "    [theme=dark] .colab-df-convert:hover {\n",
              "      background-color: #434B5C;\n",
              "      box-shadow: 0px 1px 3px 1px rgba(0, 0, 0, 0.15);\n",
              "      filter: drop-shadow(0px 1px 2px rgba(0, 0, 0, 0.3));\n",
              "      fill: #FFFFFF;\n",
              "    }\n",
              "  </style>\n",
              "\n",
              "      <script>\n",
              "        const buttonEl =\n",
              "          document.querySelector('#df-dace0901-5555-45a8-9e01-37d30b250d02 button.colab-df-convert');\n",
              "        buttonEl.style.display =\n",
              "          google.colab.kernel.accessAllowed ? 'block' : 'none';\n",
              "\n",
              "        async function convertToInteractive(key) {\n",
              "          const element = document.querySelector('#df-dace0901-5555-45a8-9e01-37d30b250d02');\n",
              "          const dataTable =\n",
              "            await google.colab.kernel.invokeFunction('convertToInteractive',\n",
              "                                                     [key], {});\n",
              "          if (!dataTable) return;\n",
              "\n",
              "          const docLinkHtml = 'Like what you see? Visit the ' +\n",
              "            '<a target=\"_blank\" href=https://colab.research.google.com/notebooks/data_table.ipynb>data table notebook</a>'\n",
              "            + ' to learn more about interactive tables.';\n",
              "          element.innerHTML = '';\n",
              "          dataTable['output_type'] = 'display_data';\n",
              "          await google.colab.output.renderOutput(dataTable, element);\n",
              "          const docLink = document.createElement('div');\n",
              "          docLink.innerHTML = docLinkHtml;\n",
              "          element.appendChild(docLink);\n",
              "        }\n",
              "      </script>\n",
              "    </div>\n",
              "  </div>\n",
              "  "
            ]
          },
          "metadata": {},
          "execution_count": 14
        }
      ]
    },
    {
      "cell_type": "code",
      "source": [
        "source_values = df['Source'].values\n",
        "mask = np.isin(source_values, used_nodes)\n",
        "df = df.loc[mask]\n",
        "\n",
        "source_values = df['Target'].values\n",
        "mask = np.isin(source_values, used_nodes)\n",
        "df = df.loc[mask]\n",
        "df = df.reset_index(drop=True)"
      ],
      "metadata": {
        "id": "yCbpUWJxfpid"
      },
      "execution_count": 15,
      "outputs": []
    },
    {
      "cell_type": "code",
      "source": [
        "len(set(df['Source']) | set(df['Target']))"
      ],
      "metadata": {
        "colab": {
          "base_uri": "https://localhost:8080/"
        },
        "id": "4rPVPxhAfsld",
        "outputId": "6870690f-94eb-4d28-a39e-b2b4362745aa"
      },
      "execution_count": 16,
      "outputs": [
        {
          "output_type": "execute_result",
          "data": {
            "text/plain": [
              "9288"
            ]
          },
          "metadata": {},
          "execution_count": 16
        }
      ]
    },
    {
      "cell_type": "code",
      "source": [
        "columns_to_select = sorted(set(df['Source']).union(set(df['Target'])))\n",
        "X = X[columns_to_select]\n",
        "X.head(2)"
      ],
      "metadata": {
        "colab": {
          "base_uri": "https://localhost:8080/",
          "height": 310
        },
        "id": "_gbA4mcif0Ud",
        "outputId": "1991b47d-1ca4-404b-9eaa-6ac9d72770da"
      },
      "execution_count": 17,
      "outputs": [
        {
          "output_type": "execute_result",
          "data": {
            "text/plain": [
              "                 A1CF       A2M  A4GNT     AAAS      AACS     AADAT      AAK1  \\\n",
              "TCGA-OR-A5J1-01   0.0  10373.70    0.0  2225.26  1266.090  121.0370   868.876   \n",
              "TCGA-OR-A5J2-01   0.0   9844.91    0.0  1509.46   981.613   31.0025  1627.030   \n",
              "\n",
              "                  AANAT     AARS    AARS2  ...  ZP2       ZP3  ZP4   ZRANB1  \\\n",
              "TCGA-OR-A5J1-01  1.4409  3520.65  299.712  ...  0.0  306.9160  0.0  2180.12   \n",
              "TCGA-OR-A5J2-01  0.0000  5470.94  408.666  ...  0.0   99.4255  0.0  2553.48   \n",
              "\n",
              "                   ZRSR2  ZSCAN10     ZW10   ZWILCH    ZWINT     ZZZ3  \n",
              "TCGA-OR-A5J1-01  256.004   0.0000  253.602  183.958  146.974  596.062  \n",
              "TCGA-OR-A5J2-01  104.684   0.4026  270.165  264.125  438.464  801.637  \n",
              "\n",
              "[2 rows x 9288 columns]"
            ],
            "text/html": [
              "\n",
              "  <div id=\"df-24269a31-90d5-4f42-9829-23e68681b28d\">\n",
              "    <div class=\"colab-df-container\">\n",
              "      <div>\n",
              "<style scoped>\n",
              "    .dataframe tbody tr th:only-of-type {\n",
              "        vertical-align: middle;\n",
              "    }\n",
              "\n",
              "    .dataframe tbody tr th {\n",
              "        vertical-align: top;\n",
              "    }\n",
              "\n",
              "    .dataframe thead th {\n",
              "        text-align: right;\n",
              "    }\n",
              "</style>\n",
              "<table border=\"1\" class=\"dataframe\">\n",
              "  <thead>\n",
              "    <tr style=\"text-align: right;\">\n",
              "      <th></th>\n",
              "      <th>A1CF</th>\n",
              "      <th>A2M</th>\n",
              "      <th>A4GNT</th>\n",
              "      <th>AAAS</th>\n",
              "      <th>AACS</th>\n",
              "      <th>AADAT</th>\n",
              "      <th>AAK1</th>\n",
              "      <th>AANAT</th>\n",
              "      <th>AARS</th>\n",
              "      <th>AARS2</th>\n",
              "      <th>...</th>\n",
              "      <th>ZP2</th>\n",
              "      <th>ZP3</th>\n",
              "      <th>ZP4</th>\n",
              "      <th>ZRANB1</th>\n",
              "      <th>ZRSR2</th>\n",
              "      <th>ZSCAN10</th>\n",
              "      <th>ZW10</th>\n",
              "      <th>ZWILCH</th>\n",
              "      <th>ZWINT</th>\n",
              "      <th>ZZZ3</th>\n",
              "    </tr>\n",
              "  </thead>\n",
              "  <tbody>\n",
              "    <tr>\n",
              "      <th>TCGA-OR-A5J1-01</th>\n",
              "      <td>0.0</td>\n",
              "      <td>10373.70</td>\n",
              "      <td>0.0</td>\n",
              "      <td>2225.26</td>\n",
              "      <td>1266.090</td>\n",
              "      <td>121.0370</td>\n",
              "      <td>868.876</td>\n",
              "      <td>1.4409</td>\n",
              "      <td>3520.65</td>\n",
              "      <td>299.712</td>\n",
              "      <td>...</td>\n",
              "      <td>0.0</td>\n",
              "      <td>306.9160</td>\n",
              "      <td>0.0</td>\n",
              "      <td>2180.12</td>\n",
              "      <td>256.004</td>\n",
              "      <td>0.0000</td>\n",
              "      <td>253.602</td>\n",
              "      <td>183.958</td>\n",
              "      <td>146.974</td>\n",
              "      <td>596.062</td>\n",
              "    </tr>\n",
              "    <tr>\n",
              "      <th>TCGA-OR-A5J2-01</th>\n",
              "      <td>0.0</td>\n",
              "      <td>9844.91</td>\n",
              "      <td>0.0</td>\n",
              "      <td>1509.46</td>\n",
              "      <td>981.613</td>\n",
              "      <td>31.0025</td>\n",
              "      <td>1627.030</td>\n",
              "      <td>0.0000</td>\n",
              "      <td>5470.94</td>\n",
              "      <td>408.666</td>\n",
              "      <td>...</td>\n",
              "      <td>0.0</td>\n",
              "      <td>99.4255</td>\n",
              "      <td>0.0</td>\n",
              "      <td>2553.48</td>\n",
              "      <td>104.684</td>\n",
              "      <td>0.4026</td>\n",
              "      <td>270.165</td>\n",
              "      <td>264.125</td>\n",
              "      <td>438.464</td>\n",
              "      <td>801.637</td>\n",
              "    </tr>\n",
              "  </tbody>\n",
              "</table>\n",
              "<p>2 rows × 9288 columns</p>\n",
              "</div>\n",
              "      <button class=\"colab-df-convert\" onclick=\"convertToInteractive('df-24269a31-90d5-4f42-9829-23e68681b28d')\"\n",
              "              title=\"Convert this dataframe to an interactive table.\"\n",
              "              style=\"display:none;\">\n",
              "        \n",
              "  <svg xmlns=\"http://www.w3.org/2000/svg\" height=\"24px\"viewBox=\"0 0 24 24\"\n",
              "       width=\"24px\">\n",
              "    <path d=\"M0 0h24v24H0V0z\" fill=\"none\"/>\n",
              "    <path d=\"M18.56 5.44l.94 2.06.94-2.06 2.06-.94-2.06-.94-.94-2.06-.94 2.06-2.06.94zm-11 1L8.5 8.5l.94-2.06 2.06-.94-2.06-.94L8.5 2.5l-.94 2.06-2.06.94zm10 10l.94 2.06.94-2.06 2.06-.94-2.06-.94-.94-2.06-.94 2.06-2.06.94z\"/><path d=\"M17.41 7.96l-1.37-1.37c-.4-.4-.92-.59-1.43-.59-.52 0-1.04.2-1.43.59L10.3 9.45l-7.72 7.72c-.78.78-.78 2.05 0 2.83L4 21.41c.39.39.9.59 1.41.59.51 0 1.02-.2 1.41-.59l7.78-7.78 2.81-2.81c.8-.78.8-2.07 0-2.86zM5.41 20L4 18.59l7.72-7.72 1.47 1.35L5.41 20z\"/>\n",
              "  </svg>\n",
              "      </button>\n",
              "      \n",
              "  <style>\n",
              "    .colab-df-container {\n",
              "      display:flex;\n",
              "      flex-wrap:wrap;\n",
              "      gap: 12px;\n",
              "    }\n",
              "\n",
              "    .colab-df-convert {\n",
              "      background-color: #E8F0FE;\n",
              "      border: none;\n",
              "      border-radius: 50%;\n",
              "      cursor: pointer;\n",
              "      display: none;\n",
              "      fill: #1967D2;\n",
              "      height: 32px;\n",
              "      padding: 0 0 0 0;\n",
              "      width: 32px;\n",
              "    }\n",
              "\n",
              "    .colab-df-convert:hover {\n",
              "      background-color: #E2EBFA;\n",
              "      box-shadow: 0px 1px 2px rgba(60, 64, 67, 0.3), 0px 1px 3px 1px rgba(60, 64, 67, 0.15);\n",
              "      fill: #174EA6;\n",
              "    }\n",
              "\n",
              "    [theme=dark] .colab-df-convert {\n",
              "      background-color: #3B4455;\n",
              "      fill: #D2E3FC;\n",
              "    }\n",
              "\n",
              "    [theme=dark] .colab-df-convert:hover {\n",
              "      background-color: #434B5C;\n",
              "      box-shadow: 0px 1px 3px 1px rgba(0, 0, 0, 0.15);\n",
              "      filter: drop-shadow(0px 1px 2px rgba(0, 0, 0, 0.3));\n",
              "      fill: #FFFFFF;\n",
              "    }\n",
              "  </style>\n",
              "\n",
              "      <script>\n",
              "        const buttonEl =\n",
              "          document.querySelector('#df-24269a31-90d5-4f42-9829-23e68681b28d button.colab-df-convert');\n",
              "        buttonEl.style.display =\n",
              "          google.colab.kernel.accessAllowed ? 'block' : 'none';\n",
              "\n",
              "        async function convertToInteractive(key) {\n",
              "          const element = document.querySelector('#df-24269a31-90d5-4f42-9829-23e68681b28d');\n",
              "          const dataTable =\n",
              "            await google.colab.kernel.invokeFunction('convertToInteractive',\n",
              "                                                     [key], {});\n",
              "          if (!dataTable) return;\n",
              "\n",
              "          const docLinkHtml = 'Like what you see? Visit the ' +\n",
              "            '<a target=\"_blank\" href=https://colab.research.google.com/notebooks/data_table.ipynb>data table notebook</a>'\n",
              "            + ' to learn more about interactive tables.';\n",
              "          element.innerHTML = '';\n",
              "          dataTable['output_type'] = 'display_data';\n",
              "          await google.colab.output.renderOutput(dataTable, element);\n",
              "          const docLink = document.createElement('div');\n",
              "          docLink.innerHTML = docLinkHtml;\n",
              "          element.appendChild(docLink);\n",
              "        }\n",
              "      </script>\n",
              "    </div>\n",
              "  </div>\n",
              "  "
            ]
          },
          "metadata": {},
          "execution_count": 17
        }
      ]
    },
    {
      "cell_type": "code",
      "source": [
        "source_nodes = df['Source'].tolist()\n",
        "target_nodes = df['Target'].tolist()\n",
        "\n",
        "\n",
        "# Create a dictionary to map each unique node to a unique index\n",
        "node_to_index = {node: index for index, node in enumerate(X.columns)}\n",
        "\n",
        "# Map the source and target nodes to their corresponding indices\n",
        "source_indices = [node_to_index[node] for node in source_nodes]\n",
        "target_indices = [node_to_index[node] for node in target_nodes]"
      ],
      "metadata": {
        "id": "3a2Ek5R65Nwo"
      },
      "execution_count": 18,
      "outputs": []
    },
    {
      "cell_type": "code",
      "source": [
        "# Convert the source and target indices to a PyTorch tensor\n",
        "edge_index = torch.tensor([source_indices, target_indices], dtype=torch.long)"
      ],
      "metadata": {
        "id": "lDkBhxaIiSJl"
      },
      "execution_count": 19,
      "outputs": []
    },
    {
      "cell_type": "code",
      "source": [
        "edge_index.shape"
      ],
      "metadata": {
        "colab": {
          "base_uri": "https://localhost:8080/"
        },
        "id": "8AijMTwRaV2O",
        "outputId": "d0ffc063-d4da-4eca-8d26-6da75fe40c6d"
      },
      "execution_count": 20,
      "outputs": [
        {
          "output_type": "execute_result",
          "data": {
            "text/plain": [
              "torch.Size([2, 271771])"
            ]
          },
          "metadata": {},
          "execution_count": 20
        }
      ]
    },
    {
      "cell_type": "code",
      "source": [
        "# Save the tensor to a file\n",
        "file_path = 'edge_index.pt'\n",
        "torch.save(edge_index, file_path)"
      ],
      "metadata": {
        "id": "eyQvs6_5aRSG"
      },
      "execution_count": 22,
      "outputs": []
    },
    {
      "cell_type": "code",
      "source": [
        "X.shape"
      ],
      "metadata": {
        "colab": {
          "base_uri": "https://localhost:8080/"
        },
        "id": "GroowoG_FqwG",
        "outputId": "1a1f5251-03ae-4551-a0eb-ac202ad3f79f"
      },
      "execution_count": 23,
      "outputs": [
        {
          "output_type": "execute_result",
          "data": {
            "text/plain": [
              "(78, 9288)"
            ]
          },
          "metadata": {},
          "execution_count": 23
        }
      ]
    },
    {
      "cell_type": "code",
      "source": [
        "# Set the fixed index for splitting\n",
        "split_index = int(0.7 * X.shape[0])\n",
        "\n",
        "# Split the data based on the fixed index\n",
        "X_train = X[:split_index]\n",
        "X_test = X[split_index:]\n",
        "y_train = y[:split_index]\n",
        "y_test = y[split_index:]"
      ],
      "metadata": {
        "id": "A9SORNvuNaGW"
      },
      "execution_count": 24,
      "outputs": []
    },
    {
      "cell_type": "code",
      "source": [
        "X_train.shape, X_test.shape"
      ],
      "metadata": {
        "colab": {
          "base_uri": "https://localhost:8080/"
        },
        "id": "2moOSXN89L_s",
        "outputId": "ef815d2f-53cc-45fb-a978-c939150f5e27"
      },
      "execution_count": 25,
      "outputs": [
        {
          "output_type": "execute_result",
          "data": {
            "text/plain": [
              "((54, 9288), (24, 9288))"
            ]
          },
          "metadata": {},
          "execution_count": 25
        }
      ]
    },
    {
      "cell_type": "code",
      "source": [
        "import pandas as pd\n",
        "\n",
        "# Save X_train to a CSV file\n",
        "X_train.to_csv('X_train.csv')\n",
        "\n",
        "# Save X_test to a CSV file\n",
        "X_test.to_csv('X_test.csv')\n",
        "\n",
        "# Save y_train to a CSV file\n",
        "np.savetxt('y_train.csv', y_train, delimiter=',')\n",
        "\n",
        "# Save y_test to a CSV file\n",
        "np.savetxt('y_test.csv', y_test, delimiter=',')"
      ],
      "metadata": {
        "id": "k4956QlqQF_5"
      },
      "execution_count": 27,
      "outputs": []
    },
    {
      "cell_type": "code",
      "source": [
        "from torch_geometric.data import InMemoryDataset, Data, download_url\n",
        "import os"
      ],
      "metadata": {
        "id": "2vJhDwz5oX3Z"
      },
      "execution_count": 33,
      "outputs": []
    },
    {
      "cell_type": "code",
      "source": [
        "class Acc_train(InMemoryDataset):\n",
        "  # Base url to download the files\n",
        "    url = 'https://drive.google.com/drive/folders/14yIaLndKi-qsR0qzYg5QfUuS_mnIayKO?usp=drive_link'\n",
        "\n",
        "    def __init__(self, root, transform=None, pre_transform=None, pre_filter=None):\n",
        "      super().__init__(root, transform, pre_transform, pre_filter)\n",
        "      self.data, self.slices = torch.load(self.processed_paths[0])\n",
        "\n",
        "\n",
        "    @property\n",
        "    def raw_file_names(self):\n",
        "        # List of the raw files\n",
        "        return ['X_train.csv', 'y_train.csv', 'edge_index.pt']\n",
        "\n",
        "    @property\n",
        "    def processed_file_names(self):\n",
        "        return 'train_data.pt'\n",
        "\n",
        "    def download(self):\n",
        "        # Download the file specified in self.url and store\n",
        "        # it in self.raw_dir\n",
        "        download_url(self.url, self.raw_dir)\n",
        "\n",
        "    def process(self):\n",
        "\n",
        "        # Load X_train from CSV file with the index\n",
        "        X_train = pd.read_csv('X_train.csv', index_col=0)\n",
        "\n",
        "        # Load y_train from CSV file\n",
        "        y_train = np.loadtxt('y_train.csv', delimiter=',')\n",
        "\n",
        "        # Load the edge_index from the file\n",
        "        file_path = 'edge_index.pt'\n",
        "        edge_index = torch.load(file_path)\n",
        "\n",
        "        X_train = X_train.values\n",
        "\n",
        "        num_patients_train = X_train.shape[0]\n",
        "\n",
        "        # Create patient-specific graphs for the training set\n",
        "        graphs_train = []\n",
        "        for i in range(num_patients_train):\n",
        "            node_features = X_train[i]  # Node features for the i-th patient\n",
        "            target = y_train[i]  # Target label for the i-th patient\n",
        "            graph_train = (node_features, edge_index, target)\n",
        "            graphs_train.append(graph_train)\n",
        "\n",
        "        # Convert graphs_train to a list of Data objects\n",
        "        data_train = [Data(x=torch.tensor(graph[0].reshape(len(graphs_train[0][0]), 1)),\n",
        "                           edge_index=graph[1], y=torch.tensor(graph[2]).item()) for graph in graphs_train]\n",
        "\n",
        "\n",
        "        data, slices = self.collate(data_train)\n",
        "        torch.save((data, slices), self.processed_paths[0])"
      ],
      "metadata": {
        "id": "yd2NVneICXY9"
      },
      "execution_count": 34,
      "outputs": []
    },
    {
      "cell_type": "code",
      "source": [
        "class Acc_test(InMemoryDataset):\n",
        "  # Base url to download the files\n",
        "    url = 'https://drive.google.com/drive/folders/1SsCo5wiY-KgCYVzHHxF0SZSUWCtm6uwb?usp=drive_link'\n",
        "\n",
        "    def __init__(self, root, transform=None, pre_transform=None, pre_filter=None):\n",
        "      super().__init__(root, transform, pre_transform, pre_filter)\n",
        "      self.data, self.slices = torch.load(self.processed_paths[0])\n",
        "\n",
        "\n",
        "    @property\n",
        "    def raw_file_names(self):\n",
        "        # List of the raw files\n",
        "        return ['X_test.csv', 'y_test.csv', 'edge_index.pt']\n",
        "\n",
        "    @property\n",
        "    def processed_file_names(self):\n",
        "        return 'test_data.pt'\n",
        "\n",
        "    def download(self):\n",
        "        # Download the file specified in self.url and store\n",
        "        # it in self.raw_dir\n",
        "        download_url(self.url, self.raw_dir)\n",
        "\n",
        "    def process(self):\n",
        "\n",
        "        # Load X_train from CSV file with the index\n",
        "        X_test = pd.read_csv('X_test.csv', index_col=0)\n",
        "\n",
        "        # Load y_train from CSV file\n",
        "        y_test = np.loadtxt('y_test.csv', delimiter=',')\n",
        "\n",
        "        # Load the edge_index from the file\n",
        "        file_path = 'edge_index.pt'\n",
        "        edge_index = torch.load(file_path)\n",
        "\n",
        "        X_test = X_test.values\n",
        "\n",
        "        num_patients_test = X_test.shape[0]\n",
        "\n",
        "        # Create patient-specific graphs for the training set\n",
        "        graphs_test = []\n",
        "        for i in range(num_patients_test):\n",
        "            node_features = X_test[i]  # Node features for the i-th patient\n",
        "            target = y_test[i]  # Target label for the i-th patient\n",
        "            graph_test = (node_features, edge_index, target)\n",
        "            graphs_test.append(graph_test)\n",
        "\n",
        "        # Convert graphs_train to a list of Data objects\n",
        "        data_test = [Data(x=torch.tensor(graph[0].reshape(len(graphs_test[0][0]), 1)),\n",
        "                           edge_index=graph[1], y=torch.tensor(graph[2]).squeeze()) for graph in graphs_test]\n",
        "\n",
        "\n",
        "        test_data, slices = self.collate(data_test)\n",
        "        torch.save((test_data, slices), self.processed_paths[0])"
      ],
      "metadata": {
        "id": "1npsU32YvnUo"
      },
      "execution_count": 35,
      "outputs": []
    },
    {
      "cell_type": "code",
      "source": [
        "df_tr = Acc_train(root='/content/sample_data')"
      ],
      "metadata": {
        "colab": {
          "base_uri": "https://localhost:8080/"
        },
        "id": "bvaAWVL3jadP",
        "outputId": "2fb54b42-b735-4a79-b860-48cf3f0b9bea"
      },
      "execution_count": 36,
      "outputs": [
        {
          "output_type": "stream",
          "name": "stderr",
          "text": [
            "Using existing file 14yIaLndKi-qsR0qzYg5QfUuS_mnIayKO\n"
          ]
        }
      ]
    },
    {
      "cell_type": "code",
      "source": [
        "df_test = Acc_test(root='/content/sample_data')"
      ],
      "metadata": {
        "colab": {
          "base_uri": "https://localhost:8080/"
        },
        "id": "bhvoG39RuBId",
        "outputId": "bf11e41d-3678-4ebf-f367-bdf5873548db"
      },
      "execution_count": 37,
      "outputs": [
        {
          "output_type": "stream",
          "name": "stderr",
          "text": [
            "Using existing file 1SsCo5wiY-KgCYVzHHxF0SZSUWCtm6uwb\n"
          ]
        }
      ]
    },
    {
      "cell_type": "code",
      "source": [
        "df_test"
      ],
      "metadata": {
        "colab": {
          "base_uri": "https://localhost:8080/"
        },
        "id": "CLcRXaLgwdg9",
        "outputId": "05060eb8-e105-431a-bc6f-42cfb59e9aa8"
      },
      "execution_count": 38,
      "outputs": [
        {
          "output_type": "execute_result",
          "data": {
            "text/plain": [
              "Acc_test(24)"
            ]
          },
          "metadata": {},
          "execution_count": 38
        }
      ]
    },
    {
      "cell_type": "code",
      "source": [
        "df_tr"
      ],
      "metadata": {
        "colab": {
          "base_uri": "https://localhost:8080/"
        },
        "id": "oQpYu3gLwiX6",
        "outputId": "e9c09c44-1177-43c0-f917-0da18542aa35"
      },
      "execution_count": 39,
      "outputs": [
        {
          "output_type": "execute_result",
          "data": {
            "text/plain": [
              "Acc_train(54)"
            ]
          },
          "metadata": {},
          "execution_count": 39
        }
      ]
    },
    {
      "cell_type": "code",
      "source": [
        "# Access the attributes of a specific data object in the training set\n",
        "sample = df_test[0]  # Get the first data object\n",
        "print(sample)  # Print the data object\n",
        "\n",
        "# Access the node features, edge indices, and target label\n",
        "node_features = sample.x\n",
        "edge_index = sample.edge_index\n",
        "target = sample.y\n",
        "\n",
        "print(node_features)  # Print the node features\n",
        "print(edge_index)  # Print the edge indices\n",
        "print(target)  # Print the target label"
      ],
      "metadata": {
        "colab": {
          "base_uri": "https://localhost:8080/"
        },
        "id": "LeQyrGgsqM0z",
        "outputId": "42af9004-36c2-419e-b8b7-9ff7671d1585"
      },
      "execution_count": 40,
      "outputs": [
        {
          "output_type": "stream",
          "name": "stdout",
          "text": [
            "Data(x=[9288, 1], edge_index=[2, 271771], y=[1])\n",
            "tensor([[    0.0000],\n",
            "        [16494.5000],\n",
            "        [    0.0000],\n",
            "        ...,\n",
            "        [   83.4073],\n",
            "        [  106.4770],\n",
            "        [  403.7270]], dtype=torch.float64)\n",
            "tensor([[   0,    0,    0,  ..., 9287, 9287, 9287],\n",
            "        [ 451,  452,  453,  ..., 3323, 3340, 3341]])\n",
            "tensor([23.6381])\n"
          ]
        }
      ]
    },
    {
      "cell_type": "code",
      "source": [],
      "metadata": {
        "id": "3L_ahXNOr-0i"
      },
      "execution_count": 40,
      "outputs": []
    }
  ]
}